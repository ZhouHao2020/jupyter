{
 "cells": [
  {
   "cell_type": "code",
   "execution_count": 39,
   "id": "affected-success",
   "metadata": {},
   "outputs": [
    {
     "name": "stdout",
     "output_type": "stream",
     "text": [
      "2\n",
      "4\n"
     ]
    }
   ],
   "source": [
    "count = 0\n",
    "target = None\n",
    "def kThNumber(root,k ,count, target):\n",
    "    if not root or count == k:\n",
    "        return \n",
    "    kThNumber(root.left, k, count, target)\n",
    "    count += 1\n",
    "    if count == k:\n",
    "        target = root.val\n",
    "        print(target)\n",
    "    kThNumber(root.right, k ,count, target)\n",
    "\n",
    "\n",
    "kThNumber(root, 2, count, target)\n",
    "target\n",
    "    \n",
    "        \n",
    "    \n",
    "    "
   ]
  },
  {
   "cell_type": "code",
   "execution_count": 29,
   "id": "czech-october",
   "metadata": {},
   "outputs": [
    {
     "data": {
      "text/plain": [
       "5"
      ]
     },
     "execution_count": 29,
     "metadata": {},
     "output_type": "execute_result"
    }
   ],
   "source": [
    "root.right.right.val"
   ]
  },
  {
   "cell_type": "code",
   "execution_count": 3,
   "id": "another-delight",
   "metadata": {},
   "outputs": [
    {
     "data": {
      "text/plain": [
       "3"
      ]
     },
     "execution_count": 3,
     "metadata": {},
     "output_type": "execute_result"
    }
   ],
   "source": [
    "class node():\n",
    "    def __init__(self):\n",
    "        self.val = None\n",
    "        self.left = None\n",
    "        self.right = None\n",
    "\n",
    "def arrayToTree(lst, left, right):\n",
    "    if left <= right:\n",
    "        mid = (left + right) // 2\n",
    "        root = node()\n",
    "        root.val = lst[mid]\n",
    "        root.left = arrayToTree(lst, left, mid - 1)\n",
    "        root.right = arrayToTree(lst, mid + 1, right)\n",
    "        return root\n",
    "    return None\n",
    "root = arrayToTree([1,2,3,4,5], 0, 4)\n",
    "root.val\n",
    "    "
   ]
  },
  {
   "cell_type": "code",
   "execution_count": 20,
   "id": "flying-pressure",
   "metadata": {
    "scrolled": true
   },
   "outputs": [
    {
     "name": "stdout",
     "output_type": "stream",
     "text": [
      "[3]\n",
      "[4, 1]\n",
      "[2, 5]\n"
     ]
    }
   ],
   "source": [
    "def layer(root):\n",
    "    lst = []\n",
    "    lst.append(root)\n",
    "    res = []\n",
    "    flag = True\n",
    "    while lst:\n",
    "        tmpRes, tmpLayer = [], [] \n",
    "        for item in lst:\n",
    "            tmpRes.append(item.val)\n",
    "            if item.left:\n",
    "                tmpLayer.append(item.left)\n",
    "            if item.right:\n",
    "                tmpLayer.append(item.right)\n",
    "        if flag:\n",
    "            res.append(tmpRes) \n",
    "        else:\n",
    "            res.append(tmpRes[::-1])\n",
    "        flag = not flag\n",
    "        lst = tmpLayer\n",
    "        \n",
    "    return res\n",
    "ll = layer(root)\n",
    "for item in ll:\n",
    "    print(item)\n",
    "    "
   ]
  },
  {
   "cell_type": "code",
   "execution_count": null,
   "id": "collective-possibility",
   "metadata": {},
   "outputs": [],
   "source": [
    "[3]\n",
    "[1, 4]\n",
    "[2, 5]"
   ]
  },
  {
   "cell_type": "code",
   "execution_count": 15,
   "id": "warming-complexity",
   "metadata": {},
   "outputs": [],
   "source": [
    "kThNumber(root, 3, target)\n",
    "target"
   ]
  },
  {
   "cell_type": "code",
   "execution_count": 14,
   "id": "broadband-jacksonville",
   "metadata": {},
   "outputs": [],
   "source": [
    "target"
   ]
  },
  {
   "cell_type": "code",
   "execution_count": null,
   "id": "northern-memorabilia",
   "metadata": {},
   "outputs": [],
   "source": []
  }
 ],
 "metadata": {
  "kernelspec": {
   "display_name": "Python 3",
   "language": "python",
   "name": "python3"
  },
  "language_info": {
   "codemirror_mode": {
    "name": "ipython",
    "version": 3
   },
   "file_extension": ".py",
   "mimetype": "text/x-python",
   "name": "python",
   "nbconvert_exporter": "python",
   "pygments_lexer": "ipython3",
   "version": "3.9.1rc1"
  }
 },
 "nbformat": 4,
 "nbformat_minor": 5
}
