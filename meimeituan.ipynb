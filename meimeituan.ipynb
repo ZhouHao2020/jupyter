{
 "cells": [
  {
   "cell_type": "code",
   "execution_count": 14,
   "id": "comic-virtue",
   "metadata": {},
   "outputs": [
    {
     "name": "stdout",
     "output_type": "stream",
     "text": [
      "3\n",
      "1 2 3\n",
      "4 5 6\n",
      "7 8 9\n",
      "9 8 7 \n",
      "\n",
      "6 5 4 \n",
      "\n",
      "3 2 1 \n",
      "\n"
     ]
    }
   ],
   "source": [
    "def calcute(lst):\n",
    "    resultList = []\n",
    "    for item in lst[::-1]:\n",
    "        resultList.append(item[::-1])\n",
    "    return resultList\n",
    "\n",
    "n = int(input())\n",
    "lst = []\n",
    "i = 0\n",
    "while i < n:\n",
    "    temp = list(map(int, input().strip().split(\" \")))\n",
    "    lst.append(temp)\n",
    "    i += 1\n",
    "res = calcute(lst)\n",
    "for item in res:\n",
    "    for i in item:\n",
    "        print(i,end=\" \")\n",
    "    print(\"\\n\")\n",
    "    "
   ]
  },
  {
   "cell_type": "code",
   "execution_count": 33,
   "id": "secondary-postcard",
   "metadata": {},
   "outputs": [],
   "source": [
    "def merge(lst, left, mid, right):\n",
    "    i, j = left, mid + 1\n",
    "    temList = []\n",
    "    while i <= mid and j <= right:\n",
    "        if lst[i] < lst[j]:\n",
    "            temList.append(lst[i])\n",
    "            i += 1\n",
    "        else:\n",
    "            temList.append(lst[j])\n",
    "            j += 1\n",
    "    while i <= mid:\n",
    "        temList.append(lst[i])\n",
    "        i += 1\n",
    "    while j <= right:\n",
    "        temList.append(lst[j])\n",
    "        j += 1\n",
    "    lst[left: right + 1] = temList\n",
    "    \n",
    "def mergeSort(lst, left, right):\n",
    "    if left < right:\n",
    "        mid = (left + right) // 2\n",
    "        mergeSort(lst, left , mid)\n",
    "        mergeSort(lst, mid + 1, right)\n",
    "        merge(lst, left, mid, right)\n",
    "    return lst\n",
    "    \n",
    "    "
   ]
  },
  {
   "cell_type": "code",
   "execution_count": 32,
   "id": "cathedral-cherry",
   "metadata": {},
   "outputs": [
    {
     "data": {
      "text/plain": [
       "[0, 1, 2, 4, 6, 7, 9]"
      ]
     },
     "execution_count": 32,
     "metadata": {},
     "output_type": "execute_result"
    }
   ],
   "source": [
    "mergeSort([4,2,6,1,9,0,7], 0, 6)"
   ]
  },
  {
   "cell_type": "code",
   "execution_count": 40,
   "id": "saved-costume",
   "metadata": {},
   "outputs": [],
   "source": [
    "import time\n",
    "\n",
    "def deractor(function):\n",
    "    ti = time.time()\n",
    "    def inner(*args, **kwargs):\n",
    "        function(*args, **kwargs)\n",
    "        print(\"the time use\", time.time() - ti)\n",
    "        return args\n",
    "    return inner\n",
    "        \n",
    "@deractor\n",
    "def calcute(n):\n",
    "    time.sleep(1)\n",
    "    print(n)\n",
    "\n",
    "        "
   ]
  },
  {
   "cell_type": "code",
   "execution_count": 47,
   "id": "naughty-cream",
   "metadata": {},
   "outputs": [],
   "source": [
    "stat = 0\n",
    "\n",
    "if stat:\n",
    "    print(1)"
   ]
  },
  {
   "cell_type": "code",
   "execution_count": 50,
   "id": "sustainable-advertising",
   "metadata": {},
   "outputs": [],
   "source": [
    "a = 1\n",
    "b = 2"
   ]
  },
  {
   "cell_type": "code",
   "execution_count": 51,
   "id": "nominated-karen",
   "metadata": {},
   "outputs": [
    {
     "data": {
      "text/plain": [
       "False"
      ]
     },
     "execution_count": 51,
     "metadata": {},
     "output_type": "execute_result"
    }
   ],
   "source": [
    "a is b"
   ]
  },
  {
   "cell_type": "code",
   "execution_count": 53,
   "id": "described-story",
   "metadata": {},
   "outputs": [
    {
     "name": "stdout",
     "output_type": "stream",
     "text": [
      "[9, 8, 7, 6, 5, 4, 3, 2, 1, 0]\n"
     ]
    }
   ],
   "source": [
    "import random\n",
    "def bubbleSort(tempList):\n",
    "    if not tempList:\n",
    "        return []\n",
    "    lens = len(tempList)\n",
    "    for i in range(lens - 1):\n",
    "        for j in range(lens - i - 1):\n",
    "            if tempList[j] < tempList[j + 1]:\n",
    "                tempList[j], tempList[j + 1] = tempList[j + 1], tempList[j]\n",
    "    return tempList\n",
    "\n",
    "lst = [i for i in range(10)]\n",
    "random.shuffle(lst)\n",
    "resultList = bubbleSort(lst)\n",
    "print(resultList)"
   ]
  },
  {
   "cell_type": "code",
   "execution_count": 57,
   "id": "indoor-advocate",
   "metadata": {},
   "outputs": [],
   "source": [
    "resultList = []\n",
    "def getAllSub(string, start):\n",
    "    lens = len(string)\n",
    "    if start == lens - 1:\n",
    "        resultList.append(\"\".join(string))\n",
    "    else:\n",
    "        i = start\n",
    "        while i < lens:\n",
    "            string[i], string[start] = string[start], string[i]\n",
    "            getAllSub(string, start + 1)\n",
    "            string[i], string[start] = string[start], string[i]\n",
    "            i += 1\n",
    "        \n",
    "    "
   ]
  },
  {
   "cell_type": "code",
   "execution_count": 58,
   "id": "ruled-correlation",
   "metadata": {},
   "outputs": [
    {
     "name": "stdout",
     "output_type": "stream",
     "text": [
      "['abc', 'acb', 'bac', 'bca', 'cba', 'cab']\n"
     ]
    }
   ],
   "source": [
    "getAllSub(list(\"abc\"), 0)\n",
    "print(resultList)"
   ]
  },
  {
   "cell_type": "code",
   "execution_count": 61,
   "id": "certified-dallas",
   "metadata": {},
   "outputs": [
    {
     "name": "stdout",
     "output_type": "stream",
     "text": [
      "[0, None, None, None, None, None]\n",
      "[0, None, None, None, None, None]\n",
      "[0, None, None, None, None, None]\n",
      "[0, None, None, None, None, None]\n",
      "[0, None, None, None, None, None]\n",
      "[0, None, None, None, None, None]\n"
     ]
    }
   ],
   "source": [
    "len1, len2 = 5, 5\n",
    "M = [[None]*(len1 + 1) for i in range(len2 + 1)]\n",
    "i = 0\n",
    "while i < len1 + 1:\n",
    "    M[i][0] = 0\n",
    "    i +=1\n",
    "j = 0\n",
    "while j < len2 + 1:\n",
    "    M[0][j] = 0\n",
    "    j +=1\n",
    "for item in M:\n",
    "    print(item)\n",
    "    \n",
    "    "
   ]
  },
  {
   "cell_type": "code",
   "execution_count": 63,
   "id": "national-remainder",
   "metadata": {},
   "outputs": [],
   "source": [
    "# 动态规划，将上次一次的存起来，下次使用\n",
    "\n",
    "def getMaxSub(string1, string2):\n",
    "    lens1, lens2 = len(string1), len(string2)\n",
    "    matrix = [[None]*(lens1 + 1) for i in range(lens2 + 1)]\n",
    "    for i in range(lens1 + 1):\n",
    "        matrix[i][0] = 0\n",
    "    for j in range(lens2 + 1):\n",
    "        matrix[0][j] = 0\n",
    "    maxLength = 0\n",
    "    initIndex = 0\n",
    "    for i in range(1, lens1 + 1):\n",
    "        for j in range(1, lens2 + 1):\n",
    "            if string1[i - 1] == string2[j - 1]:\n",
    "                matrix[i][j] = matrix[i - 1][j - 1] + 1\n",
    "                if matrix[i][j] > maxLength:\n",
    "                    maxLength = matrix[i][j]\n",
    "                    initIndex = i\n",
    "            else:\n",
    "                matrix[i][j] = 0\n",
    "    return string1[initIndex - maxLength:initIndex]\n",
    "\n",
    "    "
   ]
  },
  {
   "cell_type": "code",
   "execution_count": 64,
   "id": "consecutive-sword",
   "metadata": {},
   "outputs": [
    {
     "data": {
      "text/plain": [
       "'cad'"
      ]
     },
     "execution_count": 64,
     "metadata": {},
     "output_type": "execute_result"
    }
   ],
   "source": [
    "getMaxSub(\"abccade\", \"dgcadde\")"
   ]
  },
  {
   "cell_type": "code",
   "execution_count": 148,
   "id": "disturbed-oklahoma",
   "metadata": {},
   "outputs": [],
   "source": [
    "class singleNode():\n",
    "    def __init__(self):\n",
    "        self.val = None\n",
    "        self.next = None\n",
    "\n",
    "def reverse(head):\n",
    "    pre = None\n",
    "    current = head\n",
    "    while current:\n",
    "        back = current.next\n",
    "        current.next = pre\n",
    "        pre = current\n",
    "        current = back\n",
    "    return pre\n",
    "     \n",
    "def reverseK(head, k):\n",
    "    root = singleNode()\n",
    "    root.next = head\n",
    "    pre = root\n",
    "    begin = head\n",
    "    i = 1\n",
    "    while begin:\n",
    "        end = begin\n",
    "        while i < k:\n",
    "            if end.next:\n",
    "                end = end.next\n",
    "            else:\n",
    "                return root.next\n",
    "            i += 1\n",
    "        pNext = end.next\n",
    "        end.next = None\n",
    "        pre.next = reverse(begin)\n",
    "        begin.next = pNext\n",
    "        pre = begin\n",
    "        begin = pNext\n",
    "        i = 1\n",
    "    return root.next\n",
    "        \n",
    "    \n",
    "    "
   ]
  },
  {
   "cell_type": "code",
   "execution_count": 152,
   "id": "annoying-ministry",
   "metadata": {},
   "outputs": [],
   "source": [
    "lst = [1,2,3,4,5,6,7]\n",
    "head = singleNode()\n",
    "head.val = lst[0]\n",
    "cur = head\n",
    "i = 1\n",
    "while i < len(lst):\n",
    "    node = singleNode()\n",
    "    node.val = lst[i]\n",
    "    cur.next = node\n",
    "    cur = node\n",
    "    i += 1\n",
    "    "
   ]
  },
  {
   "cell_type": "code",
   "execution_count": 153,
   "id": "overhead-humidity",
   "metadata": {},
   "outputs": [
    {
     "data": {
      "text/plain": [
       "<__main__.singleNode at 0x7f844b556d00>"
      ]
     },
     "execution_count": 153,
     "metadata": {},
     "output_type": "execute_result"
    }
   ],
   "source": [
    "res = reverseK(head, 2)\n",
    "res"
   ]
  },
  {
   "cell_type": "code",
   "execution_count": 154,
   "id": "piano-arthritis",
   "metadata": {
    "scrolled": true
   },
   "outputs": [
    {
     "name": "stdout",
     "output_type": "stream",
     "text": [
      "2\n",
      "1\n",
      "4\n",
      "3\n",
      "6\n",
      "5\n",
      "7\n"
     ]
    }
   ],
   "source": [
    "while res:\n",
    "    print(res.val)\n",
    "    res =res.next"
   ]
  },
  {
   "cell_type": "code",
   "execution_count": null,
   "id": "usual-machine",
   "metadata": {},
   "outputs": [],
   "source": []
  }
 ],
 "metadata": {
  "kernelspec": {
   "display_name": "Python 3",
   "language": "python",
   "name": "python3"
  },
  "language_info": {
   "codemirror_mode": {
    "name": "ipython",
    "version": 3
   },
   "file_extension": ".py",
   "mimetype": "text/x-python",
   "name": "python",
   "nbconvert_exporter": "python",
   "pygments_lexer": "ipython3",
   "version": "3.9.1rc1"
  }
 },
 "nbformat": 4,
 "nbformat_minor": 5
}
