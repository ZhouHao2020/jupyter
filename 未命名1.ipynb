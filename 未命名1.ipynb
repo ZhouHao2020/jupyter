{
 "cells": [
  {
   "cell_type": "code",
   "execution_count": 11,
   "id": "afraid-router",
   "metadata": {},
   "outputs": [
    {
     "name": "stdout",
     "output_type": "stream",
     "text": [
      "10 7 3\n",
      "FTFFFTFFFF\n",
      "6\n"
     ]
    }
   ],
   "source": [
    "n, c1, c2 = list(map(int, input().strip().split(\" \")))\n",
    "string = input()\n",
    "mins = min(c1, c2)\n",
    "def getMinMp(mins, string, n):\n",
    "    stack = []\n",
    "    stack.append(string[0])\n",
    "    stack.append(string[1])\n",
    "    count = 0\n",
    "    for i in range(2, n):\n",
    "        if stack[-1] == \"F\" and stack[-2] == \"F\":\n",
    "            stack.append(\"T\")\n",
    "            count += 1\n",
    "        else:\n",
    "            stack.append(string[i])\n",
    "    return mins*count\n",
    "\n",
    "print(getMinMp(mins, string, n))\n",
    "            \n",
    "        \n",
    "        "
   ]
  },
  {
   "cell_type": "code",
   "execution_count": 13,
   "id": "settled-parcel",
   "metadata": {},
   "outputs": [
    {
     "data": {
      "text/plain": [
       "3"
      ]
     },
     "execution_count": 13,
     "metadata": {},
     "output_type": "execute_result"
    }
   ],
   "source": [
    "[1,2,3,4][::-1].index(1)"
   ]
  },
  {
   "cell_type": "code",
   "execution_count": 19,
   "id": "discrete-jumping",
   "metadata": {},
   "outputs": [
    {
     "name": "stdout",
     "output_type": "stream",
     "text": [
      "6 4\n",
      "2 3 1 2 3 3\n",
      "1\n",
      "2\n",
      "3\n",
      "4\n",
      "3 3\n",
      "1 4\n",
      "2 6\n",
      "0\n"
     ]
    }
   ],
   "source": [
    "n, m = list(map(int, input().strip().split(\" \")))\n",
    "nList = list(map(int, input().strip().split(\" \")))\n",
    "mList = []\n",
    "for i in range(m):\n",
    "    mList.append(int(input()))\n",
    "def isIn(n, m, nList, mList):\n",
    "    result = []\n",
    "    for target in mList:\n",
    "        if target not in nList:\n",
    "            result.append(0)\n",
    "        else:\n",
    "            index1 = nList.index(target) + 1\n",
    "            index2 = n - nList[::-1].index(target) \n",
    "            result.append((index1, index2))\n",
    "    return result\n",
    "lst = isIn(n, m, nList, mList)\n",
    "for tmp in lst:\n",
    "    if tmp == 0:\n",
    "        print(0)\n",
    "    else:\n",
    "        print(tmp[0], tmp[1])"
   ]
  },
  {
   "cell_type": "code",
   "execution_count": 27,
   "id": "thrown-retrieval",
   "metadata": {},
   "outputs": [
    {
     "name": "stdout",
     "output_type": "stream",
     "text": [
      "3 2\n",
      "1 2 4\n",
      "1\n",
      "2\n",
      "3\n",
      "2\n",
      "4\n",
      "6\n",
      "6\n"
     ]
    }
   ],
   "source": [
    "n, k = list(map(int, input().strip().split(\" \")))\n",
    "lst = list(map(int, input().strip().split(\" \")))\n",
    "maxs = -1\n",
    "for i in range(n + 1 - k):\n",
    "    j = i\n",
    "    temp = 0\n",
    "    for j in range(j, k + j):\n",
    "        temp += lst[j]\n",
    "    maxs = max(maxs, temp)\n",
    "print(maxs)\n",
    "        \n"
   ]
  },
  {
   "cell_type": "code",
   "execution_count": 28,
   "id": "heated-trauma",
   "metadata": {},
   "outputs": [
    {
     "data": {
      "text/plain": [
       "23.4"
      ]
     },
     "execution_count": 28,
     "metadata": {},
     "output_type": "execute_result"
    }
   ],
   "source": [
    "20*0.18*3+20*0.63"
   ]
  },
  {
   "cell_type": "code",
   "execution_count": 15,
   "id": "religious-external",
   "metadata": {},
   "outputs": [],
   "source": [
    "# merge sort\n",
    "\n",
    "def partition(lst, left, mid, right):\n",
    "    i, j = left, mid + 1\n",
    "    tempList = []\n",
    "    while i <= mid and j <= right:\n",
    "        if lst[i] < lst[j]:\n",
    "            tempList.append(lst[i])\n",
    "            i += 1\n",
    "        else:\n",
    "            tempList.append(lst[j])\n",
    "            j += 1\n",
    "    while i <= mid:\n",
    "        tempList.append(lst[i])\n",
    "        i += 1\n",
    "    while j <= right:\n",
    "        tempList.append(lst[j])\n",
    "        j += 1\n",
    "    lst[left:right + 1] = tempList\n",
    "    return lst\n",
    "\n",
    "\n",
    "    "
   ]
  },
  {
   "cell_type": "code",
   "execution_count": 7,
   "id": "premium-robinson",
   "metadata": {},
   "outputs": [
    {
     "data": {
      "text/plain": [
       "[1, 2, 3, 4, 5, 6, 7, 9]"
      ]
     },
     "execution_count": 7,
     "metadata": {},
     "output_type": "execute_result"
    }
   ],
   "source": [
    "partition([1,3,5,7,9,2,4,6],0,4,7)"
   ]
  },
  {
   "cell_type": "code",
   "execution_count": 16,
   "id": "endless-fishing",
   "metadata": {},
   "outputs": [],
   "source": [
    "def mergeSort(lst, left, right):\n",
    "    if left < right:\n",
    "        mid = (left + right) // 2\n",
    "        mergeSort(lst, left, mid)\n",
    "        mergeSort(lst, mid + 1, right)\n",
    "        partition(lst, left, mid, right)\n",
    "    return lst"
   ]
  },
  {
   "cell_type": "code",
   "execution_count": 17,
   "id": "extended-owner",
   "metadata": {},
   "outputs": [
    {
     "data": {
      "text/plain": [
       "[1, 2, 2, 3, 5, 7, 9]"
      ]
     },
     "execution_count": 17,
     "metadata": {},
     "output_type": "execute_result"
    }
   ],
   "source": [
    "mergeSort([5,3,2,7,2,9,1],0,6)"
   ]
  },
  {
   "cell_type": "code",
   "execution_count": null,
   "id": "soviet-rugby",
   "metadata": {},
   "outputs": [],
   "source": []
  },
  {
   "cell_type": "code",
   "execution_count": 31,
   "id": "historical-kuwait",
   "metadata": {},
   "outputs": [],
   "source": [
    "# quick sort\n",
    "\n",
    "def partitions(lst,left, right):\n",
    "    temp = lst[left]\n",
    "    while left < right:\n",
    "        while left < right and lst[right] > temp:\n",
    "            right -= 1\n",
    "        lst[left] = lst[right]\n",
    "        while left < right and lst[left] < temp:\n",
    "            left += 1\n",
    "        lst[right] = lst[left]\n",
    "    lst[left] = temp\n",
    "    return left\n",
    "\n",
    "def quickSort(lst, left, right):\n",
    "    if left < right:\n",
    "        mid = partitions(lst, left, right)\n",
    "        quickSort(lst, left, mid - 1)\n",
    "        quickSort(lst,mid + 1, right)\n",
    "            "
   ]
  },
  {
   "cell_type": "code",
   "execution_count": 29,
   "id": "presidential-dancing",
   "metadata": {},
   "outputs": [
    {
     "name": "stdout",
     "output_type": "stream",
     "text": [
      "[1, 3, 2, 4, 7, 5, 6, 8]\n"
     ]
    }
   ],
   "source": [
    "lst = [4,3,5,7,2,1,6,8]\n",
    "partitions(lst,0,7)\n",
    "print(lst)"
   ]
  },
  {
   "cell_type": "code",
   "execution_count": 26,
   "id": "instructional-kitchen",
   "metadata": {},
   "outputs": [
    {
     "data": {
      "text/plain": [
       "[2, 3, 3, 4, 9, 7, 6]"
      ]
     },
     "execution_count": 26,
     "metadata": {},
     "output_type": "execute_result"
    }
   ],
   "source": [
    "lst"
   ]
  },
  {
   "cell_type": "code",
   "execution_count": 32,
   "id": "virtual-penalty",
   "metadata": {},
   "outputs": [
    {
     "ename": "KeyboardInterrupt",
     "evalue": "",
     "output_type": "error",
     "traceback": [
      "\u001b[0;31m---------------------------------------------------------------------------\u001b[0m",
      "\u001b[0;31mKeyboardInterrupt\u001b[0m                         Traceback (most recent call last)",
      "\u001b[0;32m<ipython-input-32-fae91c6cf400>\u001b[0m in \u001b[0;36m<module>\u001b[0;34m\u001b[0m\n\u001b[1;32m      1\u001b[0m \u001b[0mlst\u001b[0m \u001b[0;34m=\u001b[0m \u001b[0;34m[\u001b[0m\u001b[0;36m4\u001b[0m\u001b[0;34m,\u001b[0m\u001b[0;36m3\u001b[0m\u001b[0;34m,\u001b[0m\u001b[0;36m6\u001b[0m\u001b[0;34m,\u001b[0m\u001b[0;36m7\u001b[0m\u001b[0;34m,\u001b[0m\u001b[0;36m9\u001b[0m\u001b[0;34m,\u001b[0m\u001b[0;36m2\u001b[0m\u001b[0;34m,\u001b[0m\u001b[0;36m3\u001b[0m\u001b[0;34m]\u001b[0m\u001b[0;34m\u001b[0m\u001b[0;34m\u001b[0m\u001b[0m\n\u001b[0;32m----> 2\u001b[0;31m \u001b[0mquickSort\u001b[0m\u001b[0;34m(\u001b[0m\u001b[0mlst\u001b[0m\u001b[0;34m,\u001b[0m\u001b[0;36m0\u001b[0m\u001b[0;34m,\u001b[0m \u001b[0mlen\u001b[0m\u001b[0;34m(\u001b[0m\u001b[0mlst\u001b[0m\u001b[0;34m)\u001b[0m \u001b[0;34m-\u001b[0m \u001b[0;36m1\u001b[0m\u001b[0;34m)\u001b[0m\u001b[0;34m\u001b[0m\u001b[0;34m\u001b[0m\u001b[0m\n\u001b[0m\u001b[1;32m      3\u001b[0m \u001b[0mprint\u001b[0m\u001b[0;34m(\u001b[0m\u001b[0mlst\u001b[0m\u001b[0;34m)\u001b[0m\u001b[0;34m\u001b[0m\u001b[0;34m\u001b[0m\u001b[0m\n",
      "\u001b[0;32m<ipython-input-31-52d65c37b355>\u001b[0m in \u001b[0;36mquickSort\u001b[0;34m(lst, left, right)\u001b[0m\n\u001b[1;32m     16\u001b[0m     \u001b[0;32mif\u001b[0m \u001b[0mleft\u001b[0m \u001b[0;34m<\u001b[0m \u001b[0mright\u001b[0m\u001b[0;34m:\u001b[0m\u001b[0;34m\u001b[0m\u001b[0;34m\u001b[0m\u001b[0m\n\u001b[1;32m     17\u001b[0m         \u001b[0mmid\u001b[0m \u001b[0;34m=\u001b[0m \u001b[0mpartitions\u001b[0m\u001b[0;34m(\u001b[0m\u001b[0mlst\u001b[0m\u001b[0;34m,\u001b[0m \u001b[0mleft\u001b[0m\u001b[0;34m,\u001b[0m \u001b[0mright\u001b[0m\u001b[0;34m)\u001b[0m\u001b[0;34m\u001b[0m\u001b[0;34m\u001b[0m\u001b[0m\n\u001b[0;32m---> 18\u001b[0;31m         \u001b[0mquickSort\u001b[0m\u001b[0;34m(\u001b[0m\u001b[0mlst\u001b[0m\u001b[0;34m,\u001b[0m \u001b[0mleft\u001b[0m\u001b[0;34m,\u001b[0m \u001b[0mmid\u001b[0m \u001b[0;34m-\u001b[0m \u001b[0;36m1\u001b[0m\u001b[0;34m)\u001b[0m\u001b[0;34m\u001b[0m\u001b[0;34m\u001b[0m\u001b[0m\n\u001b[0m\u001b[1;32m     19\u001b[0m         \u001b[0mquickSort\u001b[0m\u001b[0;34m(\u001b[0m\u001b[0mlst\u001b[0m\u001b[0;34m,\u001b[0m\u001b[0mmid\u001b[0m \u001b[0;34m+\u001b[0m \u001b[0;36m1\u001b[0m\u001b[0;34m,\u001b[0m \u001b[0mright\u001b[0m\u001b[0;34m)\u001b[0m\u001b[0;34m\u001b[0m\u001b[0;34m\u001b[0m\u001b[0m\n\u001b[1;32m     20\u001b[0m \u001b[0;34m\u001b[0m\u001b[0m\n",
      "\u001b[0;32m<ipython-input-31-52d65c37b355>\u001b[0m in \u001b[0;36mquickSort\u001b[0;34m(lst, left, right)\u001b[0m\n\u001b[1;32m     15\u001b[0m \u001b[0;32mdef\u001b[0m \u001b[0mquickSort\u001b[0m\u001b[0;34m(\u001b[0m\u001b[0mlst\u001b[0m\u001b[0;34m,\u001b[0m \u001b[0mleft\u001b[0m\u001b[0;34m,\u001b[0m \u001b[0mright\u001b[0m\u001b[0;34m)\u001b[0m\u001b[0;34m:\u001b[0m\u001b[0;34m\u001b[0m\u001b[0;34m\u001b[0m\u001b[0m\n\u001b[1;32m     16\u001b[0m     \u001b[0;32mif\u001b[0m \u001b[0mleft\u001b[0m \u001b[0;34m<\u001b[0m \u001b[0mright\u001b[0m\u001b[0;34m:\u001b[0m\u001b[0;34m\u001b[0m\u001b[0;34m\u001b[0m\u001b[0m\n\u001b[0;32m---> 17\u001b[0;31m         \u001b[0mmid\u001b[0m \u001b[0;34m=\u001b[0m \u001b[0mpartitions\u001b[0m\u001b[0;34m(\u001b[0m\u001b[0mlst\u001b[0m\u001b[0;34m,\u001b[0m \u001b[0mleft\u001b[0m\u001b[0;34m,\u001b[0m \u001b[0mright\u001b[0m\u001b[0;34m)\u001b[0m\u001b[0;34m\u001b[0m\u001b[0;34m\u001b[0m\u001b[0m\n\u001b[0m\u001b[1;32m     18\u001b[0m         \u001b[0mquickSort\u001b[0m\u001b[0;34m(\u001b[0m\u001b[0mlst\u001b[0m\u001b[0;34m,\u001b[0m \u001b[0mleft\u001b[0m\u001b[0;34m,\u001b[0m \u001b[0mmid\u001b[0m \u001b[0;34m-\u001b[0m \u001b[0;36m1\u001b[0m\u001b[0;34m)\u001b[0m\u001b[0;34m\u001b[0m\u001b[0;34m\u001b[0m\u001b[0m\n\u001b[1;32m     19\u001b[0m         \u001b[0mquickSort\u001b[0m\u001b[0;34m(\u001b[0m\u001b[0mlst\u001b[0m\u001b[0;34m,\u001b[0m\u001b[0mmid\u001b[0m \u001b[0;34m+\u001b[0m \u001b[0;36m1\u001b[0m\u001b[0;34m,\u001b[0m \u001b[0mright\u001b[0m\u001b[0;34m)\u001b[0m\u001b[0;34m\u001b[0m\u001b[0;34m\u001b[0m\u001b[0m\n",
      "\u001b[0;32m<ipython-input-31-52d65c37b355>\u001b[0m in \u001b[0;36mpartitions\u001b[0;34m(lst, left, right)\u001b[0m\n\u001b[1;32m      9\u001b[0m         \u001b[0;32mwhile\u001b[0m \u001b[0mleft\u001b[0m \u001b[0;34m<\u001b[0m \u001b[0mright\u001b[0m \u001b[0;32mand\u001b[0m \u001b[0mlst\u001b[0m\u001b[0;34m[\u001b[0m\u001b[0mleft\u001b[0m\u001b[0;34m]\u001b[0m \u001b[0;34m<\u001b[0m \u001b[0mtemp\u001b[0m\u001b[0;34m:\u001b[0m\u001b[0;34m\u001b[0m\u001b[0;34m\u001b[0m\u001b[0m\n\u001b[1;32m     10\u001b[0m             \u001b[0mleft\u001b[0m \u001b[0;34m+=\u001b[0m \u001b[0;36m1\u001b[0m\u001b[0;34m\u001b[0m\u001b[0;34m\u001b[0m\u001b[0m\n\u001b[0;32m---> 11\u001b[0;31m         \u001b[0mlst\u001b[0m\u001b[0;34m[\u001b[0m\u001b[0mright\u001b[0m\u001b[0;34m]\u001b[0m \u001b[0;34m=\u001b[0m \u001b[0mlst\u001b[0m\u001b[0;34m[\u001b[0m\u001b[0mleft\u001b[0m\u001b[0;34m]\u001b[0m\u001b[0;34m\u001b[0m\u001b[0;34m\u001b[0m\u001b[0m\n\u001b[0m\u001b[1;32m     12\u001b[0m     \u001b[0mlst\u001b[0m\u001b[0;34m[\u001b[0m\u001b[0mleft\u001b[0m\u001b[0;34m]\u001b[0m \u001b[0;34m=\u001b[0m \u001b[0mtemp\u001b[0m\u001b[0;34m\u001b[0m\u001b[0;34m\u001b[0m\u001b[0m\n\u001b[1;32m     13\u001b[0m     \u001b[0;32mreturn\u001b[0m \u001b[0mleft\u001b[0m\u001b[0;34m\u001b[0m\u001b[0;34m\u001b[0m\u001b[0m\n",
      "\u001b[0;31mKeyboardInterrupt\u001b[0m: "
     ]
    }
   ],
   "source": [
    "lst = [4,3,6,7,9,2,3]\n",
    "quickSort(lst,0, len(lst) - 1)\n",
    "print(lst)"
   ]
  },
  {
   "cell_type": "code",
   "execution_count": 22,
   "id": "alike-christopher",
   "metadata": {},
   "outputs": [],
   "source": [
    "def getLongest(string1, string2):\n",
    "    lens1, lens2 = len(string1), len(string2)\n",
    "    matrix = [[None]*(lens2 + 1) for i in range(lens1 + 1)]\n",
    "    for i in range(0,lens1 + 1):\n",
    "        matrix[i][0] = 0\n",
    "    for j in range(0,lens2 + 1):\n",
    "        matrix[0][j] = 0\n",
    "    maxLength, endIndex = 0, 0\n",
    "    for i in range(1,lens1 + 1):\n",
    "        for j in range(1,lens2 + 1):\n",
    "            if string1[i - 1] == string2[j - 1]:\n",
    "                matrix[i][j] = matrix[i - 1][j - 1] + 1\n",
    "                if matrix[i][j] > maxLength:\n",
    "                    maxLength = matrix[i][j]\n",
    "                    endIndex = i\n",
    "            else:\n",
    "                matrix[i][j]    = 0\n",
    "    satrtIndex = endIndex - maxLength\n",
    "    return string1[satrtIndex:endIndex]\n",
    "        \n",
    "        \n",
    "        \n",
    "    \n",
    "    "
   ]
  },
  {
   "cell_type": "code",
   "execution_count": 24,
   "id": "least-banking",
   "metadata": {},
   "outputs": [
    {
     "data": {
      "text/plain": [
       "'asdf'"
      ]
     },
     "execution_count": 24,
     "metadata": {},
     "output_type": "execute_result"
    }
   ],
   "source": [
    "getLongest(\"asdf\",\"dtfasdfhjk\")"
   ]
  },
  {
   "cell_type": "code",
   "execution_count": null,
   "id": "built-advantage",
   "metadata": {},
   "outputs": [],
   "source": []
  }
 ],
 "metadata": {
  "kernelspec": {
   "display_name": "Python 3",
   "language": "python",
   "name": "python3"
  },
  "language_info": {
   "codemirror_mode": {
    "name": "ipython",
    "version": 3
   },
   "file_extension": ".py",
   "mimetype": "text/x-python",
   "name": "python",
   "nbconvert_exporter": "python",
   "pygments_lexer": "ipython3",
   "version": "3.9.1rc1"
  }
 },
 "nbformat": 4,
 "nbformat_minor": 5
}
