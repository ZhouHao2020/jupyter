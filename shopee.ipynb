{
 "cells": [
  {
   "cell_type": "code",
   "execution_count": 90,
   "id": "emerging-holder",
   "metadata": {},
   "outputs": [
    {
     "name": "stdout",
     "output_type": "stream",
     "text": [
      "1 2\n",
      "[[1], [1, 2], [2]]\n"
     ]
    }
   ],
   "source": [
    "# 注意有个空，输入可能是字符串\n",
    "import re, copy\n",
    "def getAllPosibilities(lst):\n",
    "    if not lst:\n",
    "        return False\n",
    "    lens = len(lst)\n",
    "    resultList = [[lst[0]]]\n",
    "    for i in range(1, lens):\n",
    "        tempList = []\n",
    "        for item in resultList:\n",
    "            temp = copy.deepcopy(item)\n",
    "            temp.append(lst[i])\n",
    "            tempList.append(temp)\n",
    "        tempList.append([lst[i]])\n",
    "        resultList += tempList\n",
    "    return resultList\n",
    "\n",
    "lst = list(map(int, input().strip().split(\" \")))  \n",
    "result = getAllPosibilities(lst)\n",
    "print(result)\n",
    " \n",
    "\n",
    "\n",
    "    \n",
    "    "
   ]
  },
  {
   "cell_type": "code",
   "execution_count": 77,
   "id": "perceived-stockholm",
   "metadata": {
    "scrolled": true
   },
   "outputs": [
    {
     "data": {
      "text/plain": [
       "True"
      ]
     },
     "execution_count": 77,
     "metadata": {},
     "output_type": "execute_result"
    }
   ],
   "source": [
    "\"[[],[1],[1,2],[2]]\" ==\"[[],[1],[1,2],[2]]\""
   ]
  },
  {
   "cell_type": "code",
   "execution_count": 81,
   "id": "sunrise-evolution",
   "metadata": {},
   "outputs": [
    {
     "data": {
      "text/plain": [
       "False"
      ]
     },
     "execution_count": 81,
     "metadata": {},
     "output_type": "execute_result"
    }
   ],
   "source": [
    "\"abc\" in \"bcdhjscabede\""
   ]
  },
  {
   "cell_type": "code",
   "execution_count": 83,
   "id": "oriental-marking",
   "metadata": {},
   "outputs": [
    {
     "ename": "KeyboardInterrupt",
     "evalue": "",
     "output_type": "error",
     "traceback": [
      "\u001b[0;31m---------------------------------------------------------------------------\u001b[0m",
      "\u001b[0;31mKeyboardInterrupt\u001b[0m                         Traceback (most recent call last)",
      "\u001b[0;32m<ipython-input-83-d0f93725835c>\u001b[0m in \u001b[0;36m<module>\u001b[0;34m\u001b[0m\n\u001b[1;32m      2\u001b[0m \u001b[0mlst\u001b[0m \u001b[0;34m=\u001b[0m \u001b[0;34m[\u001b[0m\u001b[0;34m]\u001b[0m\u001b[0;34m\u001b[0m\u001b[0;34m\u001b[0m\u001b[0m\n\u001b[1;32m      3\u001b[0m \u001b[0;32mwhile\u001b[0m \u001b[0;32mTrue\u001b[0m\u001b[0;34m:\u001b[0m\u001b[0;34m\u001b[0m\u001b[0;34m\u001b[0m\u001b[0m\n\u001b[0;32m----> 4\u001b[0;31m     \u001b[0mline\u001b[0m \u001b[0;34m=\u001b[0m \u001b[0msys\u001b[0m\u001b[0;34m.\u001b[0m\u001b[0mstdin\u001b[0m\u001b[0;34m.\u001b[0m\u001b[0mreadline\u001b[0m\u001b[0;34m(\u001b[0m\u001b[0;34m)\u001b[0m\u001b[0;34m.\u001b[0m\u001b[0mstrip\u001b[0m\u001b[0;34m(\u001b[0m\u001b[0;34m)\u001b[0m\u001b[0;34m\u001b[0m\u001b[0;34m\u001b[0m\u001b[0m\n\u001b[0m\u001b[1;32m      5\u001b[0m     \u001b[0mlst\u001b[0m\u001b[0;34m.\u001b[0m\u001b[0mappend\u001b[0m\u001b[0;34m(\u001b[0m\u001b[0mline\u001b[0m\u001b[0;34m.\u001b[0m\u001b[0msplit\u001b[0m\u001b[0;34m(\u001b[0m\u001b[0;34m\" \"\u001b[0m\u001b[0;34m)\u001b[0m\u001b[0;34m)\u001b[0m\u001b[0;34m\u001b[0m\u001b[0;34m\u001b[0m\u001b[0m\n\u001b[1;32m      6\u001b[0m \u001b[0mprint\u001b[0m\u001b[0;34m(\u001b[0m\u001b[0mlst\u001b[0m\u001b[0;34m)\u001b[0m\u001b[0;34m\u001b[0m\u001b[0;34m\u001b[0m\u001b[0m\n",
      "\u001b[0;32m/Library/Frameworks/Python.framework/Versions/3.9/lib/python3.9/codecs.py\u001b[0m in \u001b[0;36mdecode\u001b[0;34m(self, input, final)\u001b[0m\n\u001b[1;32m    320\u001b[0m         \u001b[0;31m# decode input (taking the buffer into account)\u001b[0m\u001b[0;34m\u001b[0m\u001b[0;34m\u001b[0m\u001b[0;34m\u001b[0m\u001b[0m\n\u001b[1;32m    321\u001b[0m         \u001b[0mdata\u001b[0m \u001b[0;34m=\u001b[0m \u001b[0mself\u001b[0m\u001b[0;34m.\u001b[0m\u001b[0mbuffer\u001b[0m \u001b[0;34m+\u001b[0m \u001b[0minput\u001b[0m\u001b[0;34m\u001b[0m\u001b[0;34m\u001b[0m\u001b[0m\n\u001b[0;32m--> 322\u001b[0;31m         \u001b[0;34m(\u001b[0m\u001b[0mresult\u001b[0m\u001b[0;34m,\u001b[0m \u001b[0mconsumed\u001b[0m\u001b[0;34m)\u001b[0m \u001b[0;34m=\u001b[0m \u001b[0mself\u001b[0m\u001b[0;34m.\u001b[0m\u001b[0m_buffer_decode\u001b[0m\u001b[0;34m(\u001b[0m\u001b[0mdata\u001b[0m\u001b[0;34m,\u001b[0m \u001b[0mself\u001b[0m\u001b[0;34m.\u001b[0m\u001b[0merrors\u001b[0m\u001b[0;34m,\u001b[0m \u001b[0mfinal\u001b[0m\u001b[0;34m)\u001b[0m\u001b[0;34m\u001b[0m\u001b[0;34m\u001b[0m\u001b[0m\n\u001b[0m\u001b[1;32m    323\u001b[0m         \u001b[0;31m# keep undecoded input until the next call\u001b[0m\u001b[0;34m\u001b[0m\u001b[0;34m\u001b[0m\u001b[0;34m\u001b[0m\u001b[0m\n\u001b[1;32m    324\u001b[0m         \u001b[0mself\u001b[0m\u001b[0;34m.\u001b[0m\u001b[0mbuffer\u001b[0m \u001b[0;34m=\u001b[0m \u001b[0mdata\u001b[0m\u001b[0;34m[\u001b[0m\u001b[0mconsumed\u001b[0m\u001b[0;34m:\u001b[0m\u001b[0;34m]\u001b[0m\u001b[0;34m\u001b[0m\u001b[0;34m\u001b[0m\u001b[0m\n",
      "\u001b[0;31mKeyboardInterrupt\u001b[0m: "
     ]
    }
   ],
   "source": [
    "n = int(input())\n",
    "def calcute(n):\n",
    "    if n < 0:\n",
    "        return \n",
    "    if n <= 2:\n",
    "        return n\n",
    "    a, b = 1, 2\n",
    "    for i in range(2, n):\n",
    "        a, b = b, a + b\n",
    "    return b\n",
    "\n",
    "print(calcute(n))\n",
    "\n",
    "\n"
   ]
  },
  {
   "cell_type": "code",
   "execution_count": 87,
   "id": "collaborative-airplane",
   "metadata": {},
   "outputs": [
    {
     "name": "stdout",
     "output_type": "stream",
     "text": [
      "4\n",
      "5\n"
     ]
    }
   ],
   "source": [
    "n = int(input())\n",
    "def calcute(n):\n",
    "    if n < 0:\n",
    "        return \n",
    "    if n <= 2:\n",
    "        return n\n",
    "    a, b = 1, 2\n",
    "    for i in range(2, n):\n",
    "        a, b = b, a + b\n",
    "    return b\n",
    "\n",
    "print(calcute(n))\n",
    "\n",
    "\n"
   ]
  },
  {
   "cell_type": "code",
   "execution_count": 100,
   "id": "blocked-macedonia",
   "metadata": {},
   "outputs": [
    {
     "name": "stdout",
     "output_type": "stream",
     "text": [
      "1,2,3,4\n",
      "[[],[1],[1,2],[1,2,3],[1,2,3,4],[1,2,4],[1,3],[1,3,4],[1,4],[2],[2,3],[2,3,4],[2,4],[3],[3,4],[4]]\n"
     ]
    }
   ],
   "source": [
    "# 注意有个空，输入可能是字符串\n",
    "import re, copy\n",
    "def getAllPosibilities(lst):\n",
    "    if not lst:\n",
    "        return False\n",
    "    lens = len(lst)\n",
    "    resultList = [[lst[0]]]\n",
    "    for i in range(1, lens):\n",
    "        tempList = []\n",
    "        for item in resultList:\n",
    "            temp = copy.deepcopy(item)\n",
    "            temp.append(lst[i])\n",
    "            tempList.append(temp)\n",
    "        tempList.append([lst[i]])\n",
    "        resultList += tempList\n",
    "    return resultList\n",
    "string = input()\n",
    "lst = re.findall(\"\\d+\", string)  \n",
    "result = getAllPosibilities(lst)\n",
    "result.sort()\n",
    "if not result:\n",
    "    print(\"\")\n",
    "else:\n",
    "    res = \"[]\"\n",
    "    for item in result:\n",
    "        temp =  \",\" + \"[\" +  \",\".join(item) + \"]\"\n",
    "        res += temp\n",
    "    print( \"[\" + res + \"]\")\n",
    " \n",
    "\n",
    "\n",
    "    \n",
    "    "
   ]
  },
  {
   "cell_type": "code",
   "execution_count": 97,
   "id": "floppy-longitude",
   "metadata": {},
   "outputs": [],
   "source": [
    "ls =[[],[1],[1,2],[2],[1,3],[1,2,3],[2,3],[3],[1,4],[1,2,4],[2,4],[1,3,4],[1,2,3,4],[2,3,4],[3,4],[4]]\n"
   ]
  },
  {
   "cell_type": "code",
   "execution_count": 98,
   "id": "second-generation",
   "metadata": {},
   "outputs": [],
   "source": [
    "ls.sort()"
   ]
  },
  {
   "cell_type": "code",
   "execution_count": null,
   "id": "adapted-polls",
   "metadata": {},
   "outputs": [],
   "source": [
    "# 注意有个空，输入可能是字符串\n",
    "import re, copy\n",
    "def getAllPosibilities(lst):\n",
    "    if not lst:\n",
    "        return False\n",
    "    lens = len(lst)\n",
    "    resultList = [[lst[0]]]\n",
    "    for i in range(1, lens):\n",
    "        tempList = []\n",
    "        for item in resultList:\n",
    "            temp = copy.deepcopy(item)\n",
    "            temp.append(lst[i])\n",
    "            tempList.append(temp)\n",
    "        tempList.append([lst[i]])\n",
    "        resultList += tempList\n",
    "    return resultList\n",
    "string = input()\n",
    "lst = re.findall(\"\\d+\", string)  \n",
    "result = getAllPosibilities(lst)\n",
    "result.sort()\n",
    "if not result:\n",
    "    print(\"[]\")\n",
    "else:\n",
    "    res = \"[]\"\n",
    "    for item in result:\n",
    "        temp =  \",\" + \"[\" +  \",\".join(item) + \"]\"\n",
    "        res += temp\n",
    "    print( \"[\" + res + \"]\")\n",
    " \n",
    "\n",
    "\n",
    "    \n",
    "    "
   ]
  },
  {
   "cell_type": "code",
   "execution_count": null,
   "id": "integrated-brunei",
   "metadata": {},
   "outputs": [],
   "source": [
    "import sys  \n",
    "lst = [] \n",
    "for i in range(1):\n",
    "    line = sys.stdin.readline().strip()  \n",
    "    lst.append(line.split(\" \"))\n",
    "if not lst:\n",
    "    print(1)\n",
    "else:\n",
    "    for item in lst:\n",
    "        if item[0] in item[1] or item[1] in item[0]:\n",
    "            print(1)\n",
    "        else:\n",
    "            print(0)\n",
    "\n"
   ]
  },
  {
   "cell_type": "code",
   "execution_count": null,
   "id": "selective-nickname",
   "metadata": {},
   "outputs": [],
   "source": [
    "n = int(input())\n",
    "def calcute(n):\n",
    "    if n < 0:\n",
    "        return \n",
    "    if n <= 2:\n",
    "        return n\n",
    "    a, b = 1, 2\n",
    "    for i in range(2, n):\n",
    "        a, b = b, a + b\n",
    "    return b\n",
    "\n",
    "print(calcute(n))\n",
    "\n",
    "\n"
   ]
  }
 ],
 "metadata": {
  "kernelspec": {
   "display_name": "Python 3",
   "language": "python",
   "name": "python3"
  },
  "language_info": {
   "codemirror_mode": {
    "name": "ipython",
    "version": 3
   },
   "file_extension": ".py",
   "mimetype": "text/x-python",
   "name": "python",
   "nbconvert_exporter": "python",
   "pygments_lexer": "ipython3",
   "version": "3.9.1rc1"
  }
 },
 "nbformat": 4,
 "nbformat_minor": 5
}
