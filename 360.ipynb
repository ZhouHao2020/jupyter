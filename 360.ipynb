{
 "cells": [
  {
   "cell_type": "markdown",
   "id": "crazy-india",
   "metadata": {},
   "source": [
    "#### 小明得到一个只包含a,b两个字符的字符串，但是小明不希望在这个字符串里a出现在b左边。现在他可以将”ab”这样的子串替换成”bba”，在原串中的相对位置不变。输出小明最少需要操作多少次才能让一个给定字符串所有a都在b的右边。"
   ]
  },
  {
   "cell_type": "code",
   "execution_count": null,
   "id": "fancy-travel",
   "metadata": {},
   "outputs": [],
   "source": [
    "def calcute(string):\n",
    "    if not string:\n",
    "        return 0\n",
    "    i, lens = 0, len(string)\n",
    "    aCount = 0\n",
    "    sums = 0\n",
    "    while i < lens:\n",
    "        if string[i] == \"a\":\n",
    "            aCount += 1\n",
    "        else:\n",
    "            sums += (2**aCount - 1)\n",
    "        i += 1\n",
    "    return sums % 1000000007\n",
    "string = input()\n",
    "print(calcute(string))\n",
    "    \n",
    "    "
   ]
  },
  {
   "cell_type": "code",
   "execution_count": null,
   "id": "fewer-chinese",
   "metadata": {},
   "outputs": [],
   "source": [
    "# class TreeNode:\n",
    "#     def __init__(self, x):\n",
    "#         self.val = x\n",
    "#         self.left = None\n",
    "#         self.right = None\n",
    " \n",
    "#\n",
    "#\n",
    "# @param root TreeNode类\n",
    "# @return int整型二维数组\n",
    "#\n",
    "class Solution:\n",
    "    def zigzagLevelOrder(self , root ):\n",
    "        # write code here\n",
    "        if root is None:\n",
    "            return []\n",
    "        result=[]\n",
    "        tmp=[root]\n",
    "        flag=False\n",
    "        while len(tmp)>0:\n",
    "            temp=[]\n",
    "            res=[]\n",
    "            for i in tmp:\n",
    "                if i.left:\n",
    "                    temp.append(i.left)\n",
    "                if i.right:\n",
    "                    temp.append(i.right)\n",
    "                if not flag:\n",
    "                    res.append(i.val)\n",
    "                else:\n",
    "                    res.insert(0,i.val)\n",
    "            tmp=temp\n",
    "            flag=not flag\n",
    "            result.append(res)\n",
    "        return result  \n",
    "    "
   ]
  },
  {
   "cell_type": "code",
   "execution_count": 38,
   "id": "disabled-manitoba",
   "metadata": {},
   "outputs": [],
   "source": [
    "def ziOrderTree(root):\n",
    "    if not root:\n",
    "        return []\n",
    "    resultList, layerList = [], [root]\n",
    "    flag = True\n",
    "    while layerList:\n",
    "        tempResult, tempLayer = [], []\n",
    "        for item in layerList:\n",
    "            tempResult.append(item.val)\n",
    "            if item.left:\n",
    "                tempLayer.append(item.left)\n",
    "            if item.right:\n",
    "                tempLayer.append(item.right)\n",
    "        if flag:\n",
    "            resultList.append(tempResult)\n",
    "        else:\n",
    "            resultList.append(tempResult[::-1])\n",
    "        layerList = tempLayer\n",
    "        flag = not flag\n",
    "    return resultList\n",
    "    "
   ]
  },
  {
   "cell_type": "code",
   "execution_count": 39,
   "id": "danish-theme",
   "metadata": {},
   "outputs": [],
   "source": [
    "class TreeNode:\n",
    "    def __init__(self):\n",
    "        self.val = None\n",
    "        self.left = None\n",
    "        self.right = None\n",
    "\n",
    "\n",
    "\n",
    "def arrayToList(lst, left, right):\n",
    "    if left <= right:\n",
    "        mid = (left + right) // 2\n",
    "        root = TreeNode()\n",
    "        root.val = lst[mid]\n",
    "        root.left = arrayToList(lst, left, mid - 1)\n",
    "        root.right = arrayToList(lst, mid + 1, right)\n",
    "        return root\n",
    "    return None\n",
    "        \n",
    "        \n",
    "    "
   ]
  },
  {
   "cell_type": "code",
   "execution_count": 43,
   "id": "prostate-advocate",
   "metadata": {},
   "outputs": [],
   "source": [
    "root = arrayToList([1,2,3,4,5,6,7,8], 0, 7)"
   ]
  },
  {
   "cell_type": "code",
   "execution_count": 41,
   "id": "nasty-morrison",
   "metadata": {},
   "outputs": [],
   "source": [
    "ob = Solution()"
   ]
  },
  {
   "cell_type": "code",
   "execution_count": 44,
   "id": "surrounded-nightlife",
   "metadata": {},
   "outputs": [
    {
     "data": {
      "text/plain": [
       "[[4], [6, 2], [1, 3, 5, 7], [8]]"
      ]
     },
     "execution_count": 44,
     "metadata": {},
     "output_type": "execute_result"
    }
   ],
   "source": [
    "lst = ob.zigzagLevelOrder(root)\n",
    "lst"
   ]
  },
  {
   "cell_type": "code",
   "execution_count": 46,
   "id": "mathematical-apartment",
   "metadata": {},
   "outputs": [],
   "source": [
    "lst = [\"a\", \"b\", \"c\"]"
   ]
  },
  {
   "cell_type": "code",
   "execution_count": 47,
   "id": "instrumental-highland",
   "metadata": {},
   "outputs": [],
   "source": [
    "def getALl(lst):\n",
    "    resultList = [lst[0]]\n",
    "    for i in range(1, len(lst)):\n",
    "        tempList = []\n",
    "        for item in resultList:\n",
    "            tempList.append(item + lst[i])\n",
    "        tempList.append(lst[i])\n",
    "        resultList += tempList\n",
    "    return resultList\n",
    "        \n",
    "    "
   ]
  },
  {
   "cell_type": "code",
   "execution_count": 48,
   "id": "wrapped-graphic",
   "metadata": {},
   "outputs": [
    {
     "data": {
      "text/plain": [
       "['a', 'ab', 'b', 'ac', 'abc', 'bc', 'c']"
      ]
     },
     "execution_count": 48,
     "metadata": {},
     "output_type": "execute_result"
    }
   ],
   "source": [
    "getALl(lst)"
   ]
  },
  {
   "cell_type": "code",
   "execution_count": 53,
   "id": "occupied-hanging",
   "metadata": {},
   "outputs": [],
   "source": [
    "def insertSort(lst):\n",
    "    i, lens = 1, len(lst)\n",
    "    while i < lens:\n",
    "        temp = lst[i]\n",
    "        j = i - 1\n",
    "        while j >= 0 and lst[j] > temp:\n",
    "            lst[j + 1] = lst[j]\n",
    "            j -= 1\n",
    "        lst[j + 1] = temp\n",
    "        i += 1\n",
    "    return lst\n",
    "        \n",
    "    "
   ]
  },
  {
   "cell_type": "code",
   "execution_count": 54,
   "id": "spare-showcase",
   "metadata": {},
   "outputs": [
    {
     "data": {
      "text/plain": [
       "[2, 3, 6, 7, 8]"
      ]
     },
     "execution_count": 54,
     "metadata": {},
     "output_type": "execute_result"
    }
   ],
   "source": [
    "insertSort([3,6,2,7,8])"
   ]
  },
  {
   "cell_type": "code",
   "execution_count": 56,
   "id": "secondary-bargain",
   "metadata": {},
   "outputs": [],
   "source": [
    "res = []\n",
    "def get(string, start):\n",
    "    lens = len(string)\n",
    "    if start == lens - 1:\n",
    "        res.append(\"\".join(string))\n",
    "    else:\n",
    "        i = start\n",
    "        while i < lens:\n",
    "            string[i], string[start] = string[start], string[i]\n",
    "            get(string, start + 1)\n",
    "            string[i], string[start] = string[start], string[i]\n",
    "            i += 1\n",
    "            \n",
    "            \n",
    "        "
   ]
  },
  {
   "cell_type": "code",
   "execution_count": 71,
   "id": "monetary-insert",
   "metadata": {},
   "outputs": [
    {
     "data": {
      "text/plain": [
       "[0, 1, 2, 3, 4, 5, 6, 7, 8, 9]"
      ]
     },
     "execution_count": 71,
     "metadata": {},
     "output_type": "execute_result"
    }
   ],
   "source": [
    "lst = [i for i in range(10)]\n",
    "lst"
   ]
  },
  {
   "cell_type": "code",
   "execution_count": 72,
   "id": "rural-pocket",
   "metadata": {},
   "outputs": [],
   "source": [
    "tempList = []\n",
    "for i in range(len(lst) - 2):tempList.append(sum(lst[i:i + 3]))  \n",
    "    "
   ]
  },
  {
   "cell_type": "code",
   "execution_count": 73,
   "id": "broke-triangle",
   "metadata": {},
   "outputs": [
    {
     "data": {
      "text/plain": [
       "[3, 6, 9, 12, 15, 18, 21, 24]"
      ]
     },
     "execution_count": 73,
     "metadata": {},
     "output_type": "execute_result"
    }
   ],
   "source": [
    "tempList"
   ]
  },
  {
   "cell_type": "code",
   "execution_count": null,
   "id": "gothic-matthew",
   "metadata": {},
   "outputs": [],
   "source": []
  }
 ],
 "metadata": {
  "kernelspec": {
   "display_name": "Python 3",
   "language": "python",
   "name": "python3"
  },
  "language_info": {
   "codemirror_mode": {
    "name": "ipython",
    "version": 3
   },
   "file_extension": ".py",
   "mimetype": "text/x-python",
   "name": "python",
   "nbconvert_exporter": "python",
   "pygments_lexer": "ipython3",
   "version": "3.9.1rc1"
  }
 },
 "nbformat": 4,
 "nbformat_minor": 5
}
