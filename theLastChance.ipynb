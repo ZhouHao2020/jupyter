{
 "cells": [
  {
   "cell_type": "code",
   "execution_count": 9,
   "id": "qualified-advisory",
   "metadata": {},
   "outputs": [],
   "source": [
    "def findPiars(lst):\n",
    "    hashSet = dict()\n",
    "    i, n = 0, len(lst)\n",
    "    while i < n:\n",
    "        j = i + 1\n",
    "        while j < n:\n",
    "            sums = lst[i] + lst[j]\n",
    "            if sums not in hashSet:\n",
    "                hashSet[sums] = (lst[i], lst[j])\n",
    "            else:\n",
    "                print(str(hashSet[sums]), str((lst[i], lst[j])))\n",
    "                \n",
    "            j += 1\n",
    "        i += 1\n",
    "        \n",
    "     "
   ]
  },
  {
   "cell_type": "code",
   "execution_count": 10,
   "id": "hydraulic-symposium",
   "metadata": {
    "scrolled": true
   },
   "outputs": [
    {
     "name": "stdout",
     "output_type": "stream",
     "text": [
      "(3, 8) (4, 7)\n",
      "(3, 10) (4, 9)\n",
      "(3, 9) (4, 8)\n",
      "(7, 10) (9, 8)\n"
     ]
    }
   ],
   "source": [
    "findPiars([3,4,7,10,20,9,8])"
   ]
  },
  {
   "cell_type": "code",
   "execution_count": 11,
   "id": "efficient-funds",
   "metadata": {},
   "outputs": [],
   "source": [
    "class singleNOde(object):\n",
    "    def __init__(self):\n",
    "        self.val = None\n",
    "        self.left = None\n",
    "        self.right = None\n",
    "\n",
    "def arrayToTree(lst, left, right):\n",
    "    if left > right:\n",
    "        return None\n",
    "    mid = (left + right) // 2\n",
    "    node = singleNOde()\n",
    "    node.val = lst[mid]\n",
    "    node.left = arrayToTree(lst, left, mid - 1)\n",
    "    node.right = arrayToTree(lst, mid + 1, right)\n",
    "    return node\n"
   ]
  },
  {
   "cell_type": "code",
   "execution_count": 13,
   "id": "incredible-stretch",
   "metadata": {},
   "outputs": [],
   "source": [
    "root = arrayToTree([1,2,3,4,5,6], 0, 5)"
   ]
  },
  {
   "cell_type": "code",
   "execution_count": 17,
   "id": "attended-innocent",
   "metadata": {},
   "outputs": [],
   "source": [
    "def inOrder(root):\n",
    "    if not root:\n",
    "        return\n",
    "    print(root.val, end=\" \")\n",
    "    inOrder(root.left)\n",
    "    inOrder(root.right)"
   ]
  },
  {
   "cell_type": "code",
   "execution_count": null,
   "id": "republican-romania",
   "metadata": {},
   "outputs": [],
   "source": [
    "[1, 2, 3, 4, 5, 6]"
   ]
  },
  {
   "cell_type": "markdown",
   "id": "material-madness",
   "metadata": {},
   "source": [
    "     3\n",
    "   1    5\n",
    "    2 4  6"
   ]
  },
  {
   "cell_type": "code",
   "execution_count": 18,
   "id": "median-conservative",
   "metadata": {
    "scrolled": true
   },
   "outputs": [
    {
     "name": "stdout",
     "output_type": "stream",
     "text": [
      "3 1 2 5 4 6 "
     ]
    }
   ],
   "source": [
    "inOrder(root)"
   ]
  },
  {
   "cell_type": "code",
   "execution_count": 27,
   "id": "authentic-essence",
   "metadata": {},
   "outputs": [],
   "source": [
    "def midOrder(root):\n",
    "    if not root:\n",
    "        return\n",
    "    midOrder(root.left)\n",
    "    print(root.val, end = \",\")\n",
    "    midOrder(root.right)"
   ]
  },
  {
   "cell_type": "code",
   "execution_count": 28,
   "id": "interstate-design",
   "metadata": {},
   "outputs": [
    {
     "name": "stdout",
     "output_type": "stream",
     "text": [
      "1,2,3,4,5,6,"
     ]
    }
   ],
   "source": [
    "midOrder(root)"
   ]
  },
  {
   "cell_type": "code",
   "execution_count": 30,
   "id": "impaired-break",
   "metadata": {},
   "outputs": [],
   "source": [
    "def backOrder(root):\n",
    "    if not root:\n",
    "        return\n",
    "    backOrder(root.left)\n",
    "    backOrder(root.right)\n",
    "    print(root.val, end = \",\")"
   ]
  },
  {
   "cell_type": "code",
   "execution_count": 31,
   "id": "vietnamese-opportunity",
   "metadata": {},
   "outputs": [
    {
     "name": "stdout",
     "output_type": "stream",
     "text": [
      "2,1,4,6,5,3,"
     ]
    }
   ],
   "source": [
    "backOrder(root)"
   ]
  },
  {
   "cell_type": "code",
   "execution_count": 11,
   "id": "innocent-parker",
   "metadata": {},
   "outputs": [],
   "source": [
    "from collections import deque\n",
    "def layerOrder(root):\n",
    "    queue = deque()\n",
    "    queue.append(root)\n",
    "    while queue:\n",
    "#         tempList = []\n",
    "        node = queue.popleft()\n",
    "#         tempList.append(node.val)\n",
    "        print(node.val, end=\",\")\n",
    "        if node.left:\n",
    "            queue.append(node.left)\n",
    "        if node.right:\n",
    "            queue.append(node.right)\n",
    "            "
   ]
  },
  {
   "cell_type": "code",
   "execution_count": 20,
   "id": "optimum-romania",
   "metadata": {},
   "outputs": [
    {
     "name": "stdout",
     "output_type": "stream",
     "text": [
      "3,1,5,2,4,6,"
     ]
    }
   ],
   "source": [
    "layerOrder(root)"
   ]
  },
  {
   "cell_type": "code",
   "execution_count": 1,
   "id": "painful-fruit",
   "metadata": {},
   "outputs": [],
   "source": [
    "import heapq\n",
    "lst = [5,8,2,9,3,7,1]\n",
    "heapq.heapify(lst)\n",
    "\n",
    "\n"
   ]
  },
  {
   "cell_type": "code",
   "execution_count": 9,
   "id": "dated-terrorist",
   "metadata": {},
   "outputs": [
    {
     "ename": "IndexError",
     "evalue": "index out of range",
     "output_type": "error",
     "traceback": [
      "\u001b[0;31m---------------------------------------------------------------------------\u001b[0m",
      "\u001b[0;31mIndexError\u001b[0m                                Traceback (most recent call last)",
      "\u001b[0;32m<ipython-input-9-f47c9b0b821e>\u001b[0m in \u001b[0;36m<module>\u001b[0;34m\u001b[0m\n\u001b[0;32m----> 1\u001b[0;31m \u001b[0mheapq\u001b[0m\u001b[0;34m.\u001b[0m\u001b[0mheappop\u001b[0m\u001b[0;34m(\u001b[0m\u001b[0mlst\u001b[0m\u001b[0;34m)\u001b[0m\u001b[0;34m\u001b[0m\u001b[0;34m\u001b[0m\u001b[0m\n\u001b[0m",
      "\u001b[0;31mIndexError\u001b[0m: index out of range"
     ]
    }
   ],
   "source": [
    "heapq.heappop(lst)"
   ]
  },
  {
   "cell_type": "code",
   "execution_count": 10,
   "id": "initial-hindu",
   "metadata": {},
   "outputs": [
    {
     "data": {
      "text/plain": [
       "1"
      ]
     },
     "execution_count": 10,
     "metadata": {},
     "output_type": "execute_result"
    }
   ],
   "source": [
    "abs(1 - 2)"
   ]
  },
  {
   "cell_type": "code",
   "execution_count": 13,
   "id": "wrapped-johnson",
   "metadata": {},
   "outputs": [],
   "source": [
    "import requests"
   ]
  },
  {
   "cell_type": "code",
   "execution_count": 16,
   "id": "stuffed-progress",
   "metadata": {},
   "outputs": [
    {
     "data": {
      "text/plain": [
       "<module 'requests.sessions' from '/Library/Frameworks/Python.framework/Versions/3.9/lib/python3.9/site-packages/requests/sessions.py'>"
      ]
     },
     "execution_count": 16,
     "metadata": {},
     "output_type": "execute_result"
    }
   ],
   "source": [
    "requests.api.sessions"
   ]
  },
  {
   "cell_type": "code",
   "execution_count": 29,
   "id": "careful-insert",
   "metadata": {},
   "outputs": [],
   "source": [
    "def getMaxSubSum(lst):\n",
    "    i = 0\n",
    "    maxSum = 0\n",
    "    while i < len(lst):\n",
    "        j = i\n",
    "        while j < len(lst):\n",
    "            k = i\n",
    "            thisSum = 0\n",
    "            while k < j:\n",
    "                thisSum += lst[k]\n",
    "                k += 1\n",
    "            maxSum = max(maxSum, thisSum)\n",
    "            j += 1\n",
    "        i += 1\n",
    "    return maxSum"
   ]
  },
  {
   "cell_type": "code",
   "execution_count": 31,
   "id": "collected-youth",
   "metadata": {},
   "outputs": [
    {
     "data": {
      "text/plain": [
       "15"
      ]
     },
     "execution_count": 31,
     "metadata": {},
     "output_type": "execute_result"
    }
   ],
   "source": [
    "getMaxSubSum([1, -2, 4, 8, -4, 7, -1, 100])"
   ]
  },
  {
   "cell_type": "code",
   "execution_count": 32,
   "id": "satellite-defense",
   "metadata": {},
   "outputs": [],
   "source": [
    "def getAllPosibilities(lst):\n",
    "    total = [lst[0]]\n",
    "    i = 1\n",
    "    while i < len(lst):\n",
    "        tmp = []\n",
    "        for s in total:\n",
    "            tmp.append(s + lst[i])\n",
    "        tmp.append(lst[i])\n",
    "        total += tmp\n",
    "        i += 1\n",
    "    return total"
   ]
  },
  {
   "cell_type": "code",
   "execution_count": 34,
   "id": "addressed-celebrity",
   "metadata": {
    "collapsed": true
   },
   "outputs": [
    {
     "data": {
      "text/plain": [
       "['a',\n",
       " 'ab',\n",
       " 'b',\n",
       " 'ac',\n",
       " 'abc',\n",
       " 'bc',\n",
       " 'c',\n",
       " 'ad',\n",
       " 'abd',\n",
       " 'bd',\n",
       " 'acd',\n",
       " 'abcd',\n",
       " 'bcd',\n",
       " 'cd',\n",
       " 'd',\n",
       " 'ae',\n",
       " 'abe',\n",
       " 'be',\n",
       " 'ace',\n",
       " 'abce',\n",
       " 'bce',\n",
       " 'ce',\n",
       " 'ade',\n",
       " 'abde',\n",
       " 'bde',\n",
       " 'acde',\n",
       " 'abcde',\n",
       " 'bcde',\n",
       " 'cde',\n",
       " 'de',\n",
       " 'e']"
      ]
     },
     "execution_count": 34,
     "metadata": {},
     "output_type": "execute_result"
    }
   ],
   "source": [
    "getAllPosibilities([\"a\", \"b\", \"c\", \"d\", \"e\"])"
   ]
  },
  {
   "cell_type": "code",
   "execution_count": 44,
   "id": "departmental-receptor",
   "metadata": {},
   "outputs": [
    {
     "data": {
      "text/html": [
       "<select >123<select/>\n"
      ],
      "text/plain": [
       "<IPython.core.display.HTML object>"
      ]
     },
     "metadata": {},
     "output_type": "display_data"
    }
   ],
   "source": [
    "%%html\n",
    "<select >123<select/>\n",
    "\n",
    "\n"
   ]
  },
  {
   "cell_type": "code",
   "execution_count": 46,
   "id": "stuffed-genius",
   "metadata": {},
   "outputs": [
    {
     "name": "stdout",
     "output_type": "stream",
     "text": [
      "Collecting flask\n",
      "  Downloading Flask-1.1.2-py2.py3-none-any.whl (94 kB)\n",
      "\u001b[K     |████████████████████████████████| 94 kB 300 kB/s eta 0:00:01\n",
      "\u001b[?25hCollecting itsdangerous>=0.24\n",
      "  Downloading itsdangerous-1.1.0-py2.py3-none-any.whl (16 kB)\n",
      "Collecting click>=5.1\n",
      "  Downloading click-7.1.2-py2.py3-none-any.whl (82 kB)\n",
      "\u001b[K     |████████████████████████████████| 82 kB 612 kB/s eta 0:00:01\n",
      "\u001b[?25hRequirement already satisfied: Jinja2>=2.10.1 in /Library/Frameworks/Python.framework/Versions/3.9/lib/python3.9/site-packages (from flask) (2.11.3)\n",
      "Collecting Werkzeug>=0.15\n",
      "  Downloading Werkzeug-1.0.1-py2.py3-none-any.whl (298 kB)\n",
      "\u001b[K     |████████████████████████████████| 298 kB 25.7 MB/s eta 0:00:01\n",
      "\u001b[?25hRequirement already satisfied: MarkupSafe>=0.23 in /Library/Frameworks/Python.framework/Versions/3.9/lib/python3.9/site-packages (from Jinja2>=2.10.1->flask) (1.1.1)\n",
      "Installing collected packages: Werkzeug, itsdangerous, click, flask\n",
      "\u001b[33m  WARNING: The script flask is installed in '/Library/Frameworks/Python.framework/Versions/3.9/bin' which is not on PATH.\n",
      "  Consider adding this directory to PATH or, if you prefer to suppress this warning, use --no-warn-script-location.\u001b[0m\n",
      "Successfully installed Werkzeug-1.0.1 click-7.1.2 flask-1.1.2 itsdangerous-1.1.0\n"
     ]
    }
   ],
   "source": [
    "!pip3 install flask\n"
   ]
  },
  {
   "cell_type": "code",
   "execution_count": 54,
   "id": "absolute-installation",
   "metadata": {},
   "outputs": [],
   "source": [
    "import flask"
   ]
  },
  {
   "cell_type": "code",
   "execution_count": 55,
   "id": "olive-marsh",
   "metadata": {},
   "outputs": [],
   "source": [
    "app = flask.Flask(\"test\")"
   ]
  },
  {
   "cell_type": "code",
   "execution_count": 56,
   "id": "cross-albany",
   "metadata": {},
   "outputs": [],
   "source": [
    "@app.route(\"/getHello\")\n",
    "def getHello():\n",
    "    return \"hello\""
   ]
  },
  {
   "cell_type": "code",
   "execution_count": 57,
   "id": "balanced-abortion",
   "metadata": {},
   "outputs": [
    {
     "name": "stdout",
     "output_type": "stream",
     "text": [
      " * Serving Flask app \"test\" (lazy loading)\n",
      " * Environment: production\n",
      "\u001b[31m   WARNING: This is a development server. Do not use it in a production deployment.\u001b[0m\n",
      "\u001b[2m   Use a production WSGI server instead.\u001b[0m\n",
      " * Debug mode: off\n"
     ]
    },
    {
     "name": "stderr",
     "output_type": "stream",
     "text": [
      " * Running on http://127.0.0.1:5000/ (Press CTRL+C to quit)\n",
      "127.0.0.1 - - [05/Apr/2021 14:49:03] \"\u001b[37mGET /getHello HTTP/1.1\u001b[0m\" 200 -\n",
      "127.0.0.1 - - [05/Apr/2021 14:50:12] \"\u001b[33mGET / HTTP/1.1\u001b[0m\" 404 -\n",
      "127.0.0.1 - - [05/Apr/2021 14:51:15] \"\u001b[33mGET / HTTP/1.1\u001b[0m\" 404 -\n",
      "127.0.0.1 - - [05/Apr/2021 14:51:16] \"\u001b[37mGET /getHello HTTP/1.1\u001b[0m\" 200 -\n",
      "127.0.0.1 - - [05/Apr/2021 14:51:19] \"\u001b[37mGET /getHello HTTP/1.1\u001b[0m\" 200 -\n",
      "127.0.0.1 - - [05/Apr/2021 14:51:22] \"\u001b[37mGET /getHello HTTP/1.1\u001b[0m\" 200 -\n",
      "127.0.0.1 - - [05/Apr/2021 14:51:23] \"\u001b[33mGET / HTTP/1.1\u001b[0m\" 404 -\n",
      "127.0.0.1 - - [05/Apr/2021 14:51:24] \"\u001b[33mGET /wao HTTP/1.1\u001b[0m\" 404 -\n",
      "127.0.0.1 - - [05/Apr/2021 14:51:24] \"\u001b[33mGET /favicon.ico HTTP/1.1\u001b[0m\" 404 -\n"
     ]
    }
   ],
   "source": [
    "app.run()"
   ]
  },
  {
   "cell_type": "code",
   "execution_count": 76,
   "id": "charming-abuse",
   "metadata": {},
   "outputs": [],
   "source": [
    "def isTrue(lst, x, y):\n",
    "    return x >= 0 and x < len(lst) and y >= 0 and y < len(lst[0]) and lst[x][y] == 1\n",
    "\n",
    "def getPath(lst, x, y, stack):\n",
    "    if x == len(lst[0]) - 1 and y == len(lst) - 1:\n",
    "        return stack\n",
    "    if isTrue(lst, x, y):\n",
    "        stack.append((x, y))\n",
    "        print((x, y))\n",
    "        if getPath(lst, x + 1, y, stack):\n",
    "            return True\n",
    "        if getPath(lst, x, y + 1, stack):\n",
    "            return True\n",
    "        stack.pop()\n",
    "        return False\n",
    "    return False\n",
    "        \n",
    "        "
   ]
  },
  {
   "cell_type": "code",
   "execution_count": 77,
   "id": "jewish-saturday",
   "metadata": {},
   "outputs": [
    {
     "name": "stdout",
     "output_type": "stream",
     "text": [
      "(0, 0)\n",
      "(1, 0)\n",
      "(2, 0)\n",
      "(3, 0)\n",
      "(3, 1)\n",
      "(3, 2)\n",
      "(4, 2)\n",
      "(4, 3)\n",
      "(1, 1)\n"
     ]
    }
   ],
   "source": [
    "lst = [\n",
    "    [1, 0, 1, 0],\n",
    "    [1, 1, 0, 1],\n",
    "    [1, 0, 1, 1],\n",
    "    [1, 1, 1, 0],\n",
    "    [0, 0, 1, 1]\n",
    "]\n",
    "stack = []\n",
    "result = getPath(lst, 0, 0,stack)"
   ]
  },
  {
   "cell_type": "code",
   "execution_count": 75,
   "id": "useful-crest",
   "metadata": {},
   "outputs": [
    {
     "data": {
      "text/plain": [
       "False"
      ]
     },
     "execution_count": 75,
     "metadata": {},
     "output_type": "execute_result"
    }
   ],
   "source": [
    "result"
   ]
  },
  {
   "cell_type": "code",
   "execution_count": 81,
   "id": "eight-palestinian",
   "metadata": {},
   "outputs": [],
   "source": [
    "def partition(lst, left, right):\n",
    "    temp = lst[left]\n",
    "    while left < right:\n",
    "        while left < right and lst[right] > temp:\n",
    "            right -= 1\n",
    "        lst[left] = lst[right]\n",
    "        while left < right and lst[left] < temp:\n",
    "            left += 1\n",
    "        lst[right] = lst[left]\n",
    "    lst[left] = temp\n",
    "    return left\n",
    "\n",
    "    "
   ]
  },
  {
   "cell_type": "code",
   "execution_count": 83,
   "id": "maritime-bleeding",
   "metadata": {},
   "outputs": [],
   "source": [
    "def quickSort(lst, left, right):\n",
    "    if left < right:\n",
    "        middle = partition(lst, left, right)\n",
    "        quickSort(lst, left, middle - 1)\n",
    "        quickSort(lst, middle + 1, right)\n",
    "    \n"
   ]
  },
  {
   "cell_type": "code",
   "execution_count": 84,
   "id": "magnetic-jerusalem",
   "metadata": {},
   "outputs": [
    {
     "data": {
      "text/plain": [
       "[1, 2, 3, 5, 6, 7, 9]"
      ]
     },
     "execution_count": 84,
     "metadata": {},
     "output_type": "execute_result"
    }
   ],
   "source": [
    "lst = [5,9,1,6,3,7,2]\n",
    "quickSort(lst, 0, 6)\n",
    "lst\n"
   ]
  },
  {
   "cell_type": "code",
   "execution_count": 3,
   "id": "approved-company",
   "metadata": {},
   "outputs": [],
   "source": [
    "def getAllPos(lst):\n",
    "    result = [lst[0]]\n",
    "    i = 1\n",
    "    while i < len(lst):\n",
    "        tmp = []\n",
    "        for s in result:\n",
    "            tmp.append(s + lst[i])\n",
    "        tmp.append(lst[i])\n",
    "        result += tmp\n",
    "        i += 1\n",
    "    return result"
   ]
  },
  {
   "cell_type": "code",
   "execution_count": 4,
   "id": "other-philosophy",
   "metadata": {},
   "outputs": [
    {
     "data": {
      "text/plain": [
       "['a', 'ab', 'b', 'ac', 'abc', 'bc', 'c']"
      ]
     },
     "execution_count": 4,
     "metadata": {},
     "output_type": "execute_result"
    }
   ],
   "source": [
    "getAllPos([\"a\", \"b\", \"c\"])\n"
   ]
  },
  {
   "cell_type": "code",
   "execution_count": 1,
   "id": "natural-alfred",
   "metadata": {},
   "outputs": [],
   "source": [
    "from collections import Counter"
   ]
  },
  {
   "cell_type": "code",
   "execution_count": 7,
   "id": "sonic-cambridge",
   "metadata": {},
   "outputs": [],
   "source": [
    "hashset1 = Counter(\"abcccde\")"
   ]
  },
  {
   "cell_type": "code",
   "execution_count": 3,
   "id": "appropriate-former",
   "metadata": {},
   "outputs": [
    {
     "data": {
      "text/plain": [
       "Counter({'a': 1, 'b': 1, 'c': 3, 'd': 1, 'e': 1})"
      ]
     },
     "execution_count": 3,
     "metadata": {},
     "output_type": "execute_result"
    }
   ],
   "source": [
    "hashset1"
   ]
  },
  {
   "cell_type": "code",
   "execution_count": 6,
   "id": "flush-relations",
   "metadata": {},
   "outputs": [],
   "source": [
    "hashset2 = Counter(\"abcccd\")"
   ]
  },
  {
   "cell_type": "code",
   "execution_count": 9,
   "id": "impressed-mixer",
   "metadata": {},
   "outputs": [
    {
     "data": {
      "text/plain": [
       "True"
      ]
     },
     "execution_count": 9,
     "metadata": {},
     "output_type": "execute_result"
    }
   ],
   "source": [
    "hashset1 is hashset1"
   ]
  },
  {
   "cell_type": "code",
   "execution_count": 10,
   "id": "contained-gauge",
   "metadata": {},
   "outputs": [
    {
     "data": {
      "text/plain": [
       "Counter({'a': 1, 'b': 1, 'c': 3, 'd': 1})"
      ]
     },
     "execution_count": 10,
     "metadata": {},
     "output_type": "execute_result"
    }
   ],
   "source": [
    "hashset2"
   ]
  },
  {
   "cell_type": "code",
   "execution_count": 17,
   "id": "demonstrated-union",
   "metadata": {},
   "outputs": [],
   "source": [
    "def isSub(string1, string2):\n",
    "    lens1, lens2 = len(string1), len(string2)\n",
    "    i, j = 0, 0\n",
    "    while i < lens1 and j < lens2:\n",
    "        if string1[i] == string2[j]:\n",
    "            k = i + 1\n",
    "            m = j + 1\n",
    "            while k < lens1 and m < lens2 and string1[k] == string2[m]:\n",
    "                k += 1\n",
    "                m += 1\n",
    "            if m == lens2:\n",
    "                return i\n",
    "        i += 1\n",
    "        j = 0\n",
    "    return False"
   ]
  },
  {
   "cell_type": "code",
   "execution_count": 20,
   "id": "molecular-metro",
   "metadata": {},
   "outputs": [
    {
     "data": {
      "text/plain": [
       "False"
      ]
     },
     "execution_count": 20,
     "metadata": {},
     "output_type": "execute_result"
    }
   ],
   "source": [
    "isSub(\"abcd\", \"ba\")"
   ]
  },
  {
   "cell_type": "code",
   "execution_count": 23,
   "id": "hybrid-yorkshire",
   "metadata": {
    "collapsed": true
   },
   "outputs": [
    {
     "data": {
      "text/plain": [
       "[[None, None, None, None, None],\n",
       " [None, None, None, None, None],\n",
       " [None, None, None, None, None],\n",
       " [None, None, None, None, None],\n",
       " [None, None, None, None, None]]"
      ]
     },
     "execution_count": 23,
     "metadata": {},
     "output_type": "execute_result"
    }
   ],
   "source": [
    "[[None ] * 5 for i in range(5)]"
   ]
  },
  {
   "cell_type": "code",
   "execution_count": 35,
   "id": "occupied-commons",
   "metadata": {},
   "outputs": [],
   "source": [
    "class method:\n",
    "    def __init__(self):\n",
    "        self.lens = 0\n",
    "        self.start = 0\n",
    "    def getLongestTrack(self,string, c1, c2):\n",
    "        while c1 >= 0 and c2 >= 0 and string[c1] == string[c2]:\n",
    "            c1 -= 1\n",
    "            c2 += 1\n",
    "        lens = c2 - c1 - 1\n",
    "        start = c1 + 1\n",
    "        if lens > self.lens:\n",
    "            self.lens = lens\n",
    "            self.start = start\n",
    "    def isAll(self, string):\n",
    "        i = 0\n",
    "        while i <len(string) - 1:\n",
    "            \n",
    "            self.getLongestTrack(string, i, i )\n",
    "            self.getLongestTrack(string, i, i + 1)\n",
    "            i += 1\n",
    "    def get(self, string):\n",
    "        self.isAll(string)\n",
    "        print(string[self.start:self.start + self.lens])\n",
    "        \n",
    "    "
   ]
  },
  {
   "cell_type": "code",
   "execution_count": 36,
   "id": "alike-invitation",
   "metadata": {},
   "outputs": [],
   "source": [
    "obj = method()"
   ]
  },
  {
   "cell_type": "code",
   "execution_count": 37,
   "id": "voluntary-tackle",
   "metadata": {},
   "outputs": [
    {
     "name": "stdout",
     "output_type": "stream",
     "text": [
      "abccba\n"
     ]
    }
   ],
   "source": [
    "obj.get(\"abccbabd\")"
   ]
  },
  {
   "cell_type": "code",
   "execution_count": 31,
   "id": "loving-psychology",
   "metadata": {},
   "outputs": [
    {
     "data": {
      "text/plain": [
       "4"
      ]
     },
     "execution_count": 31,
     "metadata": {},
     "output_type": "execute_result"
    }
   ],
   "source": [
    "obj.lens"
   ]
  },
  {
   "cell_type": "code",
   "execution_count": 1,
   "id": "latest-throat",
   "metadata": {},
   "outputs": [],
   "source": [
    "from collections import Counter"
   ]
  },
  {
   "cell_type": "code",
   "execution_count": 4,
   "id": "abroad-cemetery",
   "metadata": {},
   "outputs": [
    {
     "data": {
      "text/plain": [
       "[('a', 1), ('b', 1), ('c', 1)]"
      ]
     },
     "execution_count": 4,
     "metadata": {},
     "output_type": "execute_result"
    }
   ],
   "source": [
    "l = Counter(\"abc\")\n",
    "l.most_common()"
   ]
  },
  {
   "cell_type": "code",
   "execution_count": 11,
   "id": "molecular-garlic",
   "metadata": {},
   "outputs": [
    {
     "data": {
      "text/plain": [
       "['ac', 'abc', 'ab']"
      ]
     },
     "execution_count": 11,
     "metadata": {},
     "output_type": "execute_result"
    }
   ],
   "source": [
    "lst = [\"abc\",\"ab\",\"ac\"]\n",
    "lst.sort(key=lambda x: x[1],reverse=True)\n",
    "lst"
   ]
  },
  {
   "cell_type": "code",
   "execution_count": 8,
   "id": "beautiful-rebate",
   "metadata": {},
   "outputs": [
    {
     "ename": "TypeError",
     "evalue": "'NoneType' object is not subscriptable",
     "output_type": "error",
     "traceback": [
      "\u001b[0;31m---------------------------------------------------------------------------\u001b[0m",
      "\u001b[0;31mTypeError\u001b[0m                                 Traceback (most recent call last)",
      "\u001b[0;32m<ipython-input-8-3ac598d0275b>\u001b[0m in \u001b[0;36m<module>\u001b[0;34m\u001b[0m\n\u001b[0;32m----> 1\u001b[0;31m \u001b[0mlst\u001b[0m\u001b[0;34m[\u001b[0m\u001b[0;36m0\u001b[0m\u001b[0;34m]\u001b[0m\u001b[0;34m\u001b[0m\u001b[0;34m\u001b[0m\u001b[0m\n\u001b[0m",
      "\u001b[0;31mTypeError\u001b[0m: 'NoneType' object is not subscriptable"
     ]
    }
   ],
   "source": [
    "lst[0]"
   ]
  },
  {
   "cell_type": "code",
   "execution_count": 32,
   "id": "pretty-joseph",
   "metadata": {},
   "outputs": [],
   "source": [
    "class method:\n",
    "    def isTrue(self, hashSet, words, length):\n",
    "        lens = len(words)\n",
    "        if lens == 0:\n",
    "            return True\n",
    "        i = 1\n",
    "        while i <= lens:\n",
    "            if i == length:\n",
    "                return False\n",
    "            strs = words[0:i]\n",
    "            if strs in hashSet:\n",
    "                if self.isTrue(hashSet, words[i:], length):\n",
    "                    return True\n",
    "            i += 1\n",
    "        return False\n",
    "    def getLongest(self, lst):\n",
    "        hashSet = set()\n",
    "        for item in lst:\n",
    "            hashSet.add(item)\n",
    "        print(hashSet)\n",
    "        lst.sort(key = lambda x:len(x), reverse = True)\n",
    "        i = 0\n",
    "        while i < len(lst):\n",
    "            if self.isTrue(hashSet, lst[i], len(lst)):\n",
    "                return lst[i]\n",
    "            i += 1\n",
    "        return False"
   ]
  },
  {
   "cell_type": "code",
   "execution_count": 33,
   "id": "vanilla-infection",
   "metadata": {},
   "outputs": [],
   "source": [
    "ob = method()"
   ]
  },
  {
   "cell_type": "code",
   "execution_count": 39,
   "id": "korean-queen",
   "metadata": {
    "scrolled": true
   },
   "outputs": [
    {
     "name": "stdout",
     "output_type": "stream",
     "text": [
      "{'abdcc', 'ab', 'dcc', 'ahdasgd'}\n"
     ]
    },
    {
     "data": {
      "text/plain": [
       "'abdcc'"
      ]
     },
     "execution_count": 39,
     "metadata": {},
     "output_type": "execute_result"
    }
   ],
   "source": [
    "ob.getLongest([\"ahdasgd\",\"abdcc\",\"ab\",\"dcc\"])"
   ]
  },
  {
   "cell_type": "code",
   "execution_count": 45,
   "id": "small-sunday",
   "metadata": {},
   "outputs": [],
   "source": [
    "# -*- coding:utf-8 -*-\n",
    "# class ListNode:\n",
    "#     def __init__(self, x):\n",
    "#         self.val = x\n",
    "#         self.next = None\n",
    "\n",
    "class Solution:\n",
    "    \n",
    "    def printListFromTailToHead(self, listNode):\n",
    "        # write code here\n",
    "        if not listNode:\n",
    "            return None\n",
    "        pre = None\n",
    "        cur = listNode\n",
    "        while cur:\n",
    "            back = cur.next\n",
    "            cur.next = pre\n",
    "            pre = cur\n",
    "            cur = back\n",
    "        head = pre\n",
    "        return head"
   ]
  },
  {
   "cell_type": "code",
   "execution_count": 46,
   "id": "competent-burning",
   "metadata": {},
   "outputs": [],
   "source": [
    "obj = Solution"
   ]
  },
  {
   "cell_type": "code",
   "execution_count": 47,
   "id": "dried-redhead",
   "metadata": {},
   "outputs": [],
   "source": [
    "class singleNode:\n",
    "    def __init__(self):\n",
    "        self.value = None\n",
    "        self.left = None\n",
    "        self.right = None\n",
    "\n",
    "def arrayTree(lst, left, right):\n",
    "    if left > right:\n",
    "        return None\n",
    "    mid = (left + right) // 2\n",
    "    root = singleNode()\n",
    "    root.value = lst[mid]\n",
    "    root.left = arrayTree(lst, left, mid - 1)\n",
    "    root.right = arrayTree(lst, mid + 1, right)\n",
    "    return root\n",
    "    "
   ]
  },
  {
   "cell_type": "code",
   "execution_count": 52,
   "id": "wound-chase",
   "metadata": {},
   "outputs": [],
   "source": [
    "root = arrayTree([4, 2, 5, 1, 6, 3, 7], 0, 6)"
   ]
  },
  {
   "cell_type": "code",
   "execution_count": 264,
   "id": "green-parking",
   "metadata": {},
   "outputs": [],
   "source": [
    "def preOrder(root):\n",
    "    if not root:\n",
    "        return\n",
    "    print(root.val, end=\",\")\n",
    "    preOrder(root.left)\n",
    "    preOrder(root.right)\n",
    "\n",
    "def inOrder(root):\n",
    "    if not root:\n",
    "        return\n",
    "    inOrder(root.left)\n",
    "    print(root.value, end=\",\")\n",
    "    inOrder(root.right)\n",
    "    \n",
    "def backOrder(root):\n",
    "    if not root:\n",
    "        return\n",
    "    backOrder(root.left)\n",
    "    backOrder(root.right)\n",
    "    print(root.value, end=\",\")"
   ]
  },
  {
   "cell_type": "code",
   "execution_count": 61,
   "id": "plastic-freeze",
   "metadata": {},
   "outputs": [
    {
     "name": "stdout",
     "output_type": "stream",
     "text": [
      "1,2,4,5,3,6,7,\n",
      "\n",
      "4,2,5,1,6,3,7,\n",
      "\n",
      "4,5,2,6,7,3,1,"
     ]
    }
   ],
   "source": [
    "preOrder(root)\n",
    "print(\"\\n\")\n",
    "inOrder(root)\n",
    "print(\"\\n\")\n",
    "backOrder(root)"
   ]
  },
  {
   "cell_type": "code",
   "execution_count": null,
   "id": "headed-wells",
   "metadata": {},
   "outputs": [],
   "source": [
    "val\n",
    "\n",
    "def coustructTree(pre, preorder, inorder):\n",
    "    if not preorder:\n",
    "        return None\n",
    "    node = TreeNode()\n",
    "    val = preorder.poo(0)\n",
    "    index = inorder.inorder(val)\n",
    "    node.val = val\n",
    "    node.left = coustructTree(pre, preorder, inorder[:index])\n",
    "    node.right = coustructTree(pre, preorder, inorder[index + 1:])\n",
    "    return node"
   ]
  },
  {
   "cell_type": "code",
   "execution_count": 69,
   "id": "demographic-holocaust",
   "metadata": {},
   "outputs": [],
   "source": [
    "# -*- coding:utf-8 -*-\n",
    "class TreeNode:\n",
    "    def __init__(self, x):\n",
    "        self.val = x\n",
    "        self.left = None\n",
    "        self.right = None\n",
    "class Solution:\n",
    "    # 返回构造的TreeNode根节点\n",
    "    def reConstructBinaryTree(self, pre, tin):\n",
    "        # write code here\n",
    "        if not tin:\n",
    "            return None\n",
    "        val = pre.pop(0)\n",
    "        index = tin.index(val)\n",
    "        node = TreeNode(val)\n",
    "        node.left = self.reConstructBinaryTree(pre, tin[:index])\n",
    "        node.right = self.reConstructBinaryTree(pre, tin[index + 1:])\n",
    "        return node"
   ]
  },
  {
   "cell_type": "code",
   "execution_count": 70,
   "id": "dirty-humanitarian",
   "metadata": {},
   "outputs": [],
   "source": [
    "obj = Solution()"
   ]
  },
  {
   "cell_type": "code",
   "execution_count": 72,
   "id": "latter-eligibility",
   "metadata": {},
   "outputs": [],
   "source": [
    "root = obj.reConstructBinaryTree([1,2,3,4,5,6,7],[3,2,4,1,6,5,7])"
   ]
  },
  {
   "cell_type": "code",
   "execution_count": 75,
   "id": "remarkable-costa",
   "metadata": {},
   "outputs": [
    {
     "data": {
      "text/plain": [
       "2"
      ]
     },
     "execution_count": 75,
     "metadata": {},
     "output_type": "execute_result"
    }
   ],
   "source": [
    "root.left.val\n"
   ]
  },
  {
   "cell_type": "markdown",
   "id": "designing-kidney",
   "metadata": {},
   "source": [
    "一个组合问题。可以把这个想像成你在花果山旅游，共有N个景点可以任你游玩，你有多少种游玩方法？\n",
    "你可以只在一个地方玩耍，也可以两个，也可以三个...也可以N个都耍。现在分析每一种情况：\n",
    "1.你被强制逮到这儿耍的，你只想选一个景点表示表示，N个中选一个，就有N种选择，表示为Cn1(就是数学组合表示方式）;\n",
    "2.你突然心情不错，你想去耍2个景点，N中选两个，就有Cn2中种选择；\n",
    "3...\n",
    "...\n",
    "n-1...\n",
    "n.突然有个妹纸邀请你，你开心的不行，决定每个点都要去瞅瞅，这时候就只有1种可能性了，表示为Cnn。\n",
    "现在加起来就是所有的可能性了，总的可能性==Cn1+Cn2+Cn3+...+Cnn，这个组合序列加起来的结果高中数学课本上有！等于2^n。\n",
    "返回跳台阶，因为最后一节台阶必跳，而前面的n-1个台阶可跳可不跳，就相当于n-1个景点你有多少种游玩的可能性，答案自然就是2^(n-1)。\n",
    "\n",
    "                                            \n",
    "                                               \n",
    "                                               "
   ]
  },
  {
   "cell_type": "code",
   "execution_count": 95,
   "id": "unlimited-probability",
   "metadata": {},
   "outputs": [
    {
     "data": {
      "text/plain": [
       "40.625"
      ]
     },
     "execution_count": 95,
     "metadata": {},
     "output_type": "execute_result"
    }
   ],
   "source": [
    "325 / 8"
   ]
  },
  {
   "cell_type": "code",
   "execution_count": 98,
   "id": "developed-interference",
   "metadata": {
    "scrolled": true
   },
   "outputs": [
    {
     "data": {
      "text/plain": [
       "325"
      ]
     },
     "execution_count": 98,
     "metadata": {},
     "output_type": "execute_result"
    }
   ],
   "source": [
    "int(\"505\",base=8)"
   ]
  },
  {
   "cell_type": "code",
   "execution_count": 99,
   "id": "satisfied-admission",
   "metadata": {},
   "outputs": [],
   "source": [
    "string = \"abc\""
   ]
  },
  {
   "cell_type": "code",
   "execution_count": 102,
   "id": "operational-medication",
   "metadata": {},
   "outputs": [],
   "source": [
    "def reverse(number, n):\n",
    "    string = \"\"\n",
    "    while True:\n",
    "        if number < n:\n",
    "            string += str(number)\n",
    "            return string\n",
    "        string += str(number - (number // n ) * n)\n",
    "        number = number // n\n",
    "    "
   ]
  },
  {
   "cell_type": "code",
   "execution_count": 103,
   "id": "verified-imagination",
   "metadata": {},
   "outputs": [
    {
     "data": {
      "text/plain": [
       "'505'"
      ]
     },
     "execution_count": 103,
     "metadata": {},
     "output_type": "execute_result"
    }
   ],
   "source": [
    "reverse(325,8)"
   ]
  },
  {
   "cell_type": "code",
   "execution_count": 113,
   "id": "rural-comparison",
   "metadata": {},
   "outputs": [],
   "source": [
    "def NumberOf1( n):\n",
    "        # write code here\n",
    "        if n == 0:\n",
    "            return 0\n",
    "        string = \"\"\n",
    "        while True:\n",
    "            if n < 32:\n",
    "                string += str(n)\n",
    "                break\n",
    "            string += str(n - (n // 32) * 32)\n",
    "            n = n // 32\n",
    "        i = 0\n",
    "        count = 0\n",
    "        if string[i] != \"1\":\n",
    "            return count\n",
    "        while i < len(string):\n",
    "            if string[i] == \"1\":\n",
    "                count += 1\n",
    "            else:\n",
    "                return count\n",
    "            i += 1\n",
    "        return count\n",
    "    # 老眼昏花"
   ]
  },
  {
   "cell_type": "code",
   "execution_count": 114,
   "id": "affiliated-collapse",
   "metadata": {},
   "outputs": [
    {
     "data": {
      "text/plain": [
       "1"
      ]
     },
     "execution_count": 114,
     "metadata": {},
     "output_type": "execute_result"
    }
   ],
   "source": [
    "\n",
    "NumberOf1(1)"
   ]
  },
  {
   "cell_type": "code",
   "execution_count": 121,
   "id": "cross-marina",
   "metadata": {},
   "outputs": [
    {
     "data": {
      "text/plain": [
       "'-0b1'"
      ]
     },
     "execution_count": 121,
     "metadata": {},
     "output_type": "execute_result"
    }
   ],
   "source": [
    "str(bin(-1))"
   ]
  },
  {
   "cell_type": "code",
   "execution_count": 118,
   "id": "varied-albuquerque",
   "metadata": {},
   "outputs": [],
   "source": [
    "def NumberOf1(n):\n",
    "        # write code here\n",
    "        string = str(bin(n))[1:]\n",
    "        if len(string) > 32:\n",
    "            string = string[-32:]\n",
    "        return string.count(\"1\")\n",
    "                "
   ]
  },
  {
   "cell_type": "code",
   "execution_count": 120,
   "id": "random-vision",
   "metadata": {},
   "outputs": [
    {
     "data": {
      "text/plain": [
       "2"
      ]
     },
     "execution_count": 120,
     "metadata": {},
     "output_type": "execute_result"
    }
   ],
   "source": [
    "NumberOf1(10)"
   ]
  },
  {
   "cell_type": "code",
   "execution_count": 215,
   "id": "historical-factor",
   "metadata": {},
   "outputs": [],
   "source": [
    "import copy\n",
    "def Power( base, exponent):\n",
    "    # write code here\n",
    "    if base == 0:\n",
    "        return 0\n",
    "    if exponent == 0:\n",
    "        return 1\n",
    "    count = base\n",
    "    if exponent < 0:\n",
    "        count = 1 / base\n",
    "        base = 1 / base\n",
    "    for i in range(abs(exponent) - 1):\n",
    "        count = count * base\n",
    "        i += 1\n",
    "    return count"
   ]
  },
  {
   "cell_type": "code",
   "execution_count": 216,
   "id": "certified-parcel",
   "metadata": {},
   "outputs": [
    {
     "data": {
      "text/plain": [
       "0.125"
      ]
     },
     "execution_count": 216,
     "metadata": {},
     "output_type": "execute_result"
    }
   ],
   "source": [
    "Power(2, -3)"
   ]
  },
  {
   "cell_type": "code",
   "execution_count": 206,
   "id": "major-europe",
   "metadata": {},
   "outputs": [],
   "source": [
    "def test():\n",
    "    n = -3\n",
    "    m = int(n)\n",
    "    z = copy.deepcopy(m)\n",
    "    try:\n",
    "        for i in range(z):\n",
    "            print(i,end = \" \")\n",
    "            print(\"ehy\")\n",
    "    except Exception as e:\n",
    "        print(e)"
   ]
  },
  {
   "cell_type": "code",
   "execution_count": 207,
   "id": "threaded-determination",
   "metadata": {},
   "outputs": [],
   "source": [
    "test()\n"
   ]
  },
  {
   "cell_type": "code",
   "execution_count": 208,
   "id": "premier-moldova",
   "metadata": {},
   "outputs": [],
   "source": [
    "for i in range(int(-4)):\n",
    "    print(i)"
   ]
  },
  {
   "cell_type": "code",
   "execution_count": 211,
   "id": "dedicated-nature",
   "metadata": {},
   "outputs": [],
   "source": [
    "i = 0\n",
    "while i < int(-3):\n",
    "    print(i)\n",
    "    i += 1\n",
    "    "
   ]
  },
  {
   "cell_type": "code",
   "execution_count": 212,
   "id": "technological-lebanon",
   "metadata": {},
   "outputs": [
    {
     "name": "stdout",
     "output_type": "stream",
     "text": [
      "-3\n"
     ]
    }
   ],
   "source": [
    "print(int(-3))"
   ]
  },
  {
   "cell_type": "code",
   "execution_count": 225,
   "id": "limited-cooperation",
   "metadata": {},
   "outputs": [],
   "source": [
    "\n",
    "class Solution:\n",
    "    def __init__(self):\n",
    "        self.lst1 = []\n",
    "        self.lst2 = []\n",
    "        \n",
    "    def HasSubtree(self, pRoot1, pRoot2):\n",
    "        # write code here\n",
    "        if not pRoot1 or not pRoot2:\n",
    "            return False\n",
    "        self.preOoder(pRoot1, self.lst1)\n",
    "        self.preOoder(pRoot2, self.lst2)\n",
    "        i, j = 0, 0\n",
    "        lens1, lens2 = len(self.lst1), len(self.lst2)\n",
    "        while i < lens1 and j < lens2:\n",
    "            if self.lst1[i] == self.lst2[j]:\n",
    "                while i < lens1 and j < lens2 and self.lst1[i] == self.lst2[j]:\n",
    "                    i += 1\n",
    "                    j += 1\n",
    "                if j == lens2:\n",
    "                    return True\n",
    "            i += 1\n",
    "            j = 0\n",
    "        return False\n",
    "        \n",
    "    def preOoder(self, root, lst):\n",
    "        if not root:\n",
    "            return lst\n",
    "        lst.append(root.val)\n",
    "        self.preOoder(root.left, lst)\n",
    "        self.preOoder(root.right, lst)\n",
    "        "
   ]
  },
  {
   "cell_type": "code",
   "execution_count": 226,
   "id": "applicable-douglas",
   "metadata": {},
   "outputs": [],
   "source": [
    "obj = Solution()"
   ]
  },
  {
   "cell_type": "code",
   "execution_count": 227,
   "id": "capable-metallic",
   "metadata": {},
   "outputs": [
    {
     "data": {
      "text/plain": [
       "True"
      ]
     },
     "execution_count": 227,
     "metadata": {},
     "output_type": "execute_result"
    }
   ],
   "source": [
    "obj.HasSubtree(root, root)"
   ]
  },
  {
   "cell_type": "code",
   "execution_count": 228,
   "id": "framed-elimination",
   "metadata": {},
   "outputs": [],
   "source": [
    "doubleList = [\n",
    "    [1,2,3,4],\n",
    "    [5,6,7,8],\n",
    "    [9,10,11,12],\n",
    "    [13,14,15,16]\n",
    "]"
   ]
  },
  {
   "cell_type": "code",
   "execution_count": 231,
   "id": "invisible-silly",
   "metadata": {},
   "outputs": [
    {
     "data": {
      "text/plain": [
       "[[5, 6, 7, 8], [9, 10, 11, 12], [13, 14, 15, 16]]"
      ]
     },
     "execution_count": 231,
     "metadata": {},
     "output_type": "execute_result"
    }
   ],
   "source": [
    "change = doubleList[1:]\n",
    "change"
   ]
  },
  {
   "cell_type": "code",
   "execution_count": 235,
   "id": "strategic-diploma",
   "metadata": {},
   "outputs": [
    {
     "data": {
      "text/plain": [
       "[([5, 6, 7, 8],), ([9, 10, 11, 12],), ([13, 14, 15, 16],)]"
      ]
     },
     "execution_count": 235,
     "metadata": {},
     "output_type": "execute_result"
    }
   ],
   "source": [
    "list(zip(change))"
   ]
  },
  {
   "cell_type": "code",
   "execution_count": 243,
   "id": "departmental-situation",
   "metadata": {},
   "outputs": [
    {
     "ename": "TypeError",
     "evalue": "'zip' object is not subscriptable",
     "output_type": "error",
     "traceback": [
      "\u001b[0;31m---------------------------------------------------------------------------\u001b[0m",
      "\u001b[0;31mTypeError\u001b[0m                                 Traceback (most recent call last)",
      "\u001b[0;32m<ipython-input-243-3102cbe6825d>\u001b[0m in \u001b[0;36m<module>\u001b[0;34m\u001b[0m\n\u001b[0;32m----> 1\u001b[0;31m \u001b[0mlist\u001b[0m\u001b[0;34m(\u001b[0m\u001b[0mzip\u001b[0m\u001b[0;34m(\u001b[0m\u001b[0;34m*\u001b[0m\u001b[0mchange\u001b[0m\u001b[0;34m)\u001b[0m\u001b[0;34m[\u001b[0m\u001b[0;34m:\u001b[0m\u001b[0;34m:\u001b[0m\u001b[0;34m-\u001b[0m\u001b[0;36m1\u001b[0m\u001b[0;34m]\u001b[0m\u001b[0;34m)\u001b[0m\u001b[0;34m\u001b[0m\u001b[0;34m\u001b[0m\u001b[0m\n\u001b[0m",
      "\u001b[0;31mTypeError\u001b[0m: 'zip' object is not subscriptable"
     ]
    }
   ],
   "source": [
    "list(zip(*change)[::-1])"
   ]
  },
  {
   "cell_type": "code",
   "execution_count": 247,
   "id": "statewide-product",
   "metadata": {},
   "outputs": [
    {
     "data": {
      "text/plain": [
       "[(5, 9, 13), (6, 10, 14), (7, 11, 15), (8, 12, 16)]"
      ]
     },
     "execution_count": 247,
     "metadata": {},
     "output_type": "execute_result"
    }
   ],
   "source": [
    "l = list(zip(*change))\n",
    "l"
   ]
  },
  {
   "cell_type": "code",
   "execution_count": 248,
   "id": "aerial-traveler",
   "metadata": {},
   "outputs": [
    {
     "data": {
      "text/plain": [
       "[(8, 12, 16), (7, 11, 15), (6, 10, 14), (5, 9, 13)]"
      ]
     },
     "execution_count": 248,
     "metadata": {},
     "output_type": "execute_result"
    }
   ],
   "source": [
    "l[::-1]"
   ]
  },
  {
   "cell_type": "code",
   "execution_count": 249,
   "id": "ideal-fiction",
   "metadata": {},
   "outputs": [],
   "source": [
    "def printMatrax(lst):\n",
    "    while lst:\n",
    "        print(lst[0])\n",
    "        lst = list(zip(*lst[1:]))[::-1]\n",
    "        \n",
    "        "
   ]
  },
  {
   "cell_type": "code",
   "execution_count": 250,
   "id": "alpine-green",
   "metadata": {},
   "outputs": [
    {
     "name": "stdout",
     "output_type": "stream",
     "text": [
      "[1, 2, 3, 4]\n",
      "(8, 12, 16)\n",
      "(15, 14, 13)\n",
      "(9, 5)\n",
      "(6, 7)\n",
      "(11,)\n",
      "(10,)\n"
     ]
    }
   ],
   "source": [
    "printMatrax(doubleList)"
   ]
  },
  {
   "cell_type": "code",
   "execution_count": 252,
   "id": "affiliated-chaos",
   "metadata": {},
   "outputs": [
    {
     "data": {
      "text/plain": [
       "1"
      ]
     },
     "execution_count": 252,
     "metadata": {},
     "output_type": "execute_result"
    }
   ],
   "source": [
    "root.val"
   ]
  },
  {
   "cell_type": "code",
   "execution_count": 267,
   "id": "early-fruit",
   "metadata": {},
   "outputs": [],
   "source": [
    "\n",
    "class Solution:\n",
    "    # 返回二维列表，内部每个列表表示找到的路径\n",
    "    def __init__(self):\n",
    "        self.resultList = []\n",
    "        self.tempList = []\n",
    "        self.count = 0\n",
    "        \n",
    "    def FindPath(self, root, expectNumber):\n",
    "        # write code here\n",
    "        if not root:\n",
    "            return \n",
    "        self.tempList.append(root.val)\n",
    "        self.count += root.val\n",
    "        self.FindPath(root.left, expectNumber)\n",
    "        self.FindPath(root.right, expectNumber)\n",
    "        if self.count == expectNumber and not root.left and not root.right:\n",
    "            self.resultList.append(self.tempList)\n",
    "        self.tempList.pop()\n",
    "        self.count -= root.val\n",
    "        print(self.resultList)\n",
    "        return self.resultList\n",
    "    \n",
    "    \n",
    "        "
   ]
  },
  {
   "cell_type": "code",
   "execution_count": 268,
   "id": "simplified-relief",
   "metadata": {},
   "outputs": [],
   "source": [
    "obj = Solution()"
   ]
  },
  {
   "cell_type": "code",
   "execution_count": 269,
   "id": "promotional-territory",
   "metadata": {},
   "outputs": [
    {
     "name": "stdout",
     "output_type": "stream",
     "text": [
      "[]\n",
      "[]\n",
      "[]\n",
      "[]\n",
      "[]\n",
      "[]\n",
      "[]\n"
     ]
    },
    {
     "data": {
      "text/plain": [
       "[]"
      ]
     },
     "execution_count": 269,
     "metadata": {},
     "output_type": "execute_result"
    }
   ],
   "source": [
    "obj.FindPath(root, 8)"
   ]
  },
  {
   "cell_type": "code",
   "execution_count": 288,
   "id": "technological-prison",
   "metadata": {},
   "outputs": [],
   "source": [
    "resultList = []\n",
    "tempList = []\n",
    "count = 0\n",
    "\n",
    "def FindPath(root, expectNumber):\n",
    "    # write code her\n",
    "    if not root:\n",
    "        return \n",
    "    tempList.append(root.val)\n",
    "    global count\n",
    "    count += root.val\n",
    "    if count == expectNumber and not root.left and not root.right:\n",
    "        resultList.append(tempList)\n",
    "        print(tempList)\n",
    "    FindPath(root.left, expectNumber)\n",
    "    FindPath(root.right, expectNumber)\n",
    "    tempList.pop()\n",
    "    count -= root.val\n",
    "    return resultList\n",
    "\n"
   ]
  },
  {
   "cell_type": "code",
   "execution_count": 289,
   "id": "involved-girlfriend",
   "metadata": {},
   "outputs": [
    {
     "name": "stdout",
     "output_type": "stream",
     "text": [
      "[1, 2, 4]\n"
     ]
    },
    {
     "data": {
      "text/plain": [
       "[[]]"
      ]
     },
     "execution_count": 289,
     "metadata": {},
     "output_type": "execute_result"
    }
   ],
   "source": [
    "FindPath(root, 7)"
   ]
  },
  {
   "cell_type": "code",
   "execution_count": 296,
   "id": "fixed-workplace",
   "metadata": {},
   "outputs": [],
   "source": [
    "# -*- coding:utf-8 -*-\n",
    "# class TreeNode:\n",
    "#     def __init__(self, x):\n",
    "#         self.val = x\n",
    "#         self.left = None\n",
    "#         self.right = None\n",
    "class Solution:\n",
    "    # 返回二维列表，内部每个列表表示找到的路径\n",
    "    def FindPath(self, root, expectNumber):\n",
    "        # write code here\n",
    "        self.resultList = []\n",
    "        self.tempList = []\n",
    "        self.count = 0\n",
    "        self.isTrue(root, expectNumber,self.count)\n",
    "        return self.resultList\n",
    "    def isTrue(self, root, expectNumber, count):\n",
    "        if not root:\n",
    "            return \n",
    "        self.tempList.append(root.val)\n",
    "        self.count += root.val\n",
    "        if self.count == expectNumber and not root.left and not root.right:\n",
    "            self.resultList.append(self.tempList)\n",
    "        self.FindPath(root.left, expectNumber,count)\n",
    "        self.FindPath(root.right, expectNumber,count)\n",
    "        self.tempList.pop()\n",
    "        self.count -= root.val\n",
    "    \n",
    "    \n",
    "        "
   ]
  },
  {
   "cell_type": "code",
   "execution_count": 297,
   "id": "serial-efficiency",
   "metadata": {},
   "outputs": [],
   "source": [
    "obj = Solution()"
   ]
  },
  {
   "cell_type": "code",
   "execution_count": 298,
   "id": "generous-probe",
   "metadata": {},
   "outputs": [
    {
     "ename": "TypeError",
     "evalue": "FindPath() takes 3 positional arguments but 4 were given",
     "output_type": "error",
     "traceback": [
      "\u001b[0;31m---------------------------------------------------------------------------\u001b[0m",
      "\u001b[0;31mTypeError\u001b[0m                                 Traceback (most recent call last)",
      "\u001b[0;32m<ipython-input-298-70c0f72abd69>\u001b[0m in \u001b[0;36m<module>\u001b[0;34m\u001b[0m\n\u001b[0;32m----> 1\u001b[0;31m \u001b[0mobj\u001b[0m\u001b[0;34m.\u001b[0m\u001b[0mFindPath\u001b[0m\u001b[0;34m(\u001b[0m\u001b[0mroot\u001b[0m\u001b[0;34m,\u001b[0m \u001b[0;36m6\u001b[0m\u001b[0;34m)\u001b[0m\u001b[0;34m\u001b[0m\u001b[0;34m\u001b[0m\u001b[0m\n\u001b[0m",
      "\u001b[0;32m<ipython-input-296-f5858a5dab47>\u001b[0m in \u001b[0;36mFindPath\u001b[0;34m(self, root, expectNumber)\u001b[0m\n\u001b[1;32m     12\u001b[0m         \u001b[0mself\u001b[0m\u001b[0;34m.\u001b[0m\u001b[0mtempList\u001b[0m \u001b[0;34m=\u001b[0m \u001b[0;34m[\u001b[0m\u001b[0;34m]\u001b[0m\u001b[0;34m\u001b[0m\u001b[0;34m\u001b[0m\u001b[0m\n\u001b[1;32m     13\u001b[0m         \u001b[0mself\u001b[0m\u001b[0;34m.\u001b[0m\u001b[0mcount\u001b[0m \u001b[0;34m=\u001b[0m \u001b[0;36m0\u001b[0m\u001b[0;34m\u001b[0m\u001b[0;34m\u001b[0m\u001b[0m\n\u001b[0;32m---> 14\u001b[0;31m         \u001b[0mself\u001b[0m\u001b[0;34m.\u001b[0m\u001b[0misTrue\u001b[0m\u001b[0;34m(\u001b[0m\u001b[0mroot\u001b[0m\u001b[0;34m,\u001b[0m \u001b[0mexpectNumber\u001b[0m\u001b[0;34m,\u001b[0m\u001b[0mself\u001b[0m\u001b[0;34m.\u001b[0m\u001b[0mcount\u001b[0m\u001b[0;34m)\u001b[0m\u001b[0;34m\u001b[0m\u001b[0;34m\u001b[0m\u001b[0m\n\u001b[0m\u001b[1;32m     15\u001b[0m         \u001b[0;32mreturn\u001b[0m \u001b[0mself\u001b[0m\u001b[0;34m.\u001b[0m\u001b[0mresultList\u001b[0m\u001b[0;34m\u001b[0m\u001b[0;34m\u001b[0m\u001b[0m\n\u001b[1;32m     16\u001b[0m     \u001b[0;32mdef\u001b[0m \u001b[0misTrue\u001b[0m\u001b[0;34m(\u001b[0m\u001b[0mself\u001b[0m\u001b[0;34m,\u001b[0m \u001b[0mroot\u001b[0m\u001b[0;34m,\u001b[0m \u001b[0mexpectNumber\u001b[0m\u001b[0;34m,\u001b[0m \u001b[0mcount\u001b[0m\u001b[0;34m)\u001b[0m\u001b[0;34m:\u001b[0m\u001b[0;34m\u001b[0m\u001b[0;34m\u001b[0m\u001b[0m\n",
      "\u001b[0;32m<ipython-input-296-f5858a5dab47>\u001b[0m in \u001b[0;36misTrue\u001b[0;34m(self, root, expectNumber, count)\u001b[0m\n\u001b[1;32m     21\u001b[0m         \u001b[0;32mif\u001b[0m \u001b[0mself\u001b[0m\u001b[0;34m.\u001b[0m\u001b[0mcount\u001b[0m \u001b[0;34m==\u001b[0m \u001b[0mexpectNumber\u001b[0m \u001b[0;32mand\u001b[0m \u001b[0;32mnot\u001b[0m \u001b[0mroot\u001b[0m\u001b[0;34m.\u001b[0m\u001b[0mleft\u001b[0m \u001b[0;32mand\u001b[0m \u001b[0;32mnot\u001b[0m \u001b[0mroot\u001b[0m\u001b[0;34m.\u001b[0m\u001b[0mright\u001b[0m\u001b[0;34m:\u001b[0m\u001b[0;34m\u001b[0m\u001b[0;34m\u001b[0m\u001b[0m\n\u001b[1;32m     22\u001b[0m             \u001b[0mself\u001b[0m\u001b[0;34m.\u001b[0m\u001b[0mresultList\u001b[0m\u001b[0;34m.\u001b[0m\u001b[0mappend\u001b[0m\u001b[0;34m(\u001b[0m\u001b[0mself\u001b[0m\u001b[0;34m.\u001b[0m\u001b[0mtempList\u001b[0m\u001b[0;34m)\u001b[0m\u001b[0;34m\u001b[0m\u001b[0;34m\u001b[0m\u001b[0m\n\u001b[0;32m---> 23\u001b[0;31m         \u001b[0mself\u001b[0m\u001b[0;34m.\u001b[0m\u001b[0mFindPath\u001b[0m\u001b[0;34m(\u001b[0m\u001b[0mroot\u001b[0m\u001b[0;34m.\u001b[0m\u001b[0mleft\u001b[0m\u001b[0;34m,\u001b[0m \u001b[0mexpectNumber\u001b[0m\u001b[0;34m,\u001b[0m\u001b[0mcount\u001b[0m\u001b[0;34m)\u001b[0m\u001b[0;34m\u001b[0m\u001b[0;34m\u001b[0m\u001b[0m\n\u001b[0m\u001b[1;32m     24\u001b[0m         \u001b[0mself\u001b[0m\u001b[0;34m.\u001b[0m\u001b[0mFindPath\u001b[0m\u001b[0;34m(\u001b[0m\u001b[0mroot\u001b[0m\u001b[0;34m.\u001b[0m\u001b[0mright\u001b[0m\u001b[0;34m,\u001b[0m \u001b[0mexpectNumber\u001b[0m\u001b[0;34m,\u001b[0m\u001b[0mcount\u001b[0m\u001b[0;34m)\u001b[0m\u001b[0;34m\u001b[0m\u001b[0;34m\u001b[0m\u001b[0m\n\u001b[1;32m     25\u001b[0m         \u001b[0mself\u001b[0m\u001b[0;34m.\u001b[0m\u001b[0mtempList\u001b[0m\u001b[0;34m.\u001b[0m\u001b[0mpop\u001b[0m\u001b[0;34m(\u001b[0m\u001b[0;34m)\u001b[0m\u001b[0;34m\u001b[0m\u001b[0;34m\u001b[0m\u001b[0m\n",
      "\u001b[0;31mTypeError\u001b[0m: FindPath() takes 3 positional arguments but 4 were given"
     ]
    }
   ],
   "source": [
    "obj.FindPath(root, 6)"
   ]
  },
  {
   "cell_type": "code",
   "execution_count": 304,
   "id": "latin-newfoundland",
   "metadata": {},
   "outputs": [],
   "source": [
    "count = 0\n",
    "res = []\n",
    "temp = []\n",
    "def getPath(root, target, sums):\n",
    "    if not root:\n",
    "        return\n",
    "    sums += root.val\n",
    "    tempList.append(root.val)\n",
    "    getPath(root.left, target, sums)\n",
    "    getPath(root.right, target, sums)\n",
    "    if sums == target and not root.left and not root.right:\n",
    "        res.append(tempList) \n",
    "    sums -= root.val\n",
    "    temp.pop()"
   ]
  },
  {
   "cell_type": "code",
   "execution_count": 305,
   "id": "marked-chicago",
   "metadata": {},
   "outputs": [
    {
     "ename": "IndexError",
     "evalue": "pop from empty list",
     "output_type": "error",
     "traceback": [
      "\u001b[0;31m---------------------------------------------------------------------------\u001b[0m",
      "\u001b[0;31mIndexError\u001b[0m                                Traceback (most recent call last)",
      "\u001b[0;32m<ipython-input-305-5bc93656f091>\u001b[0m in \u001b[0;36m<module>\u001b[0;34m\u001b[0m\n\u001b[0;32m----> 1\u001b[0;31m \u001b[0mgetPath\u001b[0m\u001b[0;34m(\u001b[0m\u001b[0mroot\u001b[0m\u001b[0;34m,\u001b[0m \u001b[0;36m6\u001b[0m\u001b[0;34m,\u001b[0m \u001b[0mcount\u001b[0m\u001b[0;34m)\u001b[0m\u001b[0;34m\u001b[0m\u001b[0;34m\u001b[0m\u001b[0m\n\u001b[0m",
      "\u001b[0;32m<ipython-input-304-46aecf716629>\u001b[0m in \u001b[0;36mgetPath\u001b[0;34m(root, target, sums)\u001b[0m\n\u001b[1;32m      7\u001b[0m     \u001b[0msums\u001b[0m \u001b[0;34m+=\u001b[0m \u001b[0mroot\u001b[0m\u001b[0;34m.\u001b[0m\u001b[0mval\u001b[0m\u001b[0;34m\u001b[0m\u001b[0;34m\u001b[0m\u001b[0m\n\u001b[1;32m      8\u001b[0m     \u001b[0mtempList\u001b[0m\u001b[0;34m.\u001b[0m\u001b[0mappend\u001b[0m\u001b[0;34m(\u001b[0m\u001b[0mroot\u001b[0m\u001b[0;34m.\u001b[0m\u001b[0mval\u001b[0m\u001b[0;34m)\u001b[0m\u001b[0;34m\u001b[0m\u001b[0;34m\u001b[0m\u001b[0m\n\u001b[0;32m----> 9\u001b[0;31m     \u001b[0mgetPath\u001b[0m\u001b[0;34m(\u001b[0m\u001b[0mroot\u001b[0m\u001b[0;34m.\u001b[0m\u001b[0mleft\u001b[0m\u001b[0;34m,\u001b[0m \u001b[0mtarget\u001b[0m\u001b[0;34m,\u001b[0m \u001b[0msums\u001b[0m\u001b[0;34m)\u001b[0m\u001b[0;34m\u001b[0m\u001b[0;34m\u001b[0m\u001b[0m\n\u001b[0m\u001b[1;32m     10\u001b[0m     \u001b[0mgetPath\u001b[0m\u001b[0;34m(\u001b[0m\u001b[0mroot\u001b[0m\u001b[0;34m.\u001b[0m\u001b[0mright\u001b[0m\u001b[0;34m,\u001b[0m \u001b[0mtarget\u001b[0m\u001b[0;34m,\u001b[0m \u001b[0msums\u001b[0m\u001b[0;34m)\u001b[0m\u001b[0;34m\u001b[0m\u001b[0;34m\u001b[0m\u001b[0m\n\u001b[1;32m     11\u001b[0m     \u001b[0;32mif\u001b[0m \u001b[0msums\u001b[0m \u001b[0;34m==\u001b[0m \u001b[0mtarget\u001b[0m \u001b[0;32mand\u001b[0m \u001b[0;32mnot\u001b[0m \u001b[0mroot\u001b[0m\u001b[0;34m.\u001b[0m\u001b[0mleft\u001b[0m \u001b[0;32mand\u001b[0m \u001b[0;32mnot\u001b[0m \u001b[0mroot\u001b[0m\u001b[0;34m.\u001b[0m\u001b[0mright\u001b[0m\u001b[0;34m:\u001b[0m\u001b[0;34m\u001b[0m\u001b[0;34m\u001b[0m\u001b[0m\n",
      "\u001b[0;32m<ipython-input-304-46aecf716629>\u001b[0m in \u001b[0;36mgetPath\u001b[0;34m(root, target, sums)\u001b[0m\n\u001b[1;32m      7\u001b[0m     \u001b[0msums\u001b[0m \u001b[0;34m+=\u001b[0m \u001b[0mroot\u001b[0m\u001b[0;34m.\u001b[0m\u001b[0mval\u001b[0m\u001b[0;34m\u001b[0m\u001b[0;34m\u001b[0m\u001b[0m\n\u001b[1;32m      8\u001b[0m     \u001b[0mtempList\u001b[0m\u001b[0;34m.\u001b[0m\u001b[0mappend\u001b[0m\u001b[0;34m(\u001b[0m\u001b[0mroot\u001b[0m\u001b[0;34m.\u001b[0m\u001b[0mval\u001b[0m\u001b[0;34m)\u001b[0m\u001b[0;34m\u001b[0m\u001b[0;34m\u001b[0m\u001b[0m\n\u001b[0;32m----> 9\u001b[0;31m     \u001b[0mgetPath\u001b[0m\u001b[0;34m(\u001b[0m\u001b[0mroot\u001b[0m\u001b[0;34m.\u001b[0m\u001b[0mleft\u001b[0m\u001b[0;34m,\u001b[0m \u001b[0mtarget\u001b[0m\u001b[0;34m,\u001b[0m \u001b[0msums\u001b[0m\u001b[0;34m)\u001b[0m\u001b[0;34m\u001b[0m\u001b[0;34m\u001b[0m\u001b[0m\n\u001b[0m\u001b[1;32m     10\u001b[0m     \u001b[0mgetPath\u001b[0m\u001b[0;34m(\u001b[0m\u001b[0mroot\u001b[0m\u001b[0;34m.\u001b[0m\u001b[0mright\u001b[0m\u001b[0;34m,\u001b[0m \u001b[0mtarget\u001b[0m\u001b[0;34m,\u001b[0m \u001b[0msums\u001b[0m\u001b[0;34m)\u001b[0m\u001b[0;34m\u001b[0m\u001b[0;34m\u001b[0m\u001b[0m\n\u001b[1;32m     11\u001b[0m     \u001b[0;32mif\u001b[0m \u001b[0msums\u001b[0m \u001b[0;34m==\u001b[0m \u001b[0mtarget\u001b[0m \u001b[0;32mand\u001b[0m \u001b[0;32mnot\u001b[0m \u001b[0mroot\u001b[0m\u001b[0;34m.\u001b[0m\u001b[0mleft\u001b[0m \u001b[0;32mand\u001b[0m \u001b[0;32mnot\u001b[0m \u001b[0mroot\u001b[0m\u001b[0;34m.\u001b[0m\u001b[0mright\u001b[0m\u001b[0;34m:\u001b[0m\u001b[0;34m\u001b[0m\u001b[0;34m\u001b[0m\u001b[0m\n",
      "\u001b[0;32m<ipython-input-304-46aecf716629>\u001b[0m in \u001b[0;36mgetPath\u001b[0;34m(root, target, sums)\u001b[0m\n\u001b[1;32m     12\u001b[0m         \u001b[0mres\u001b[0m\u001b[0;34m.\u001b[0m\u001b[0mappend\u001b[0m\u001b[0;34m(\u001b[0m\u001b[0mtempList\u001b[0m\u001b[0;34m)\u001b[0m\u001b[0;34m\u001b[0m\u001b[0;34m\u001b[0m\u001b[0m\n\u001b[1;32m     13\u001b[0m     \u001b[0msums\u001b[0m \u001b[0;34m-=\u001b[0m \u001b[0mroot\u001b[0m\u001b[0;34m.\u001b[0m\u001b[0mval\u001b[0m\u001b[0;34m\u001b[0m\u001b[0;34m\u001b[0m\u001b[0m\n\u001b[0;32m---> 14\u001b[0;31m     \u001b[0mtemp\u001b[0m\u001b[0;34m.\u001b[0m\u001b[0mpop\u001b[0m\u001b[0;34m(\u001b[0m\u001b[0;34m)\u001b[0m\u001b[0;34m\u001b[0m\u001b[0;34m\u001b[0m\u001b[0m\n\u001b[0m",
      "\u001b[0;31mIndexError\u001b[0m: pop from empty list"
     ]
    }
   ],
   "source": [
    "getPath(root, 6, count)"
   ]
  },
  {
   "cell_type": "code",
   "execution_count": null,
   "id": "nominated-cocktail",
   "metadata": {},
   "outputs": [],
   "source": []
  }
 ],
 "metadata": {
  "kernelspec": {
   "display_name": "Python 3",
   "language": "python",
   "name": "python3"
  },
  "language_info": {
   "codemirror_mode": {
    "name": "ipython",
    "version": 3
   },
   "file_extension": ".py",
   "mimetype": "text/x-python",
   "name": "python",
   "nbconvert_exporter": "python",
   "pygments_lexer": "ipython3",
   "version": "3.9.1rc1"
  }
 },
 "nbformat": 4,
 "nbformat_minor": 5
}
