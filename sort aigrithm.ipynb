{
 "cells": [
  {
   "cell_type": "code",
   "execution_count": 19,
   "id": "sexual-tooth",
   "metadata": {},
   "outputs": [],
   "source": [
    "# bubble sort\n",
    "                            \n",
    "def bubbleSort2(lst):\n",
    "    for i in range(len(lst) - 1):\n",
    "        for j in range(len(lst) - i - 1):\n",
    "            if lst[j] < lst[j + 1]:\n",
    "                lst[j], lst[j + 1] = lst[j + 1], lst[j]\n",
    "    return lst"
   ]
  },
  {
   "cell_type": "code",
   "execution_count": 41,
   "id": "written-serbia",
   "metadata": {},
   "outputs": [],
   "source": [
    "# select sort\n",
    "\n",
    "def selectSort(lst):\n",
    "    i = 0\n",
    "    while i < len(lst):\n",
    "        minLocation = i\n",
    "        j = i + 1\n",
    "        while j < len(lst):\n",
    "            if lst[j] < lst[minLocation]:\n",
    "                minLocation = j\n",
    "            j += 1\n",
    "        lst[minLocation], lst[i] = lst[i], lst[minLocation]\n",
    "        i += 1\n",
    "    return lst"
   ]
  },
  {
   "cell_type": "code",
   "execution_count": 42,
   "id": "national-realtor",
   "metadata": {},
   "outputs": [
    {
     "data": {
      "text/plain": [
       "[1, 1, 3, 4, 5, 5, 7, 9, 9, 10]"
      ]
     },
     "execution_count": 42,
     "metadata": {},
     "output_type": "execute_result"
    }
   ],
   "source": [
    "selectSort(lst)"
   ]
  },
  {
   "cell_type": "code",
   "execution_count": 43,
   "id": "lovely-compensation",
   "metadata": {},
   "outputs": [],
   "source": [
    "# insert sort\n",
    "\n",
    "def insertSort(lst):\n",
    "    i = 1\n",
    "    while i < len(lst):\n",
    "        tmp = lst[i]\n",
    "        j = i - 1\n",
    "        while j >= 0 and lst[j] > tmp:\n",
    "            lst[j + 1] = lst[j]\n",
    "            j -= 1\n",
    "        lst[j + 1] = tmp\n",
    "        i += 1\n",
    "    return lst"
   ]
  },
  {
   "cell_type": "code",
   "execution_count": 9,
   "id": "serious-hayes",
   "metadata": {},
   "outputs": [],
   "source": [
    "# quick sort\n",
    "\n",
    "def partition(lst, left, right):\n",
    "    tmp = lst[left]\n",
    "    while left < right:\n",
    "        while left < right and lst[right] >= tmp:\n",
    "            right -= 1\n",
    "        lst[left] = lst[right]\n",
    "        while left < right and lst[left] <= tmp:\n",
    "            left += 1\n",
    "        lst[right] = lst[left]\n",
    "    lst[left] = tmp\n",
    "    return left\n",
    "\n",
    "def quickSort(lst, left, right):\n",
    "    if left < right:\n",
    "        mid = partition(lst, left, right)\n",
    "        quickSort(lst, left, mid - 1)\n",
    "        quickSort(lst, mid + 1, right)\n",
    "\n",
    "        \n",
    "    "
   ]
  },
  {
   "cell_type": "code",
   "execution_count": 10,
   "id": "important-veteran",
   "metadata": {},
   "outputs": [
    {
     "name": "stdout",
     "output_type": "stream",
     "text": [
      "[2, 3, 3, 4, 6, 7, 9]\n"
     ]
    }
   ],
   "source": [
    "lst = [4,3,6,7,9,2,3]\n",
    "quickSort(lst,0, len(lst) - 1)\n",
    "print(lst)"
   ]
  },
  {
   "cell_type": "code",
   "execution_count": 56,
   "id": "satisfactory-spiritual",
   "metadata": {},
   "outputs": [
    {
     "name": "stdout",
     "output_type": "stream",
     "text": [
      "[1, 1, 3, 4, 5, 5, 7, 9, 9, 10]\n"
     ]
    }
   ],
   "source": [
    "# heap sort\n",
    "\n",
    "import heapq\n",
    "def heapSort(lst):\n",
    "    heapq.heapify(lst)\n",
    "    tempList = []\n",
    "    for i in range(len(lst)):\n",
    "        tempList.append(heapq.heappop(lst))\n",
    "    return tempList\n",
    "random.shuffle(lst)\n",
    "print(heapSort(lst))\n"
   ]
  },
  {
   "cell_type": "code",
   "execution_count": 1,
   "id": "coupled-accident",
   "metadata": {},
   "outputs": [],
   "source": [
    "# merge sort\n",
    "\n",
    "def partition(lst, left, mid, right):\n",
    "    i, j = left, mid + 1\n",
    "    tempList = []\n",
    "    while i <= mid and j <= right:\n",
    "        if lst[i] < lst[j]:\n",
    "            tempList.append(lst[i])\n",
    "            i += 1\n",
    "        else:\n",
    "            tempList.append(lst[j])\n",
    "            j += 1\n",
    "    while i <= mid:\n",
    "        tempList.append(lst[i])\n",
    "        i += 1\n",
    "    while j <= right:\n",
    "        tempList.append(lst[j])\n",
    "        j += 1\n",
    "    lst[left:right + 1] = tempList\n",
    "#     print(lst)\n",
    "        \n",
    "        \n",
    "def mergeSort(lst, left, right):\n",
    "    if left < right:\n",
    "        mid = (left + right) // 2\n",
    "        mergeSort(lst, left, mid)\n",
    "        mergeSort(lst, mid + 1, right)\n",
    "        partition(lst, left, mid, right)\n",
    "    return lst\n",
    "    "
   ]
  },
  {
   "cell_type": "code",
   "execution_count": 2,
   "id": "favorite-cleaning",
   "metadata": {},
   "outputs": [
    {
     "data": {
      "text/plain": [
       "[1, 2, 2, 3, 5, 7, 9]"
      ]
     },
     "execution_count": 2,
     "metadata": {},
     "output_type": "execute_result"
    }
   ],
   "source": [
    "mergeSort([5,3,2,7,2,9,1],0,6)"
   ]
  },
  {
   "cell_type": "code",
   "execution_count": 100,
   "id": "central-stupid",
   "metadata": {},
   "outputs": [],
   "source": [
    "lst = [i for i in range(10)]"
   ]
  },
  {
   "cell_type": "code",
   "execution_count": 101,
   "id": "arabic-triangle",
   "metadata": {},
   "outputs": [],
   "source": [
    "random.shuffle(lst)"
   ]
  },
  {
   "cell_type": "code",
   "execution_count": 102,
   "id": "reserved-language",
   "metadata": {},
   "outputs": [
    {
     "data": {
      "text/plain": [
       "[7, 3, 1, 2, 9, 4, 5, 0, 6, 8]"
      ]
     },
     "execution_count": 102,
     "metadata": {},
     "output_type": "execute_result"
    }
   ],
   "source": [
    "lst\n"
   ]
  },
  {
   "cell_type": "code",
   "execution_count": 103,
   "id": "voluntary-navigation",
   "metadata": {},
   "outputs": [
    {
     "name": "stdout",
     "output_type": "stream",
     "text": [
      "[0, 1, 2, 3, 4, 5, 6, 7, 8, 9]\n"
     ]
    }
   ],
   "source": [
    "\n",
    "mergeSort(lst, 0, len(lst) - 1)\n",
    "print(lst)"
   ]
  },
  {
   "cell_type": "code",
   "execution_count": 105,
   "id": "approved-athletics",
   "metadata": {},
   "outputs": [],
   "source": [
    "llst = [1,3,5,7,2,4,6,8]"
   ]
  },
  {
   "cell_type": "code",
   "execution_count": 106,
   "id": "nervous-victim",
   "metadata": {},
   "outputs": [],
   "source": [
    "partition(llst, 0, 3, 7)"
   ]
  },
  {
   "cell_type": "code",
   "execution_count": 107,
   "id": "stable-southeast",
   "metadata": {},
   "outputs": [
    {
     "data": {
      "text/plain": [
       "[1, 2, 3, 4, 5, 6, 7, 8]"
      ]
     },
     "execution_count": 107,
     "metadata": {},
     "output_type": "execute_result"
    }
   ],
   "source": [
    "llst"
   ]
  },
  {
   "cell_type": "code",
   "execution_count": 108,
   "id": "decreased-mumbai",
   "metadata": {},
   "outputs": [],
   "source": [
    "# bubble sort \n",
    "\n",
    "def bubbleSort(lst):\n",
    "    for i in range(len(lst) - 1):\n",
    "        for j in range(len(lst) - i - 1):\n",
    "            if lst[j] > lst[j + 1]:\n",
    "                lst[j], lst[j + 1] = lst[j + 1], lst[j]\n",
    "    return lst\n"
   ]
  },
  {
   "cell_type": "code",
   "execution_count": 109,
   "id": "complimentary-berkeley",
   "metadata": {},
   "outputs": [
    {
     "data": {
      "text/plain": [
       "[1, 2, 3, 4, 6, 7, 9]"
      ]
     },
     "execution_count": 109,
     "metadata": {},
     "output_type": "execute_result"
    }
   ],
   "source": [
    "bubbleSort([4,6,3,1,9,7,2])"
   ]
  },
  {
   "cell_type": "code",
   "execution_count": 112,
   "id": "prompt-south",
   "metadata": {},
   "outputs": [],
   "source": [
    "# select sort\n",
    "\n",
    "def selectSort(lst):\n",
    "    for i in range(len(lst)):\n",
    "        minLocation = i\n",
    "        for j in range(i + 1, len(lst)):\n",
    "            if lst[j] < lst[minLocation]:\n",
    "                minLocation = j\n",
    "        lst[i], lst[minLocation] = lst[minLocation], lst[i]\n",
    "    return lst"
   ]
  },
  {
   "cell_type": "code",
   "execution_count": 114,
   "id": "second-scientist",
   "metadata": {},
   "outputs": [
    {
     "data": {
      "text/plain": [
       "[0, 1, 2, 3, 4, 6, 7, 9]"
      ]
     },
     "execution_count": 114,
     "metadata": {},
     "output_type": "execute_result"
    }
   ],
   "source": [
    "selectSort([4,6,3,1,9,7,2,0])"
   ]
  },
  {
   "cell_type": "code",
   "execution_count": 123,
   "id": "nonprofit-groove",
   "metadata": {},
   "outputs": [],
   "source": [
    "# insert sort\n",
    "\n",
    "def insertSort(lst):\n",
    "    for i in range(1,len(lst)):\n",
    "        temp = lst[i]\n",
    "        j = i - 1\n",
    "        while j >= 0 and lst[j] > temp:\n",
    "            lst[j + 1] = lst[j]\n",
    "            j -= 1\n",
    "        lst[j + 1] = temp\n",
    "    return lst"
   ]
  },
  {
   "cell_type": "code",
   "execution_count": 125,
   "id": "visible-dancing",
   "metadata": {},
   "outputs": [
    {
     "data": {
      "text/plain": [
       "[1, 2, 3, 4, 6, 7, 9]"
      ]
     },
     "execution_count": 125,
     "metadata": {},
     "output_type": "execute_result"
    }
   ],
   "source": [
    "insertSort([4,6,3,1,9,7,2])"
   ]
  },
  {
   "cell_type": "code",
   "execution_count": 128,
   "id": "suspended-latex",
   "metadata": {},
   "outputs": [],
   "source": [
    "# quick sort\n",
    "\n",
    "def partition(lst, left, right):\n",
    "    temp = lst[left]\n",
    "    while left < right:\n",
    "        while left < right and lst[right] > temp:\n",
    "            right -= 1\n",
    "        lst[left] = lst[right]\n",
    "        while left < right and lst[left] < temp:\n",
    "            left += 1\n",
    "        lst[right] = lst[left]\n",
    "    lst[left] = temp\n",
    "    return left        \n",
    "    \n",
    "def quickSort(lst, left, right):\n",
    "    if left < right:\n",
    "        mid = partition(lst, left, right)\n",
    "        quickSort(lst, left, mid - 1)\n",
    "        quickSort(lst, mid + 1, right)\n",
    "    "
   ]
  },
  {
   "cell_type": "code",
   "execution_count": 129,
   "id": "interested-roommate",
   "metadata": {},
   "outputs": [],
   "source": [
    "lst = [7,4,6,2,3,9,1]\n",
    "quickSort(lst, 0, 6)"
   ]
  },
  {
   "cell_type": "code",
   "execution_count": 131,
   "id": "collectible-companion",
   "metadata": {},
   "outputs": [],
   "source": [
    "# heap sort\n",
    "import heapq\n",
    "def heapqSort(lst):\n",
    "    heapq.heapify(lst)\n",
    "    tempList = []\n",
    "    for i in range(len(lst)):\n",
    "        tempList.append(heapq.heappop(lst))\n",
    "    return tempList"
   ]
  },
  {
   "cell_type": "code",
   "execution_count": 132,
   "id": "excellent-bracket",
   "metadata": {},
   "outputs": [
    {
     "data": {
      "text/plain": [
       "[1, 2, 3, 4, 6, 7, 9]"
      ]
     },
     "execution_count": 132,
     "metadata": {},
     "output_type": "execute_result"
    }
   ],
   "source": [
    "heapqSort([7,4,6,2,3,9,1])"
   ]
  },
  {
   "cell_type": "code",
   "execution_count": 140,
   "id": "dying-ideal",
   "metadata": {},
   "outputs": [],
   "source": [
    "# merge sort\n",
    "\n",
    "def partition(lst, left, mid, right):\n",
    "    tempList = []\n",
    "    i, j = left, mid + 1\n",
    "    while i <= mid and j <= right:\n",
    "        if lst[i] < lst[j]:\n",
    "            tempList.append(lst[i])\n",
    "            i += 1\n",
    "        else:\n",
    "            tempList.append(lst[j])\n",
    "            j += 1\n",
    "    while i <= mid:\n",
    "        tempList.append(lst[i])\n",
    "        i += 1\n",
    "    while j <= right:\n",
    "        tempList.append(lst[j])\n",
    "        j += 1\n",
    "    lst[left: right + 1] = tempList\n",
    "\n",
    "def mergeSort(lst, left, right):\n",
    "    if left < right:\n",
    "        mid = (left + right) // 2\n",
    "        mergeSort(lst, left, mid)\n",
    "        mergeSort(lst, mid + 1, right)\n",
    "        partition(lst, left, mid, right)\n",
    "    \n",
    "        "
   ]
  },
  {
   "cell_type": "code",
   "execution_count": 142,
   "id": "sophisticated-switch",
   "metadata": {},
   "outputs": [
    {
     "name": "stdout",
     "output_type": "stream",
     "text": [
      "[1, 2, 4, 4, 5, 6, 7]\n"
     ]
    }
   ],
   "source": [
    "lst = [4,7,2,4,5,6,1]\n",
    "mergeSort(lst, 0, 6)\n",
    "print(lst)"
   ]
  },
  {
   "cell_type": "code",
   "execution_count": 145,
   "id": "acceptable-grass",
   "metadata": {},
   "outputs": [],
   "source": [
    "# charge\n",
    "\n",
    "def getcharge(count):\n",
    "    moneyList = [100, 50, 5, 1]\n",
    "    tempList = [0 for i in range(len(moneyList))]\n",
    "    for index, money in enumerate(moneyList):\n",
    "        tempList[index] = count // money\n",
    "        count = count % money\n",
    "    return tempList, count"
   ]
  },
  {
   "cell_type": "code",
   "execution_count": 146,
   "id": "facial-colon",
   "metadata": {
    "scrolled": true
   },
   "outputs": [
    {
     "data": {
      "text/plain": [
       "([15, 0, 4, 4], 0)"
      ]
     },
     "execution_count": 146,
     "metadata": {},
     "output_type": "execute_result"
    }
   ],
   "source": [
    "getcharge(1524)"
   ]
  },
  {
   "cell_type": "code",
   "execution_count": 152,
   "id": "cultural-steel",
   "metadata": {},
   "outputs": [
    {
     "data": {
      "text/plain": [
       "[1, 1, 0.6666666666666666]"
      ]
     },
     "execution_count": 152,
     "metadata": {},
     "output_type": "execute_result"
    }
   ],
   "source": [
    "# not integer pack bag\n",
    "\n",
    "goods = [(60, 10), (100, 20), (120, 30)]\n",
    "goods.sort(key = lambda x: x[0] / x[1], reverse= True)\n",
    "def getCount(goods, V):\n",
    "    temoList = [0 for i in range(len(goods))]\n",
    "    for index, (prize, weight) in enumerate(goods):\n",
    "        if weight < V:\n",
    "            temoList[index] = 1\n",
    "            V -= weight\n",
    "        else:\n",
    "            temoList[index] = V / weight\n",
    "            break\n",
    "    return temoList\n",
    "getCount(goods, 50)    "
   ]
  },
  {
   "cell_type": "code",
   "execution_count": 157,
   "id": "dominant-naples",
   "metadata": {},
   "outputs": [
    {
     "data": {
      "text/plain": [
       "'94716321286128'"
      ]
     },
     "execution_count": 157,
     "metadata": {},
     "output_type": "execute_result"
    }
   ],
   "source": [
    "lst = [32, 94, 128, 1286, 6, 71]\n",
    "def getMax(lst):\n",
    "    lst = list(map(str, lst))\n",
    "    for i in range(len(lst) - 1):\n",
    "        for j in range(len(lst) - i - 1):\n",
    "            if (lst[j] + lst[j + 1]) < (lst[j + 1] + lst[j]):\n",
    "                lst[j + 1], lst[j] = lst[j], lst[j+ 1]\n",
    "    return \"\".join(lst)\n",
    "getMax(lst)"
   ]
  },
  {
   "cell_type": "code",
   "execution_count": 164,
   "id": "british-pioneer",
   "metadata": {},
   "outputs": [
    {
     "name": "stdout",
     "output_type": "stream",
     "text": [
      "999\n"
     ]
    },
    {
     "ename": "OverflowError",
     "evalue": "cannot fit 'int' into an index-sized integer",
     "output_type": "error",
     "traceback": [
      "\u001b[0;31m---------------------------------------------------------------------------\u001b[0m",
      "\u001b[0;31mOverflowError\u001b[0m                             Traceback (most recent call last)",
      "\u001b[0;32m<ipython-input-164-444e71754fe0>\u001b[0m in \u001b[0;36m<module>\u001b[0;34m\u001b[0m\n\u001b[1;32m      1\u001b[0m \u001b[0mn\u001b[0m \u001b[0;34m=\u001b[0m \u001b[0mint\u001b[0m\u001b[0;34m(\u001b[0m\u001b[0minput\u001b[0m\u001b[0;34m(\u001b[0m\u001b[0;34m)\u001b[0m\u001b[0;34m)\u001b[0m\u001b[0;34m\u001b[0m\u001b[0;34m\u001b[0m\u001b[0m\n\u001b[0;32m----> 2\u001b[0;31m \u001b[0mprint\u001b[0m\u001b[0;34m(\u001b[0m\u001b[0;34m\"%.6f\"\u001b[0m\u001b[0;34m%\u001b[0m\u001b[0;36m0.01\u001b[0m\u001b[0;34m*\u001b[0m\u001b[0;34m(\u001b[0m\u001b[0;36m2\u001b[0m\u001b[0;34m**\u001b[0m\u001b[0mn\u001b[0m \u001b[0;34m-\u001b[0m \u001b[0;36m1\u001b[0m\u001b[0;34m)\u001b[0m\u001b[0;34m)\u001b[0m\u001b[0;34m\u001b[0m\u001b[0;34m\u001b[0m\u001b[0m\n\u001b[0m",
      "\u001b[0;31mOverflowError\u001b[0m: cannot fit 'int' into an index-sized integer"
     ]
    }
   ],
   "source": [
    "n = int(input())\n",
    "print(\"%.6f\"%0.01*(2**n - 1))"
   ]
  },
  {
   "cell_type": "code",
   "execution_count": null,
   "id": "loose-leave",
   "metadata": {},
   "outputs": [],
   "source": []
  }
 ],
 "metadata": {
  "kernelspec": {
   "display_name": "Python 3",
   "language": "python",
   "name": "python3"
  },
  "language_info": {
   "codemirror_mode": {
    "name": "ipython",
    "version": 3
   },
   "file_extension": ".py",
   "mimetype": "text/x-python",
   "name": "python",
   "nbconvert_exporter": "python",
   "pygments_lexer": "ipython3",
   "version": "3.9.1rc1"
  }
 },
 "nbformat": 4,
 "nbformat_minor": 5
}
