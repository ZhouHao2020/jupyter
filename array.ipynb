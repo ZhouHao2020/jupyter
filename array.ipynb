{
 "cells": [
  {
   "cell_type": "code",
   "execution_count": 10,
   "id": "worst-accounting",
   "metadata": {},
   "outputs": [],
   "source": [
    "# get the min distance\n",
    "\n",
    "def getMinDistance(array, item1, item2):\n",
    "    lastPos1 = -1\n",
    "    lastPos2 = -1\n",
    "    lens = len(array)\n",
    "    minDistance = 2**32\n",
    "    i = 0\n",
    "    while i < lens:\n",
    "        if array[i] == item1:\n",
    "            lastPos1 = i\n",
    "            if lastPos2 > 0:\n",
    "                minDistance = min(minDistance, lastPos1 - lastPos2)\n",
    "        if array[i] == item2:\n",
    "            lastPos2 = i\n",
    "            if lastPos1 > 0:\n",
    "                minDistance = min(minDistance, lastPos2 - lastPos1)\n",
    "        i += 1\n",
    "    return minDistance\n",
    "\n",
    "\n",
    "                \n",
    "                \n",
    "    "
   ]
  },
  {
   "cell_type": "code",
   "execution_count": 25,
   "id": "alpha-armstrong",
   "metadata": {},
   "outputs": [],
   "source": [
    "# get the max sub sums of array\n",
    "\n",
    "maxSums = -2**31\n",
    "def getMaxSubArray(array):\n",
    "    maxSums = -2**31\n",
    "    i = 0\n",
    "    lens = len(array)\n",
    "    while i < lens:\n",
    "        sums = 0\n",
    "        j = i\n",
    "        while j < lens:\n",
    "            sums += array[j]\n",
    "            if sums > maxSums:\n",
    "                maxSums = sums\n",
    "            j += 1\n",
    "        i += 1\n",
    "    return maxSums\n"
   ]
  },
  {
   "cell_type": "code",
   "execution_count": 1,
   "id": "judicial-sarah",
   "metadata": {},
   "outputs": [],
   "source": [
    "# get the all probalities of an array\n",
    "\n",
    "def getAllPros(array):\n",
    "    result = []\n",
    "    result.append(array[0])\n",
    "    i = 1\n",
    "    while i < len(array):\n",
    "        j = 0\n",
    "        lens = len(result)\n",
    "        while j < lens:\n",
    "            result.append(result[j] + array[i])\n",
    "            j += 1\n",
    "        result.append(array[i])\n",
    "        i += 1\n",
    "    return result\n",
    "\n"
   ]
  },
  {
   "cell_type": "code",
   "execution_count": 5,
   "id": "criminal-rover",
   "metadata": {},
   "outputs": [
    {
     "data": {
      "text/plain": [
       "['a', 'ab', 'b', 'ac', 'abc', 'bc', 'c']"
      ]
     },
     "execution_count": 5,
     "metadata": {},
     "output_type": "execute_result"
    }
   ],
   "source": [
    "getAllPros([\"a\",\"b\",\"c\"])"
   ]
  },
  {
   "cell_type": "code",
   "execution_count": null,
   "id": "boxed-subscriber",
   "metadata": {},
   "outputs": [],
   "source": []
  }
 ],
 "metadata": {
  "kernelspec": {
   "display_name": "Python 3",
   "language": "python",
   "name": "python3"
  },
  "language_info": {
   "codemirror_mode": {
    "name": "ipython",
    "version": 3
   },
   "file_extension": ".py",
   "mimetype": "text/x-python",
   "name": "python",
   "nbconvert_exporter": "python",
   "pygments_lexer": "ipython3",
   "version": "3.9.1rc1"
  }
 },
 "nbformat": 4,
 "nbformat_minor": 5
}
