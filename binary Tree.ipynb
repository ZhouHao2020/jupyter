{
 "cells": [
  {
   "cell_type": "code",
   "execution_count": 11,
   "id": "historical-organization",
   "metadata": {},
   "outputs": [],
   "source": [
    "# give a array and translate it to be a binary tree\n",
    "\n",
    "class singleNode():\n",
    "    def __init__(self):\n",
    "        self.data = None\n",
    "        self.left = None\n",
    "        self.right = None\n",
    "\n",
    "def arrayToTree(array, begin, end):\n",
    "    if not array:\n",
    "        return False\n",
    "    if end >= begin:\n",
    "        tempRoot = singleNode()\n",
    "        mid = (begin + end + 1) // 2\n",
    "        tempRoot.data = array[mid]\n",
    "        tempRoot.left = arrayToTree(array, begin, mid - 1)\n",
    "        tempRoot.right = arrayToTree(array, mid + 1, end)\n",
    "    else:\n",
    "        tempRoot = None\n",
    "    return tempRoot\n",
    "\n",
    "def prevOrder(root):\n",
    "    if not root:\n",
    "        return False\n",
    "    if root.left:\n",
    "        prevOrder(root.left)\n",
    "    print(root.data)\n",
    "    if root.right:\n",
    "        prevOrder(root.right)\n",
    "        "
   ]
  },
  {
   "cell_type": "code",
   "execution_count": 12,
   "id": "talented-outreach",
   "metadata": {
    "collapsed": true
   },
   "outputs": [
    {
     "name": "stdout",
     "output_type": "stream",
     "text": [
      "1\n",
      "2\n",
      "3\n",
      "4\n",
      "5\n",
      "6\n",
      "7\n",
      "8\n",
      "9\n",
      "10\n"
     ]
    }
   ],
   "source": [
    "tempList = [1, 2, 3, 4, 5, 6, 7, 8, 9, 10]\n",
    "root = arrayToTree(tempList, 0, len(tempList) - 1)\n",
    "prevOrder(root)"
   ]
  },
  {
   "cell_type": "code",
   "execution_count": null,
   "id": "subjective-distinction",
   "metadata": {},
   "outputs": [],
   "source": [
    "# visit binary tree in layer\n",
    "\n",
    "from collections import deque\n",
    "def printBinaryTreeByTree(root):\n",
    "    if not root:\n",
    "        return False\n",
    "    queue = deque()\n",
    "    queue.append(root)\n",
    "    resultList = []\n",
    "    while queue:\n",
    "        tempNode = queue.popleft()\n",
    "        resultList.append(tempList.data)\n",
    "        if tempNode.left:\n",
    "            queue.append(tempNode.left)\n",
    "        if tempNode.right:\n",
    "            queue.append(tempNode.right)\n",
    "    return resultList\n",
    "            "
   ]
  },
  {
   "cell_type": "code",
   "execution_count": null,
   "id": "willing-composer",
   "metadata": {},
   "outputs": [],
   "source": [
    "# get the max sub tree sums of a binary tree\n",
    "\n",
    "maxSub = -1**31\n",
    "def getSubMax(root, maxRoot):\n",
    "    if not root:\n",
    "        return 0\n",
    "    lmax = getSubMax(root.left, maxRoot)\n",
    "    rmax = getSubMax(root.right, maxRoot)\n",
    "    sums = lmax + rmax + root.data\n",
    "    if sums > maxSub:\n",
    "        maxSub = sums\n",
    "        maxRoot.data = root.data\n",
    "    return sums\n"
   ]
  },
  {
   "cell_type": "code",
   "execution_count": null,
   "id": "velvet-documentation",
   "metadata": {},
   "outputs": [],
   "source": [
    "# judege whether two tree a same tree or not\n",
    "\n",
    "def isSameTree(root1, root2):\n",
    "    if not root1 and not root2:\n",
    "        return True\n",
    "    if not root1 and root2:\n",
    "        return False\n",
    "    if root1 and not root2:\n",
    "        return False\n",
    "    if root1.data != root2.data:\n",
    "        return False\n",
    "    isSameTree(root1.left, root2.left)\n",
    "    isSameTree(root1.right, root2.right)\n",
    "    "
   ]
  },
  {
   "cell_type": "code",
   "execution_count": null,
   "id": "failing-butterfly",
   "metadata": {},
   "outputs": [],
   "source": [
    "#translate a BST to be a double listnode\n",
    "\n",
    "pHead = None\n",
    "pEnd =None\n",
    "def BSTToListnode(root):\n",
    "    if not root:\n",
    "        return \n",
    "    BSTToListnode(root.left)\n",
    "    root.left = pEnd\n",
    "    if not pEnd:\n",
    "        pHead = root\n",
    "    else:\n",
    "        pEnd.right = root\n",
    "    pEnd = root\n",
    "    BSTToListnode(root.right)\n",
    "    "
   ]
  },
  {
   "cell_type": "code",
   "execution_count": null,
   "id": "turned-uncle",
   "metadata": {},
   "outputs": [],
   "source": [
    "# get the common parent node of two node in the same binary tree\n",
    "\n",
    "def findTargetNodePath(root, data, stack):\n",
    "    if not root:\n",
    "        return False\n",
    "    if root.data == data:\n",
    "        stack.append(root.data)\n",
    "        return True\n",
    "    if findTargetNodePath(root.left, data, stack) or findTargetNodePath(root.right, data, stack):\n",
    "        stack.append(root.data)\n",
    "        return True\n",
    "    return False\n",
    "\n",
    "def getCommonNode(root, data1, data2):\n",
    "    stack1 = []\n",
    "    stack2 = []\n",
    "    findTargetNodePath(root, data1, stack1)\n",
    "    findTargetNodePath(root, data2, stack2)\n",
    "    commonParentNode = None\n",
    "    while stack1[-1] == stack2[-1]:\n",
    "        commonParentNode = stack1.pop()\n",
    "        stack2.pop()\n",
    "    return commonParentNode\n",
    "    "
   ]
  },
  {
   "cell_type": "code",
   "execution_count": null,
   "id": "coupled-contest",
   "metadata": {},
   "outputs": [],
   "source": [
    "# copy a binary tree\n",
    "\n",
    "class singleNode(object):\n",
    "    def __init__(self):\n",
    "        self.data = None\n",
    "        self.left = None\n",
    "        self.right = None\n",
    "        \n",
    "def duplicateTree(root):\n",
    "    if not root:\n",
    "        return None\n",
    "    node = singleNode()\n",
    "    node.data = root.data\n",
    "    node.left = duplicateTree(root.left)\n",
    "    node.right = duplicateTree(root.right)\n",
    "    return node\n"
   ]
  },
  {
   "cell_type": "code",
   "execution_count": null,
   "id": "gorgeous-export",
   "metadata": {},
   "outputs": [],
   "source": [
    "# get the target route \n",
    "\n",
    "def getTargetRoute(root, sums, target, tempList, resultList):\n",
    "    sums += root.data\n",
    "    tempList.append(root.data)\n",
    "    if sums == target and not root.left and not root.right:\n",
    "        resultList.append(tempList)\n",
    "    if root.left:\n",
    "        getTargetRoute(root.left, target, tempList, resultList)\n",
    "    if root.right:\n",
    "        getTargetRoute(root.right, target, tempList, resultList)\n",
    "    sums -= root.data\n",
    "    tempList.pop()\n",
    "    "
   ]
  },
  {
   "cell_type": "code",
   "execution_count": null,
   "id": "decreased-current",
   "metadata": {},
   "outputs": [],
   "source": [
    "# reverse a binary tree\n",
    "\n",
    "def reverseTree(root):\n",
    "    if not root:\n",
    "        return \n",
    "    reverseTree(root.left)\n",
    "    reverseTree(root.right)\n",
    "    tmp = root.left\n",
    "    root.left = root.right\n",
    "    root.right = tmp\n",
    "    # root.left, root.right = root.right, root.right\n",
    "    \n",
    "    "
   ]
  },
  {
   "cell_type": "code",
   "execution_count": null,
   "id": "fourth-serve",
   "metadata": {},
   "outputs": [],
   "source": [
    "# get the number \n",
    "\n",
    "def getRSTMinNumber(root):\n",
    "    while root.left:\n",
    "        minNumber = root.left\n",
    "        root = root.left\n",
    "    return minNumber.data  \n",
    "\n",
    "def getRSTMaxNumber(root):\n",
    "    while root.right:\n",
    "        maxNumber = root.right\n",
    "        root = root.right\n",
    "    return maxNumber.data\n",
    "\n",
    "def getTarget(root):\n",
    "    minNumbere = minNumbere(root)\n",
    "    maxNumber = maxNumber(root)\n",
    "    mid = (minNumbere.data + maxNumber.data) // 2\n",
    "    while root:\n",
    "        if mid >= root.data:\n",
    "            result = root\n",
    "            root = root.right\n",
    "        else:\n",
    "            result = root\n",
    "            root = root.left\n",
    "    return result.data\n",
    "\n",
    "        \n",
    "        "
   ]
  },
  {
   "cell_type": "code",
   "execution_count": 17,
   "id": "lined-soundtrack",
   "metadata": {},
   "outputs": [],
   "source": [
    "# get the max sub sums of a tree\n",
    "\n",
    "maxs = -1**31\n",
    "def getMax(a, b, c):\n",
    "    maxItem = a if a > b else b\n",
    "    maxItem = c if c > maxItem else maxItem\n",
    "    return maxItem\n",
    "\n",
    "def getMaxSub(root):\n",
    "    if not root:\n",
    "        return 0\n",
    "    leftSum = getMaxSub(root.left)\n",
    "    rightSum = getMaxSub(root.right)\n",
    "    leftMax = leftSum + root.data\n",
    "    rightMax = rightSum + root.data\n",
    "    allMax = leftSum + rightSum + root.data\n",
    "    tempMax = getMax(leftMax, rightMax, allMax)\n",
    "    if tempMax > maxs:\n",
    "        maxs = tempMax\n",
    "    subMax = leftSum if leftSum > rightSum else rightSum\n",
    "    return subMax + root.data\n",
    "    "
   ]
  },
  {
   "cell_type": "code",
   "execution_count": 19,
   "id": "universal-accountability",
   "metadata": {},
   "outputs": [],
   "source": [
    "def mege(nums1, nums2):\n",
    "    if not nums1 or not nums2:\n",
    "        return\n",
    "    i, j = 0, 0\n",
    "    lens1, lens2 = len(nums1), len(nums2)\n",
    "    resultList = []\n",
    "    while i < lens1 and j < lens2:\n",
    "        if nums1[i] < nums2[j]:\n",
    "            resultList.append(nums1[i])\n",
    "            i += 1\n",
    "        else:\n",
    "            resultList.append(nums2[j])\n",
    "            j += 1\n",
    "    if i < lens1:\n",
    "        nums1 = resultList + nums1[i:lens1]\n",
    "    if j < lens2:\n",
    "        nums1 = resultList + nums2[j:lens2]\n",
    "    return nums1\n"
   ]
  },
  {
   "cell_type": "code",
   "execution_count": 22,
   "id": "acquired-advisory",
   "metadata": {},
   "outputs": [],
   "source": [
    "result = mege([1, 2, 7],[4, 5, 6])"
   ]
  },
  {
   "cell_type": "code",
   "execution_count": 23,
   "id": "tough-madness",
   "metadata": {},
   "outputs": [
    {
     "data": {
      "text/plain": [
       "[1, 2, 4, 5, 6, 7]"
      ]
     },
     "execution_count": 23,
     "metadata": {},
     "output_type": "execute_result"
    }
   ],
   "source": [
    "result"
   ]
  },
  {
   "cell_type": "code",
   "execution_count": null,
   "id": "fifth-combining",
   "metadata": {},
   "outputs": [],
   "source": []
  }
 ],
 "metadata": {
  "kernelspec": {
   "display_name": "Python 3",
   "language": "python",
   "name": "python3"
  },
  "language_info": {
   "codemirror_mode": {
    "name": "ipython",
    "version": 3
   },
   "file_extension": ".py",
   "mimetype": "text/x-python",
   "name": "python",
   "nbconvert_exporter": "python",
   "pygments_lexer": "ipython3",
   "version": "3.9.1rc1"
  }
 },
 "nbformat": 4,
 "nbformat_minor": 5
}
