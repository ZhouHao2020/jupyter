{
 "cells": [
  {
   "cell_type": "code",
   "execution_count": 9,
   "id": "plain-locking",
   "metadata": {},
   "outputs": [],
   "source": [
    "# get all probilities of a string\n",
    "\n",
    "def getAllPros(string, start):\n",
    "    if not string:\n",
    "        return\n",
    "    if start == len(string) - 1:\n",
    "        print(\"\".join(string))\n",
    "    else:\n",
    "        i = start\n",
    "        while i < len(string):\n",
    "            string[i], string[start] = string[start], string[i]\n",
    "            getAllPros(string, start + 1)\n",
    "            string[i], string[start] = string[start], string[i]\n",
    "            i += 1\n",
    "            "
   ]
  },
  {
   "cell_type": "code",
   "execution_count": 26,
   "id": "covered-location",
   "metadata": {},
   "outputs": [],
   "source": [
    "# match string a and string b\n",
    "\n",
    "def match(stringA, stringB):\n",
    "    lenA = len(stringA)\n",
    "    lenB = len(stringB)\n",
    "    i, j = 0, 0\n",
    "    while i < lenA and j < lenB:\n",
    "        if stringA[i] == stringB[j]:\n",
    "            i += 1\n",
    "            j += 1\n",
    "        else:\n",
    "            i = i - j + 1\n",
    "            j = 0\n",
    "            if i > lenA - lenB:\n",
    "                return False\n",
    "    if j == lenB:\n",
    "        return i - j\n",
    "    return False\n",
    "            \n",
    "        "
   ]
  },
  {
   "cell_type": "code",
   "execution_count": 28,
   "id": "hourly-aruba",
   "metadata": {},
   "outputs": [
    {
     "data": {
      "text/plain": [
       "False"
      ]
     },
     "execution_count": 28,
     "metadata": {},
     "output_type": "execute_result"
    }
   ],
   "source": [
    "match(\"abcdabd\",\"abde\")"
   ]
  },
  {
   "cell_type": "code",
   "execution_count": 14,
   "id": "handy-utilization",
   "metadata": {},
   "outputs": [],
   "source": [
    "# get the longest tracbackSub string\n",
    "\n",
    "class longestTrack(object):\n",
    "    def __init__(self):\n",
    "        self.lens = - 2**31\n",
    "        self.startIndex = None\n",
    "    def getSingleTrack(self, string, c1, c2):\n",
    "        n = len(string)\n",
    "        while c1 >= 0 and c2 < n and string[c1] == string[c2]:\n",
    "            c1 -= 1\n",
    "            c2 += 1\n",
    "        tempLens = c2 - c1 - 1\n",
    "        tempStart = c1 + 1\n",
    "        if tempLens > self.lens:\n",
    "            self.lens = tempLens\n",
    "            self.startIndex = tempStart\n",
    "            \n",
    "    def getLongestSubTrack(self, string):\n",
    "        i = 0\n",
    "        while i < len(string) - 1:\n",
    "            self.getSingleTrack(string, i, i)\n",
    "            self.getSingleTrack(string, i , i + 1)\n",
    "            i += 1\n",
    "        return self.startIndex, self.lens\n",
    "        \n",
    "        "
   ]
  },
  {
   "cell_type": "code",
   "execution_count": 30,
   "id": "private-necklace",
   "metadata": {},
   "outputs": [],
   "source": [
    "# get the duplicate chacter's counters by recur\n",
    "\n",
    "def getDup(string, startIndex, curMaxLen, maxLen):\n",
    "    if startIndex == len(string) - 1:\n",
    "        return max(curMaxLen, maxLen)\n",
    "    if string[startIndex] == string[startIndex + 1]:\n",
    "        return getDup(string, startIndex + 1, curMaxLen + 1, maxLen)\n",
    "    else:\n",
    "        return getDup(string, startIndex + 1, 1, max(curMaxLen, maxLen))\n",
    "        \n",
    "    "
   ]
  },
  {
   "cell_type": "code",
   "execution_count": 31,
   "id": "agreed-geneva",
   "metadata": {},
   "outputs": [],
   "source": [
    "ans = getDup(\"aabcccd\", 0, 1, 1)"
   ]
  },
  {
   "cell_type": "code",
   "execution_count": 32,
   "id": "intense-suicide",
   "metadata": {},
   "outputs": [
    {
     "data": {
      "text/plain": [
       "3"
      ]
     },
     "execution_count": 32,
     "metadata": {},
     "output_type": "execute_result"
    }
   ],
   "source": [
    "ans\n"
   ]
  },
  {
   "cell_type": "code",
   "execution_count": null,
   "id": "average-subcommittee",
   "metadata": {},
   "outputs": [],
   "source": []
  }
 ],
 "metadata": {
  "kernelspec": {
   "display_name": "Python 3",
   "language": "python",
   "name": "python3"
  },
  "language_info": {
   "codemirror_mode": {
    "name": "ipython",
    "version": 3
   },
   "file_extension": ".py",
   "mimetype": "text/x-python",
   "name": "python",
   "nbconvert_exporter": "python",
   "pygments_lexer": "ipython3",
   "version": "3.9.1rc1"
  }
 },
 "nbformat": 4,
 "nbformat_minor": 5
}
