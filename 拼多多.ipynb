{
 "cells": [
  {
   "cell_type": "code",
   "execution_count": 72,
   "id": "alien-implementation",
   "metadata": {},
   "outputs": [],
   "source": [
    "class method:\n",
    "    def __init__(self):\n",
    "        self.lens = -1 **31\n",
    "    def isTrue(self, lst, target):\n",
    "        lens = len(lst)\n",
    "        left = target\n",
    "        right = target\n",
    "        while left > 0 and lst[left] > lst[left - 1]: \n",
    "            print(left)\n",
    "            left -= 1\n",
    "        while right < lens - 1 and lst[right] > lst[right + 1]: \n",
    "            right += 1\n",
    "        if left == target or right == target:\n",
    "            return\n",
    "        tempLens = right - left\n",
    "        self.lens = max(self.lens, tempLens)\n",
    "        \n",
    "    def get(self, lst):\n",
    "        i = 1\n",
    "        while i < len(lst):\n",
    "            self.isTrue(lst, i)\n",
    "            i += 1\n",
    "        return self.lens + 1\n",
    "\n",
    "\n",
    "    "
   ]
  },
  {
   "cell_type": "code",
   "execution_count": 76,
   "id": "durable-europe",
   "metadata": {},
   "outputs": [],
   "source": [
    "obj = method()"
   ]
  },
  {
   "cell_type": "code",
   "execution_count": 77,
   "id": "conventional-velvet",
   "metadata": {},
   "outputs": [],
   "source": [
    "lst = [0, 1, 0, 1]\n"
   ]
  },
  {
   "cell_type": "code",
   "execution_count": 78,
   "id": "ambient-myanmar",
   "metadata": {},
   "outputs": [
    {
     "name": "stdout",
     "output_type": "stream",
     "text": [
      "1\n",
      "3\n"
     ]
    },
    {
     "data": {
      "text/plain": [
       "3"
      ]
     },
     "execution_count": 78,
     "metadata": {},
     "output_type": "execute_result"
    }
   ],
   "source": [
    "obj.get(lst)"
   ]
  },
  {
   "cell_type": "code",
   "execution_count": 38,
   "id": "elementary-sucking",
   "metadata": {},
   "outputs": [],
   "source": [
    "hashSet1 = {1}\n",
    "hashSet2 = {1,0}\n",
    "hashSet3 = {1,0,2}\n",
    "hashSet4 = {1,0,3}\n",
    "hashSet5 = {1,0,4}\n",
    "hashSet6 = {1,0,5}\n",
    "hashSet7 = {1,0,6}\n",
    "hashSet8 = {1,0,7}\n",
    "hashSet9 = {1,0,8}\n",
    "hashSet10 = {1,0,9}\n"
   ]
  },
  {
   "cell_type": "code",
   "execution_count": 56,
   "id": "valuable-colorado",
   "metadata": {},
   "outputs": [
    {
     "name": "stdout",
     "output_type": "stream",
     "text": [
      "98\n",
      "1666\n"
     ]
    }
   ],
   "source": [
    "def calcute(n):\n",
    "    if n <= 9 and n >= 2:\n",
    "        return n \n",
    "    h1 = {1}\n",
    "    h2 = {1,0}\n",
    "    h3 = {1,0,2}\n",
    "    h4 = {1,0,3}\n",
    "    h5 = {1,0,4}\n",
    "    h6 = {1,0,5}\n",
    "    h7 = {1,0,6}\n",
    "    h8 = {1,0,7}\n",
    "    h9 = {1,0,8}\n",
    "    h10 = {1,0,9}\n",
    "    h11 = {1, 1}\n",
    "    h12 = {1, 2}\n",
    "    h13 = {1, 3}\n",
    "    h14 = {1, 4}\n",
    "    h15 = {1, 5}\n",
    "    h16 = {1, 6}\n",
    "    h17 = {1, 7}\n",
    "    h18 = {1, 8}\n",
    "    h19 = {1, 9}\n",
    "    for i in range(1, 100):\n",
    "        new = i * n\n",
    "        stat =  set(list(map(int,list(str(new))))) \n",
    "        if stat in [h1, h2, h3, h4, h5, h6, h7, h8, h9, h10, h11, h12,h13,h14,h15,h16,h17,h18,h19]:\n",
    "            return new\n",
    "    return None\n",
    "        \n",
    "        \n",
    "    \n",
    "n = int(input())\n",
    "print(calcute(n))"
   ]
  },
  {
   "cell_type": "code",
   "execution_count": 55,
   "id": "approximate-operation",
   "metadata": {},
   "outputs": [
    {
     "data": {
      "text/plain": [
       "17"
      ]
     },
     "execution_count": 55,
     "metadata": {},
     "output_type": "execute_result"
    }
   ],
   "source": [
    "1666 //98"
   ]
  },
  {
   "cell_type": "code",
   "execution_count": 82,
   "id": "worldwide-peace",
   "metadata": {},
   "outputs": [
    {
     "name": "stdout",
     "output_type": "stream",
     "text": [
      "4\n",
      "1 2 3 4\n",
      "1\n"
     ]
    }
   ],
   "source": [
    "class method:\n",
    "    def __init__(self):\n",
    "        self.lens = 0\n",
    "    def isTrue(self, lst, target, n):\n",
    "        lens = n\n",
    "        left = target\n",
    "        right = target\n",
    "        while left > 0 and lst[left] > lst[left - 1]: \n",
    "            left -= 1\n",
    "        while right < lens - 1 and lst[right] > lst[right + 1]: \n",
    "            right += 1\n",
    "        if left == target or right == target:\n",
    "            return\n",
    "        tempLens = right - left\n",
    "        self.lens = max(self.lens, tempLens)\n",
    "        \n",
    "    def get(self, lst, n):\n",
    "        i = 1\n",
    "        while i < n:\n",
    "            self.isTrue(lst, i, n)\n",
    "            i += 1\n",
    "        return self.lens + 1\n",
    "\n",
    "n = int(input())\n",
    "lst = list(map(int, input().strip().split(\" \")))\n",
    "\n",
    "obj = method()\n",
    "stat = obj.get(lst, n) \n",
    "if stat == 1:\n",
    "    print(1)\n",
    "else:\n",
    "    print(stat)\n"
   ]
  },
  {
   "cell_type": "code",
   "execution_count": 89,
   "id": "exciting-solid",
   "metadata": {},
   "outputs": [
    {
     "data": {
      "text/plain": [
       "'1111000'"
      ]
     },
     "execution_count": 89,
     "metadata": {},
     "output_type": "execute_result"
    }
   ],
   "source": [
    "x = str(bin(120))\n",
    "x[2:]"
   ]
  },
  {
   "cell_type": "code",
   "execution_count": 92,
   "id": "modern-naples",
   "metadata": {},
   "outputs": [
    {
     "data": {
      "text/plain": [
       "120"
      ]
     },
     "execution_count": 92,
     "metadata": {},
     "output_type": "execute_result"
    }
   ],
   "source": [
    "new = 1\n",
    "for i in range(1, 4 + 1 + 1):\n",
    "        new *=  i\n",
    "new"
   ]
  },
  {
   "cell_type": "code",
   "execution_count": 93,
   "id": "bridal-banks",
   "metadata": {},
   "outputs": [
    {
     "ename": "KeyboardInterrupt",
     "evalue": "Interrupted by user",
     "output_type": "error",
     "traceback": [
      "\u001b[0;31m---------------------------------------------------------------------------\u001b[0m",
      "\u001b[0;31mKeyboardInterrupt\u001b[0m                         Traceback (most recent call last)",
      "\u001b[0;32m<ipython-input-93-f029c240779d>\u001b[0m in \u001b[0;36m<module>\u001b[0;34m\u001b[0m\n\u001b[1;32m     16\u001b[0m         \u001b[0mj\u001b[0m \u001b[0;34m-=\u001b[0m \u001b[0;36m1\u001b[0m\u001b[0;34m\u001b[0m\u001b[0;34m\u001b[0m\u001b[0m\n\u001b[1;32m     17\u001b[0m     \u001b[0;32mreturn\u001b[0m \u001b[0mcount\u001b[0m\u001b[0;34m\u001b[0m\u001b[0;34m\u001b[0m\u001b[0m\n\u001b[0;32m---> 18\u001b[0;31m \u001b[0mN\u001b[0m \u001b[0;34m=\u001b[0m \u001b[0mint\u001b[0m\u001b[0;34m(\u001b[0m\u001b[0minput\u001b[0m\u001b[0;34m(\u001b[0m\u001b[0;34m)\u001b[0m\u001b[0;34m)\u001b[0m\u001b[0;34m\u001b[0m\u001b[0;34m\u001b[0m\u001b[0m\n\u001b[0m\u001b[1;32m     19\u001b[0m \u001b[0mM\u001b[0m \u001b[0;34m=\u001b[0m \u001b[0mint\u001b[0m\u001b[0;34m(\u001b[0m\u001b[0minput\u001b[0m\u001b[0;34m(\u001b[0m\u001b[0;34m)\u001b[0m\u001b[0;34m)\u001b[0m\u001b[0;34m\u001b[0m\u001b[0;34m\u001b[0m\u001b[0m\n\u001b[1;32m     20\u001b[0m \u001b[0mprint\u001b[0m\u001b[0;34m(\u001b[0m\u001b[0mcalcute\u001b[0m\u001b[0;34m(\u001b[0m\u001b[0mN\u001b[0m\u001b[0;34m,\u001b[0m \u001b[0mM\u001b[0m\u001b[0;34m)\u001b[0m\u001b[0;34m)\u001b[0m\u001b[0;34m\u001b[0m\u001b[0;34m\u001b[0m\u001b[0m\n",
      "\u001b[0;32m/Library/Frameworks/Python.framework/Versions/3.9/lib/python3.9/site-packages/ipykernel/kernelbase.py\u001b[0m in \u001b[0;36mraw_input\u001b[0;34m(self, prompt)\u001b[0m\n\u001b[1;32m    855\u001b[0m                 \u001b[0;34m\"raw_input was called, but this frontend does not support input requests.\"\u001b[0m\u001b[0;34m\u001b[0m\u001b[0;34m\u001b[0m\u001b[0m\n\u001b[1;32m    856\u001b[0m             )\n\u001b[0;32m--> 857\u001b[0;31m         return self._input_request(str(prompt),\n\u001b[0m\u001b[1;32m    858\u001b[0m             \u001b[0mself\u001b[0m\u001b[0;34m.\u001b[0m\u001b[0m_parent_ident\u001b[0m\u001b[0;34m,\u001b[0m\u001b[0;34m\u001b[0m\u001b[0;34m\u001b[0m\u001b[0m\n\u001b[1;32m    859\u001b[0m             \u001b[0mself\u001b[0m\u001b[0;34m.\u001b[0m\u001b[0m_parent_header\u001b[0m\u001b[0;34m,\u001b[0m\u001b[0;34m\u001b[0m\u001b[0;34m\u001b[0m\u001b[0m\n",
      "\u001b[0;32m/Library/Frameworks/Python.framework/Versions/3.9/lib/python3.9/site-packages/ipykernel/kernelbase.py\u001b[0m in \u001b[0;36m_input_request\u001b[0;34m(self, prompt, ident, parent, password)\u001b[0m\n\u001b[1;32m    899\u001b[0m             \u001b[0;32mexcept\u001b[0m \u001b[0mKeyboardInterrupt\u001b[0m\u001b[0;34m:\u001b[0m\u001b[0;34m\u001b[0m\u001b[0;34m\u001b[0m\u001b[0m\n\u001b[1;32m    900\u001b[0m                 \u001b[0;31m# re-raise KeyboardInterrupt, to truncate traceback\u001b[0m\u001b[0;34m\u001b[0m\u001b[0;34m\u001b[0m\u001b[0;34m\u001b[0m\u001b[0m\n\u001b[0;32m--> 901\u001b[0;31m                 \u001b[0;32mraise\u001b[0m \u001b[0mKeyboardInterrupt\u001b[0m\u001b[0;34m(\u001b[0m\u001b[0;34m\"Interrupted by user\"\u001b[0m\u001b[0;34m)\u001b[0m \u001b[0;32mfrom\u001b[0m \u001b[0;32mNone\u001b[0m\u001b[0;34m\u001b[0m\u001b[0;34m\u001b[0m\u001b[0m\n\u001b[0m\u001b[1;32m    902\u001b[0m             \u001b[0;32mexcept\u001b[0m \u001b[0mException\u001b[0m \u001b[0;32mas\u001b[0m \u001b[0me\u001b[0m\u001b[0;34m:\u001b[0m\u001b[0;34m\u001b[0m\u001b[0;34m\u001b[0m\u001b[0m\n\u001b[1;32m    903\u001b[0m                 \u001b[0mself\u001b[0m\u001b[0;34m.\u001b[0m\u001b[0mlog\u001b[0m\u001b[0;34m.\u001b[0m\u001b[0mwarning\u001b[0m\u001b[0;34m(\u001b[0m\u001b[0;34m\"Invalid Message:\"\u001b[0m\u001b[0;34m,\u001b[0m \u001b[0mexc_info\u001b[0m\u001b[0;34m=\u001b[0m\u001b[0;32mTrue\u001b[0m\u001b[0;34m)\u001b[0m\u001b[0;34m\u001b[0m\u001b[0;34m\u001b[0m\u001b[0m\n",
      "\u001b[0;31mKeyboardInterrupt\u001b[0m: Interrupted by user"
     ]
    }
   ],
   "source": [
    "def calcute(N, M):\n",
    "    new = 1\n",
    "    for i in range(1, N + 1):\n",
    "        new *=  i \n",
    "    string = str(new)[2:]\n",
    "    lens = len(string)\n",
    "    j = lens - 1\n",
    "    count = 0\n",
    "    if string[j - 1] != \"0\":\n",
    "        return 0\n",
    "    while j > 0:\n",
    "        if string[j] == \"0\":\n",
    "            count += 1\n",
    "        else:\n",
    "            break\n",
    "        j -= 1\n",
    "    return count\n",
    "N =\n",
    "print(calcute(N, M))\n",
    "        \n",
    "        "
   ]
  },
  {
   "cell_type": "code",
   "execution_count": 96,
   "id": "communist-symposium",
   "metadata": {},
   "outputs": [
    {
     "data": {
      "text/plain": [
       "55.835"
      ]
     },
     "execution_count": 96,
     "metadata": {},
     "output_type": "execute_result"
    }
   ],
   "source": [
    "0.1167 * 50 + 50"
   ]
  },
  {
   "cell_type": "code",
   "execution_count": 3,
   "id": "executed-spank",
   "metadata": {},
   "outputs": [],
   "source": [
    "def printString(string, index):\n",
    "    if index < 0:\n",
    "        return\n",
    "    print(string[index])\n",
    "    printString(string, index - 1)"
   ]
  },
  {
   "cell_type": "code",
   "execution_count": 4,
   "id": "statistical-conflict",
   "metadata": {},
   "outputs": [
    {
     "name": "stdout",
     "output_type": "stream",
     "text": [
      "d\n",
      "c\n",
      "b\n",
      "a\n"
     ]
    }
   ],
   "source": [
    "printString(\"abcd\",3)"
   ]
  },
  {
   "cell_type": "code",
   "execution_count": null,
   "id": "romance-laundry",
   "metadata": {},
   "outputs": [],
   "source": [
    "def isTrue(hashSet, words, lst,length):\n",
    "    lens = len(words)\n",
    "    if lens == 0:\n",
    "        return True\n",
    "    i = i\n",
    "    while i < lens:\n",
    "        strs = words[:i]\n",
    "        if i == length:\n",
    "            return False\n",
    "        if lst[i] in hashSet:\n",
    "            if isTrue(hashSet, words[])"
   ]
  },
  {
   "cell_type": "code",
   "execution_count": null,
   "id": "soviet-henry",
   "metadata": {},
   "outputs": [],
   "source": [
    "# 老天呀 好可惜好可惜诶 那天拼多多的最后一题实在是好简单，真的好简单好简单，，下来十分钟都没到就做出来了 kehsinatian..."
   ]
  }
 ],
 "metadata": {
  "kernelspec": {
   "display_name": "Python 3",
   "language": "python",
   "name": "python3"
  },
  "language_info": {
   "codemirror_mode": {
    "name": "ipython",
    "version": 3
   },
   "file_extension": ".py",
   "mimetype": "text/x-python",
   "name": "python",
   "nbconvert_exporter": "python",
   "pygments_lexer": "ipython3",
   "version": "3.9.1rc1"
  }
 },
 "nbformat": 4,
 "nbformat_minor": 5
}
