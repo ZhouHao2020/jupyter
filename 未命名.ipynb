{
 "cells": [
  {
   "cell_type": "code",
   "execution_count": 15,
   "id": "collaborative-numbers",
   "metadata": {},
   "outputs": [],
   "source": [
    "# 根据n计算这是第几周(n // 7)，以及这是第几周的哪天(n % 7)，然后累加即可\n",
    "\n",
    "def calcute(n):\n",
    "    mount = n // 7\n",
    "    remain = n % 7\n",
    "    count = 0\n",
    "    for i in range(1, mount + 1):\n",
    "        j = i\n",
    "        for n in range(j, j + 7):\n",
    "            count += n\n",
    "    for x  in range(i + 1, remain):\n",
    "        count += x\n",
    "    return count"
   ]
  },
  {
   "cell_type": "code",
   "execution_count": 5,
   "id": "driven-output",
   "metadata": {},
   "outputs": [],
   "source": [
    "ls1 = [1,2]\n",
    "ls2 = ls1\n",
    "ls3 = copy.copy(ls1)"
   ]
  },
  {
   "cell_type": "code",
   "execution_count": 20,
   "id": "synthetic-dance",
   "metadata": {},
   "outputs": [],
   "source": [
    "\n",
    "class TreeNode:\n",
    "    def __init__(self, x):\n",
    "        self.val = x\n",
    "        self.left = None\n",
    "        self.right = None\n",
    "class Solution:\n",
    "    # 返回二维列表，内部每个列表表示找到的路径\n",
    "    def __init__(self):\n",
    "        self.resultList = []\n",
    "        self.tempList = []\n",
    "        \n",
    "    def FindPath(self, root, expectNumber):\n",
    "        # write code here\n",
    "        count = 0\n",
    "        self.isTrue(root, expectNumber, count)\n",
    "        return self.resultList\n",
    "    \n",
    "    def isTrue(self, root, expectNumber, count):\n",
    "        print(self.resultList)\n",
    "        if not root:\n",
    "            return \n",
    "        self.tempList.append(root.val)\n",
    "        count += root.val\n",
    "        if count == expectNumber and not root.left and not root.right:\n",
    "            #\n",
    "            self.resultList.append(self.tempList)\n",
    "        self.isTrue(root.left, expectNumber, count)\n",
    "        self.isTrue(root.right, expectNumber, count)\n",
    "        self.tempList.pop()\n",
    "        count -= root.val\n",
    "    \n",
    "    \n",
    "        "
   ]
  },
  {
   "cell_type": "code",
   "execution_count": 98,
   "id": "coupled-childhood",
   "metadata": {},
   "outputs": [],
   "source": [
    "def arrayToList(lst, left, right):\n",
    "    if left <= right:\n",
    "        mid = (left + right) // 2\n",
    "        root = TreeNode(lst[mid])\n",
    "        root.left = arrayToList(lst, left, mid - 1)\n",
    "        root.right = arrayToList(lst, mid + 1, right)\n",
    "        return root\n",
    "    return None\n"
   ]
  },
  {
   "cell_type": "code",
   "execution_count": 99,
   "id": "realistic-smith",
   "metadata": {},
   "outputs": [],
   "source": [
    "root = arrayToList([1,2,3,4,5],0,4)"
   ]
  },
  {
   "cell_type": "code",
   "execution_count": 102,
   "id": "mobile-outdoors",
   "metadata": {},
   "outputs": [
    {
     "name": "stdout",
     "output_type": "stream",
     "text": [
      "1\n",
      "2\n",
      "3\n",
      "4\n",
      "5\n"
     ]
    }
   ],
   "source": [
    "def inorder(root):\n",
    "    if not root:\n",
    "        return\n",
    "    inorder(root.left)\n",
    "    print(root.val)\n",
    "    inorder(root.right)\n",
    "inorder(root)"
   ]
  },
  {
   "cell_type": "code",
   "execution_count": 96,
   "id": "solar-blood",
   "metadata": {},
   "outputs": [
    {
     "data": {
      "text/plain": [
       "3"
      ]
     },
     "execution_count": 96,
     "metadata": {},
     "output_type": "execute_result"
    }
   ],
   "source": [
    "root.val"
   ]
  },
  {
   "cell_type": "code",
   "execution_count": 21,
   "id": "anonymous-glasgow",
   "metadata": {},
   "outputs": [],
   "source": [
    "ob = Solution()"
   ]
  },
  {
   "cell_type": "code",
   "execution_count": 22,
   "id": "interesting-intelligence",
   "metadata": {},
   "outputs": [
    {
     "name": "stdout",
     "output_type": "stream",
     "text": [
      "[]\n",
      "[]\n",
      "[[3, 1]]\n",
      "[[3, 1]]\n",
      "[[3]]\n",
      "[[3, 4]]\n",
      "[[3, 4]]\n"
     ]
    },
    {
     "data": {
      "text/plain": [
       "[[]]"
      ]
     },
     "execution_count": 22,
     "metadata": {},
     "output_type": "execute_result"
    }
   ],
   "source": [
    "ob.FindPath(root, 4)"
   ]
  },
  {
   "cell_type": "code",
   "execution_count": 27,
   "id": "deluxe-consensus",
   "metadata": {},
   "outputs": [
    {
     "name": "stdout",
     "output_type": "stream",
     "text": [
      "[3, 1]\n",
      "[[]]\n"
     ]
    }
   ],
   "source": [
    "res, temp = [], []\n",
    "count = 0\n",
    "def getPath(root, count, target):\n",
    "    if not root:\n",
    "        return \n",
    "    count += root.val\n",
    "    temp.append(root.val)\n",
    "    if count == target and not root.left and not root.right:\n",
    "        print(temp)\n",
    "        res.append(temp)\n",
    "    getPath(root.left, count, target)\n",
    "    getPath(root.right, count, target)\n",
    "    count -= root.val\n",
    "    temp.pop()\n",
    "    \n",
    "getPath(root, count, 4)\n",
    "print(res)\n",
    "    \n",
    "    \n",
    "    "
   ]
  },
  {
   "cell_type": "code",
   "execution_count": 28,
   "id": "unusual-reproduction",
   "metadata": {},
   "outputs": [],
   "source": [
    "# 复制复杂链表\n",
    "\n",
    "class RandomListNode:\n",
    "    def __init__(self, x):\n",
    "        self.label = x\n",
    "        self.next = None\n",
    "        self.random = None\n",
    "class Solution:\n",
    "    # 返回 RandomListNode\n",
    "    def Clone(self, pHead):\n",
    "        # write code here\n",
    "        if not pHead:\n",
    "            return None\n",
    "        head = RandomListNode(pHead.label)\n",
    "        cur = head\n",
    "        hashSet = set()\n",
    "        hashSet.add(cur)\n",
    "        while pHead.next:\n",
    "            ranNode = pHead.random\n",
    "            if not ranNode:\n",
    "                cur.random = None\n",
    "            elif ranNode not in hashSet:\n",
    "                randNode = RandomListNode(ranNode.label)\n",
    "                cur.random = randNode\n",
    "            else:\n",
    "                cur.random = randNode\n",
    "            back = pHead.next\n",
    "            if not back:\n",
    "                cur.next = back \n",
    "                return head\n",
    "            if back not in hashSet:\n",
    "                node = RandomListNode(back.label)\n",
    "            cur.next = node\n",
    "            hashSet.add(ranNode)\n",
    "            hashSet.add(node)\n",
    "            cur = node \n",
    "            pHead = pHead.next\n",
    "        return head\n",
    "                \n",
    "                "
   ]
  },
  {
   "cell_type": "code",
   "execution_count": 90,
   "id": "ready-tourism",
   "metadata": {},
   "outputs": [],
   "source": [
    "# -*- coding:utf-8 -*-\n",
    "# class TreeNode:\n",
    "#     def __init__(self, x):\n",
    "#         self.val = x\n",
    "#         self.left = None\n",
    "#         self.right = None\n",
    "class Solution:\n",
    "    def __init__(self):\n",
    "        self.end = None\n",
    "        self.head = None\n",
    "        \n",
    "    def Convert(self, pRootOfTree):\n",
    "        # write code here\n",
    "        if not pRootOfTree:\n",
    "            return\n",
    "        self.Convert(pRootOfTree.left)\n",
    "        pRootOfTree.left = self.end\n",
    "        if not self.end:\n",
    "            self.head = pRootOfTree\n",
    "        else:\n",
    "            self.end.right = pRootOfTree\n",
    "        self.end = pRootOfTree\n",
    "        self.Convert(pRootOfTree.right)\n",
    "        return self.head"
   ]
  },
  {
   "cell_type": "code",
   "execution_count": 104,
   "id": "graphic-subscription",
   "metadata": {},
   "outputs": [],
   "source": [
    "ob = Solution()\n",
    "head = ob.Convert(root)\n"
   ]
  },
  {
   "cell_type": "code",
   "execution_count": 108,
   "id": "digital-wings",
   "metadata": {},
   "outputs": [
    {
     "data": {
      "text/plain": [
       "2"
      ]
     },
     "execution_count": 108,
     "metadata": {},
     "output_type": "execute_result"
    }
   ],
   "source": [
    "head.right.val"
   ]
  },
  {
   "cell_type": "code",
   "execution_count": 103,
   "id": "electronic-occasion",
   "metadata": {
    "scrolled": true
   },
   "outputs": [
    {
     "name": "stdout",
     "output_type": "stream",
     "text": [
      "1\n",
      "2\n",
      "3\n",
      "4\n",
      "5\n"
     ]
    }
   ],
   "source": [
    "inorder(root)"
   ]
  },
  {
   "cell_type": "code",
   "execution_count": 146,
   "id": "entitled-administration",
   "metadata": {},
   "outputs": [],
   "source": [
    "def Permutation(ss):\n",
    "    # write code here\n",
    "    ss = list(ss)\n",
    "    resultList = []\n",
    "    def getAll(ss, start):\n",
    "        lens = len(ss)\n",
    "        if start == lens - 1:\n",
    "            resultList.append(\"\".join(ss))\n",
    "        else:\n",
    "            i = start\n",
    "            while i < lens:\n",
    "                ss[i], ss[start] = ss[start], ss[i]\n",
    "                getAll(ss, start + 1)\n",
    "                ss[i], ss[start] = ss[start], ss[i]\n",
    "                i += 1\n",
    "    getAll(ss, 0)\n",
    "#     resultList = list(set(resultList))\n",
    "#     print(resultList)\n",
    "#     resultList = resultList.sort()\n",
    "#     print(\"after\", resultList)\n",
    "    return resultList"
   ]
  },
  {
   "cell_type": "code",
   "execution_count": null,
   "id": "laden-antigua",
   "metadata": {},
   "outputs": [],
   "source": []
  },
  {
   "cell_type": "code",
   "execution_count": 149,
   "id": "bacterial-audit",
   "metadata": {},
   "outputs": [
    {
     "data": {
      "text/plain": [
       "[1, 2, 3, 4, 6, 7, 9]"
      ]
     },
     "execution_count": 149,
     "metadata": {},
     "output_type": "execute_result"
    }
   ],
   "source": [
    "numbers = [3,4,1,2,6,7,9]\n",
    "for i in range(len(numbers) - 1):\n",
    "    for j in range(len(numbers) - i - 1):\n",
    "        if numbers[j] > numbers[j + 1]:\n",
    "            numbers[j], numbers[j + 1] = numbers[j + 1], numbers[j]\n",
    "numbers\n",
    "                    "
   ]
  },
  {
   "cell_type": "code",
   "execution_count": 153,
   "id": "affiliated-conducting",
   "metadata": {},
   "outputs": [
    {
     "data": {
      "text/plain": [
       "[1, 2, 2, 3]"
      ]
     },
     "execution_count": 153,
     "metadata": {},
     "output_type": "execute_result"
    }
   ],
   "source": [
    "tinput = [1,9,7,2,2,3,4,5]\n",
    "k = 4\n",
    "import heapq\n",
    "heapq.heapify(tinput)\n",
    "lst = []\n",
    "for i in range(k):\n",
    "    lst.append(heapq.heappop(tinput))\n",
    "lst\n"
   ]
  },
  {
   "cell_type": "code",
   "execution_count": 156,
   "id": "cheap-lightweight",
   "metadata": {},
   "outputs": [],
   "source": [
    "def getMaxSum(lst):\n",
    "    lens = len(lst)\n",
    "    i = 0\n",
    "    maxSum = -1**31\n",
    "    while i < lens:\n",
    "        j = i\n",
    "        while j < lens:\n",
    "            k = i\n",
    "            tempSum = 0\n",
    "            while k <= j:\n",
    "                tempSum += lst[k]\n",
    "                k += 1\n",
    "            maxSum = max(maxSum, tempSum)\n",
    "            j += 1\n",
    "        i += 1\n",
    "    return maxSum\n",
    "\n",
    "        \n",
    "    "
   ]
  },
  {
   "cell_type": "code",
   "execution_count": 160,
   "id": "upset-truth",
   "metadata": {},
   "outputs": [
    {
     "data": {
      "text/plain": [
       "12"
      ]
     },
     "execution_count": 160,
     "metadata": {},
     "output_type": "execute_result"
    }
   ],
   "source": [
    "getMaxSum([1,2,3,-1,7,-9])"
   ]
  },
  {
   "cell_type": "code",
   "execution_count": null,
   "id": "painful-arizona",
   "metadata": {},
   "outputs": [],
   "source": []
  }
 ],
 "metadata": {
  "kernelspec": {
   "display_name": "Python 3",
   "language": "python",
   "name": "python3"
  },
  "language_info": {
   "codemirror_mode": {
    "name": "ipython",
    "version": 3
   },
   "file_extension": ".py",
   "mimetype": "text/x-python",
   "name": "python",
   "nbconvert_exporter": "python",
   "pygments_lexer": "ipython3",
   "version": "3.9.1rc1"
  }
 },
 "nbformat": 4,
 "nbformat_minor": 5
}
