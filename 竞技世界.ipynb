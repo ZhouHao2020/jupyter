{
 "cells": [
  {
   "cell_type": "code",
   "execution_count": 85,
   "id": "banned-excitement",
   "metadata": {},
   "outputs": [
    {
     "name": "stdout",
     "output_type": "stream",
     "text": [
      "bhcjdsbvfbdkvjdfbvcbx bcxb bcbcbvbc\n",
      "1\n",
      "bcbcbcbcbcbcbvbvbvbvbdjdjdfxfx h sk\n"
     ]
    }
   ],
   "source": [
    "def reSortString(string, k):\n",
    "    if k == 0:\n",
    "        return string\n",
    "    lens = len(string)\n",
    "    l = Counter(string).most_common()\n",
    "    l.sort(key=lambda x:x[1],reverse=True)\n",
    "    new = \"\"\n",
    "    for x in l:\n",
    "        new += x[0]*x[1]\n",
    "    string = list(new)\n",
    "    i = 0\n",
    "    while i < lens - 1:\n",
    "        if string[i] == string[i + 1]:\n",
    "            j = i + k\n",
    "            if j >= lens:\n",
    "                return None\n",
    "            while j < lens and string[i + 1] == string[j]:\n",
    "                j += 1\n",
    "            if j == lens:\n",
    "                return None\n",
    "            string[i + 1], string[j] = string[j], string[i + 1]\n",
    "        i += 1\n",
    "    return \"\".join(string)\n",
    "string = input()\n",
    "n = int(input())\n",
    "print(reSortString(string, n))"
   ]
  },
  {
   "cell_type": "code",
   "execution_count": 53,
   "id": "voluntary-amino",
   "metadata": {},
   "outputs": [],
   "source": [
    "from collections import Counter"
   ]
  },
  {
   "cell_type": "code",
   "execution_count": 57,
   "id": "extensive-insight",
   "metadata": {},
   "outputs": [],
   "source": [
    "lst = [\"a\",\"b\",\"c\",\"c\"]"
   ]
  },
  {
   "cell_type": "code",
   "execution_count": 64,
   "id": "infinite-century",
   "metadata": {},
   "outputs": [],
   "source": [
    "l = Counter(lst).most_common()"
   ]
  },
  {
   "cell_type": "code",
   "execution_count": 65,
   "id": "rational-charger",
   "metadata": {},
   "outputs": [
    {
     "data": {
      "text/plain": [
       "[('c', 2), ('a', 1), ('b', 1)]"
      ]
     },
     "execution_count": 65,
     "metadata": {},
     "output_type": "execute_result"
    }
   ],
   "source": [
    "l"
   ]
  },
  {
   "cell_type": "code",
   "execution_count": 67,
   "id": "driving-format",
   "metadata": {},
   "outputs": [],
   "source": [
    "l.sort(key=lambda x:x[1],reverse=True)"
   ]
  },
  {
   "cell_type": "code",
   "execution_count": 68,
   "id": "continuing-howard",
   "metadata": {},
   "outputs": [
    {
     "data": {
      "text/plain": [
       "[('c', 2), ('a', 1), ('b', 1)]"
      ]
     },
     "execution_count": 68,
     "metadata": {},
     "output_type": "execute_result"
    }
   ],
   "source": [
    "l"
   ]
  },
  {
   "cell_type": "code",
   "execution_count": 71,
   "id": "stone-observation",
   "metadata": {},
   "outputs": [
    {
     "ename": "TypeError",
     "evalue": "'NoneType' object is not iterable",
     "output_type": "error",
     "traceback": [
      "\u001b[0;31m---------------------------------------------------------------------------\u001b[0m",
      "\u001b[0;31mTypeError\u001b[0m                                 Traceback (most recent call last)",
      "\u001b[0;32m<ipython-input-71-6da05c7f2fbf>\u001b[0m in \u001b[0;36m<module>\u001b[0;34m\u001b[0m\n\u001b[1;32m      2\u001b[0m \u001b[0ml\u001b[0m \u001b[0;34m=\u001b[0m \u001b[0mCounter\u001b[0m\u001b[0;34m(\u001b[0m\u001b[0mstring\u001b[0m\u001b[0;34m)\u001b[0m\u001b[0;34m.\u001b[0m\u001b[0mmost_common\u001b[0m\u001b[0;34m(\u001b[0m\u001b[0;34m)\u001b[0m\u001b[0;34m.\u001b[0m\u001b[0msort\u001b[0m\u001b[0;34m(\u001b[0m\u001b[0mkey\u001b[0m\u001b[0;34m=\u001b[0m\u001b[0;32mlambda\u001b[0m \u001b[0mx\u001b[0m\u001b[0;34m:\u001b[0m\u001b[0mx\u001b[0m\u001b[0;34m[\u001b[0m\u001b[0;36m1\u001b[0m\u001b[0;34m]\u001b[0m\u001b[0;34m,\u001b[0m\u001b[0mreverse\u001b[0m\u001b[0;34m=\u001b[0m\u001b[0;32mTrue\u001b[0m\u001b[0;34m)\u001b[0m\u001b[0;34m\u001b[0m\u001b[0;34m\u001b[0m\u001b[0m\n\u001b[1;32m      3\u001b[0m \u001b[0mnew\u001b[0m \u001b[0;34m=\u001b[0m \u001b[0;34m\"\"\u001b[0m\u001b[0;34m\u001b[0m\u001b[0;34m\u001b[0m\u001b[0m\n\u001b[0;32m----> 4\u001b[0;31m \u001b[0;32mfor\u001b[0m \u001b[0mx\u001b[0m \u001b[0;32min\u001b[0m \u001b[0ml\u001b[0m\u001b[0;34m:\u001b[0m\u001b[0;34m\u001b[0m\u001b[0;34m\u001b[0m\u001b[0m\n\u001b[0m\u001b[1;32m      5\u001b[0m     \u001b[0mnew\u001b[0m \u001b[0;34m+=\u001b[0m \u001b[0mx\u001b[0m\u001b[0;34m[\u001b[0m\u001b[0;36m0\u001b[0m\u001b[0;34m]\u001b[0m\u001b[0;34m*\u001b[0m\u001b[0mx\u001b[0m\u001b[0;34m[\u001b[0m\u001b[0;36m1\u001b[0m\u001b[0;34m]\u001b[0m\u001b[0;34m\u001b[0m\u001b[0;34m\u001b[0m\u001b[0m\n\u001b[1;32m      6\u001b[0m \u001b[0mnew\u001b[0m\u001b[0;34m\u001b[0m\u001b[0;34m\u001b[0m\u001b[0m\n",
      "\u001b[0;31mTypeError\u001b[0m: 'NoneType' object is not iterable"
     ]
    }
   ],
   "source": [
    "string = \"bhvdjsbvhjadvbjhjhvbqdvc qadnbvqejycvyquvwcuq\"\n",
    "l = Counter(string).most_common().sort(key=lambda x:x[1],reverse=True)\n",
    "new = \"\"\n",
    "for x in l:\n",
    "    new += x[0]*x[1]\n",
    "new"
   ]
  },
  {
   "cell_type": "code",
   "execution_count": 77,
   "id": "completed-myrtle",
   "metadata": {},
   "outputs": [
    {
     "data": {
      "text/plain": [
       "'vvvvvvvvbbbbbjjjjjqqqqqhhhhddddcccaayyuus new'"
      ]
     },
     "execution_count": 77,
     "metadata": {},
     "output_type": "execute_result"
    }
   ],
   "source": [
    "string = \"bhvdjsbvhjadvbjhjhvbqdvc qadnbvqejycvyquvwcuq\"\n",
    "l = Counter(string).most_common()\n",
    "l.sort(key=lambda x:x[1],reverse=True)\n",
    "new = \"\"\n",
    "for x in l:\n",
    "    new += x[0]*x[1]\n",
    "new"
   ]
  },
  {
   "cell_type": "code",
   "execution_count": null,
   "id": "valid-scratch",
   "metadata": {},
   "outputs": [],
   "source": []
  }
 ],
 "metadata": {
  "kernelspec": {
   "display_name": "Python 3",
   "language": "python",
   "name": "python3"
  },
  "language_info": {
   "codemirror_mode": {
    "name": "ipython",
    "version": 3
   },
   "file_extension": ".py",
   "mimetype": "text/x-python",
   "name": "python",
   "nbconvert_exporter": "python",
   "pygments_lexer": "ipython3",
   "version": "3.9.1rc1"
  }
 },
 "nbformat": 4,
 "nbformat_minor": 5
}
