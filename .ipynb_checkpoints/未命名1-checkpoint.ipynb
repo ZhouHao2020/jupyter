{
 "cells": [
  {
   "cell_type": "code",
   "execution_count": 11,
   "id": "sitting-therapist",
   "metadata": {},
   "outputs": [
    {
     "name": "stdout",
     "output_type": "stream",
     "text": [
      "10 7 3\n",
      "FTFFFTFFFF\n",
      "6\n"
     ]
    }
   ],
   "source": [
    "n, c1, c2 = list(map(int, input().strip().split(\" \")))\n",
    "string = input()\n",
    "mins = min(c1, c2)\n",
    "def getMinMp(mins, string, n):\n",
    "    stack = []\n",
    "    stack.append(string[0])\n",
    "    stack.append(string[1])\n",
    "    count = 0\n",
    "    for i in range(2, n):\n",
    "        if stack[-1] == \"F\" and stack[-2] == \"F\":\n",
    "            stack.append(\"T\")\n",
    "            count += 1\n",
    "        else:\n",
    "            stack.append(string[i])\n",
    "    return mins*count\n",
    "\n",
    "print(getMinMp(mins, string, n))\n",
    "            \n",
    "        \n",
    "        "
   ]
  },
  {
   "cell_type": "code",
   "execution_count": 13,
   "id": "conditional-clark",
   "metadata": {},
   "outputs": [
    {
     "data": {
      "text/plain": [
       "3"
      ]
     },
     "execution_count": 13,
     "metadata": {},
     "output_type": "execute_result"
    }
   ],
   "source": [
    "[1,2,3,4][::-1].index(1)"
   ]
  },
  {
   "cell_type": "code",
   "execution_count": 19,
   "id": "plain-publication",
   "metadata": {},
   "outputs": [
    {
     "name": "stdout",
     "output_type": "stream",
     "text": [
      "6 4\n",
      "2 3 1 2 3 3\n",
      "1\n",
      "2\n",
      "3\n",
      "4\n",
      "3 3\n",
      "1 4\n",
      "2 6\n",
      "0\n"
     ]
    }
   ],
   "source": [
    "n, m = list(map(int, input().strip().split(\" \")))\n",
    "nList = list(map(int, input().strip().split(\" \")))\n",
    "mList = []\n",
    "for i in range(m):\n",
    "    mList.append(int(input()))\n",
    "def isIn(n, m, nList, mList):\n",
    "    result = []\n",
    "    for target in mList:\n",
    "        if target not in nList:\n",
    "            result.append(0)\n",
    "        else:\n",
    "            index1 = nList.index(target) + 1\n",
    "            index2 = n - nList[::-1].index(target) \n",
    "            result.append((index1, index2))\n",
    "    return result\n",
    "lst = isIn(n, m, nList, mList)\n",
    "for tmp in lst:\n",
    "    if tmp == 0:\n",
    "        print(0)\n",
    "    else:\n",
    "        print(tmp[0], tmp[1])"
   ]
  },
  {
   "cell_type": "code",
   "execution_count": 27,
   "id": "ultimate-civilization",
   "metadata": {},
   "outputs": [
    {
     "name": "stdout",
     "output_type": "stream",
     "text": [
      "3 2\n",
      "1 2 4\n",
      "1\n",
      "2\n",
      "3\n",
      "2\n",
      "4\n",
      "6\n",
      "6\n"
     ]
    }
   ],
   "source": [
    "n, k = list(map(int, input().strip().split(\" \")))\n",
    "lst = list(map(int, input().strip().split(\" \")))\n",
    "maxs = -1\n",
    "for i in range(n + 1 - k):\n",
    "    j = i\n",
    "    temp = 0\n",
    "    for j in range(j, k + j):\n",
    "        temp += lst[j]\n",
    "    maxs = max(maxs, temp)\n",
    "print(maxs)\n",
    "        \n"
   ]
  },
  {
   "cell_type": "code",
   "execution_count": 28,
   "id": "sealed-plaza",
   "metadata": {},
   "outputs": [
    {
     "data": {
      "text/plain": [
       "23.4"
      ]
     },
     "execution_count": 28,
     "metadata": {},
     "output_type": "execute_result"
    }
   ],
   "source": [
    "20*0.18*3+20*0.63"
   ]
  },
  {
   "cell_type": "code",
   "execution_count": null,
   "id": "sublime-synthetic",
   "metadata": {},
   "outputs": [],
   "source": []
  }
 ],
 "metadata": {
  "kernelspec": {
   "display_name": "Python 3",
   "language": "python",
   "name": "python3"
  },
  "language_info": {
   "codemirror_mode": {
    "name": "ipython",
    "version": 3
   },
   "file_extension": ".py",
   "mimetype": "text/x-python",
   "name": "python",
   "nbconvert_exporter": "python",
   "pygments_lexer": "ipython3",
   "version": "3.9.1rc1"
  }
 },
 "nbformat": 4,
 "nbformat_minor": 5
}
