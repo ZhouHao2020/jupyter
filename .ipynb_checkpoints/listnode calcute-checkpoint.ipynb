{
 "cells": [
  {
   "cell_type": "code",
   "execution_count": 11,
   "id": "dirty-trance",
   "metadata": {
    "collapsed": true
   },
   "outputs": [
    {
     "name": "stdout",
     "output_type": "stream",
     "text": [
      "1\n",
      "2\n",
      "3\n",
      "4\n",
      "\n",
      "\n",
      "4\n",
      "3\n",
      "2\n",
      "1\n",
      "\n",
      "\n"
     ]
    }
   ],
   "source": [
    "#its a python file to reverse a listnode\n",
    "\n",
    "class singleNode(object):\n",
    "    def __init__(self):\n",
    "        self.node = None\n",
    "        self.next = None\n",
    "\n",
    "def reverseListNode(head):\n",
    "    previous = None\n",
    "    cur = head\n",
    "    while cur:\n",
    "        back = cur.next\n",
    "        cur.next = previous\n",
    "        previous = cur\n",
    "        cur = back\n",
    "    head = previous\n",
    "    return head\n",
    "\n",
    "node1 = singleNode()\n",
    "node2 = singleNode()\n",
    "node3 = singleNode()\n",
    "node4 = singleNode()\n",
    "\n",
    "node1.node = 1\n",
    "node2.node = 2\n",
    "node3.node = 3\n",
    "node4.node = 4\n",
    "\n",
    "node1.next = node2\n",
    "node2.next = node3\n",
    "node3.next = node4\n",
    "node4.next = None\n",
    "head = node1\n",
    "\n",
    "def getTarget(head):\n",
    "    cur = head\n",
    "    while cur:\n",
    "        print(cur.node)\n",
    "        cur = cur.next\n",
    "    print(\"\\n\")\n",
    "getTarget(head)\n",
    "\n",
    "head = reverseListNode(node1)\n",
    "getTarget(head)"
   ]
  },
  {
   "cell_type": "code",
   "execution_count": 29,
   "id": "studied-closer",
   "metadata": {
    "collapsed": true
   },
   "outputs": [
    {
     "ename": "TypeError",
     "evalue": "__init__() takes 2 positional arguments but 4 were given",
     "output_type": "error",
     "traceback": [
      "\u001b[0;31m---------------------------------------------------------------------------\u001b[0m",
      "\u001b[0;31mTypeError\u001b[0m                                 Traceback (most recent call last)",
      "\u001b[0;32m<ipython-input-29-a8c776c4a191>\u001b[0m in \u001b[0;36m<module>\u001b[0;34m\u001b[0m\n\u001b[1;32m      2\u001b[0m \u001b[0;34m\u001b[0m\u001b[0m\n\u001b[1;32m      3\u001b[0m \u001b[0;32mfrom\u001b[0m \u001b[0mcollections\u001b[0m \u001b[0;32mimport\u001b[0m \u001b[0mdeque\u001b[0m\u001b[0;34m\u001b[0m\u001b[0;34m\u001b[0m\u001b[0m\n\u001b[0;32m----> 4\u001b[0;31m \u001b[0;32mclass\u001b[0m \u001b[0mLRU\u001b[0m\u001b[0;34m(\u001b[0m\u001b[0mobject\u001b[0m\u001b[0;34m)\u001b[0m\u001b[0;34m:\u001b[0m\u001b[0;34m\u001b[0m\u001b[0;34m\u001b[0m\u001b[0m\n\u001b[0m\u001b[1;32m      5\u001b[0m     \u001b[0;32mdef\u001b[0m \u001b[0m__init__\u001b[0m\u001b[0;34m(\u001b[0m\u001b[0mself\u001b[0m\u001b[0;34m,\u001b[0m \u001b[0mpageNumber\u001b[0m\u001b[0;34m,\u001b[0m \u001b[0mqw\u001b[0m\u001b[0;34m,\u001b[0m \u001b[0mwe\u001b[0m\u001b[0;34m)\u001b[0m\u001b[0;34m:\u001b[0m\u001b[0;34m\u001b[0m\u001b[0;34m\u001b[0m\u001b[0m\n\u001b[1;32m      6\u001b[0m         \u001b[0mself\u001b[0m\u001b[0;34m.\u001b[0m\u001b[0mpageNumber\u001b[0m \u001b[0;34m=\u001b[0m \u001b[0mpageNumber\u001b[0m\u001b[0;34m\u001b[0m\u001b[0;34m\u001b[0m\u001b[0m\n",
      "\u001b[0;31mTypeError\u001b[0m: __init__() takes 2 positional arguments but 4 were given"
     ]
    }
   ],
   "source": [
    "#ist a python file to recogrize a Least Recently Used\n",
    "\n",
    "from collections import deque\n",
    "class LRU(object):\n",
    "    def __init__(self, pageNumber):\n",
    "        self.pageNumber = pageNumber\n",
    "        self.queue = deque()\n",
    "        self.hashSet = set()\n",
    "    def appendPage(self, page):\n",
    "        if self.pageNumber == len(self.queue):\n",
    "            self.hashSet.remove(self.queue[-1])\n",
    "            self.queue.pop()\n",
    "        self.hashSet.add(page)\n",
    "        self.queue.appendleft(page)\n",
    "    def accessPage(self, page):\n",
    "        if page not in self.hashSet:\n",
    "            self.appendPage(page)\n",
    "        elif page != self.queue[0]:\n",
    "            self.queue.remove(page)\n",
    "            self.queue.appendleft(page)\n",
    "    def getQueue(self):\n",
    "        return self.queue\n",
    "object = LRU(4)\n",
    "\n",
    "object.accessPage(1)\n",
    "object.accessPage(2)\n",
    "object.accessPage(3)\n",
    "object.accessPage(4)\n",
    "object.accessPage(5)\n",
    "object.accessPage(6)\n",
    "\n",
    "object.getQueue()\n",
    "       "
   ]
  },
  {
   "cell_type": "code",
   "execution_count": 30,
   "id": "congressional-backing",
   "metadata": {},
   "outputs": [
    {
     "ename": "TypeError",
     "evalue": "__init__() takes 2 positional arguments but 4 were given",
     "output_type": "error",
     "traceback": [
      "\u001b[0;31m---------------------------------------------------------------------------\u001b[0m",
      "\u001b[0;31mTypeError\u001b[0m                                 Traceback (most recent call last)",
      "\u001b[0;32m<ipython-input-30-32d662381d20>\u001b[0m in \u001b[0;36m<module>\u001b[0;34m\u001b[0m\n\u001b[1;32m      1\u001b[0m \u001b[0;31m#remove the duplicate item in listnode\u001b[0m\u001b[0;34m\u001b[0m\u001b[0;34m\u001b[0m\u001b[0;34m\u001b[0m\u001b[0m\n\u001b[1;32m      2\u001b[0m \u001b[0;34m\u001b[0m\u001b[0m\n\u001b[0;32m----> 3\u001b[0;31m \u001b[0;32mclass\u001b[0m \u001b[0msingleNode\u001b[0m\u001b[0;34m(\u001b[0m\u001b[0mobject\u001b[0m\u001b[0;34m)\u001b[0m\u001b[0;34m:\u001b[0m\u001b[0;34m\u001b[0m\u001b[0;34m\u001b[0m\u001b[0m\n\u001b[0m\u001b[1;32m      4\u001b[0m     \u001b[0;32mdef\u001b[0m \u001b[0m__init__\u001b[0m\u001b[0;34m(\u001b[0m\u001b[0mself\u001b[0m\u001b[0;34m)\u001b[0m\u001b[0;34m:\u001b[0m\u001b[0;34m\u001b[0m\u001b[0;34m\u001b[0m\u001b[0m\n\u001b[1;32m      5\u001b[0m         \u001b[0mself\u001b[0m\u001b[0;34m.\u001b[0m\u001b[0mnode\u001b[0m \u001b[0;34m=\u001b[0m \u001b[0;32mNone\u001b[0m\u001b[0;34m\u001b[0m\u001b[0;34m\u001b[0m\u001b[0m\n",
      "\u001b[0;31mTypeError\u001b[0m: __init__() takes 2 positional arguments but 4 were given"
     ]
    }
   ],
   "source": [
    "#remove the duplicate item in listnode\n",
    "\n",
    "class singleNode(object):\n",
    "    def __init__(self):\n",
    "        self.node = None\n",
    "        self.next = None\n",
    "\n",
    "def removeDuplicate(head):\n",
    "    cur = head\n",
    "    hashSet = set()\n",
    "    node = node()\n",
    "    node.node = cur.node\n",
    "    head = cur\n",
    "    pre = head\n",
    "    hashSet.add(cur.node)\n",
    "    while cur:\n",
    "        if cur not in hashSet:\n",
    "            node = singleNode()\n",
    "            node.node = cur.node\n",
    "            pre.next = cur\n",
    "            pre = cur\n",
    "            cur = cur.next\n",
    "            hashSet.add(node.node)\n",
    "        else:\n",
    "            cur = cur.next\n",
    "            "
   ]
  },
  {
   "cell_type": "code",
   "execution_count": null,
   "id": "middle-regular",
   "metadata": {},
   "outputs": [],
   "source": []
  }
 ],
 "metadata": {
  "kernelspec": {
   "display_name": "Python 3",
   "language": "python",
   "name": "python3"
  },
  "language_info": {
   "codemirror_mode": {
    "name": "ipython",
    "version": 3
   },
   "file_extension": ".py",
   "mimetype": "text/x-python",
   "name": "python",
   "nbconvert_exporter": "python",
   "pygments_lexer": "ipython3",
   "version": "3.9.1rc1"
  }
 },
 "nbformat": 4,
 "nbformat_minor": 5
}
