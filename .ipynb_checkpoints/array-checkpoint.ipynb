{
 "cells": [
  {
   "cell_type": "code",
   "execution_count": 10,
   "id": "organizational-request",
   "metadata": {},
   "outputs": [],
   "source": [
    "# get the min distance\n",
    "\n",
    "def getMinDistance(array, item1, item2):\n",
    "    lastPos1 = -1\n",
    "    lastPos2 = -1\n",
    "    lens = len(array)\n",
    "    minDistance = 2**32\n",
    "    i = 0\n",
    "    while i < lens:\n",
    "        if array[i] == item1:\n",
    "            lastPos1 = i\n",
    "            if lastPos2 > 0:\n",
    "                minDistance = min(minDistance, lastPos1 - lastPos2)\n",
    "        if array[i] == item2:\n",
    "            lastPos2 = i\n",
    "            if lastPos1 > 0:\n",
    "                minDistance = min(minDistance, lastPos2 - lastPos1)\n",
    "        i += 1\n",
    "    return minDistance\n",
    "\n",
    "\n",
    "                \n",
    "                \n",
    "    "
   ]
  },
  {
   "cell_type": "code",
   "execution_count": 25,
   "id": "common-hands",
   "metadata": {},
   "outputs": [],
   "source": [
    "# get the max sub sums of array\n",
    "\n",
    "maxSums = -2**31\n",
    "def getMaxSubArray(array):\n",
    "    maxSums = -2**31\n",
    "    i = 0\n",
    "    lens = len(array)\n",
    "    while i < lens:\n",
    "        sums = 0\n",
    "        j = i\n",
    "        while j < lens:\n",
    "            sums += array[j]\n",
    "            if sums > maxSums:\n",
    "                maxSums = sums\n",
    "            j += 1\n",
    "        i += 1\n",
    "    return maxSums\n"
   ]
  },
  {
   "cell_type": "code",
   "execution_count": 26,
   "id": "interim-rebel",
   "metadata": {},
   "outputs": [
    {
     "data": {
      "text/plain": [
       "15"
      ]
     },
     "execution_count": 26,
     "metadata": {},
     "output_type": "execute_result"
    }
   ],
   "source": [
    "getMaxSubArray([1, -2, 4, 8, -4, 7, -1 ,-5])"
   ]
  },
  {
   "cell_type": "code",
   "execution_count": 28,
   "id": "inside-radiation",
   "metadata": {},
   "outputs": [
    {
     "data": {
      "text/plain": [
       "15"
      ]
     },
     "execution_count": 28,
     "metadata": {},
     "output_type": "execute_result"
    }
   ],
   "source": [
    "getMaxSubArray([1,2,3,4,5,-1])"
   ]
  },
  {
   "cell_type": "code",
   "execution_count": 29,
   "id": "approved-button",
   "metadata": {},
   "outputs": [
    {
     "data": {
      "text/plain": [
       "[1]"
      ]
     },
     "execution_count": 29,
     "metadata": {},
     "output_type": "execute_result"
    }
   ],
   "source": [
    "[1,2,3][0:1]"
   ]
  },
  {
   "cell_type": "code",
   "execution_count": null,
   "id": "employed-motion",
   "metadata": {},
   "outputs": [],
   "source": []
  }
 ],
 "metadata": {
  "kernelspec": {
   "display_name": "Python 3",
   "language": "python",
   "name": "python3"
  },
  "language_info": {
   "codemirror_mode": {
    "name": "ipython",
    "version": 3
   },
   "file_extension": ".py",
   "mimetype": "text/x-python",
   "name": "python",
   "nbconvert_exporter": "python",
   "pygments_lexer": "ipython3",
   "version": "3.9.1rc1"
  }
 },
 "nbformat": 4,
 "nbformat_minor": 5
}
