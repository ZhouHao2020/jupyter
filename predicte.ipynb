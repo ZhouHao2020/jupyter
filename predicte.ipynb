{
 "cells": [
  {
   "cell_type": "code",
   "execution_count": 5,
   "id": "representative-petite",
   "metadata": {},
   "outputs": [
    {
     "name": "stdout",
     "output_type": "stream",
     "text": [
      "xbn\n",
      "dewde\n",
      "False\n"
     ]
    }
   ],
   "source": [
    "def isPosiblities(string1, string2):\n",
    "    lens1, lens2 = len(string1), len(string2)\n",
    "    i = 0\n",
    "    if lens1 != lens2:\n",
    "        return False\n",
    "    if string1 == string2:\n",
    "        return False\n",
    "    resultList = []\n",
    "    while i < lens1:\n",
    "        if string1[i] != string2[i]:\n",
    "            resultList.append(i)\n",
    "        i += 1\n",
    "    if len(resultList) != 2:\n",
    "        return False\n",
    "    tempString1List = list(string1)\n",
    "    tempString1List[resultList[0]],tempString1List[resultList[1]] = tempString1List[resultList[1]],tempString1List[resultList[0]]\n",
    "    if \"\".join(tempString1List) == string2:\n",
    "        return True\n",
    "    return False\n",
    "\n",
    "string1 = input()\n",
    "string2 = input()\n",
    "print(isPosiblities(string1, string2))\n"
   ]
  },
  {
   "cell_type": "code",
   "execution_count": 18,
   "id": "general-intake",
   "metadata": {},
   "outputs": [
    {
     "name": "stdout",
     "output_type": "stream",
     "text": [
      "abcd\n",
      "['abcd', 'abdc', 'acbd', 'acdb', 'adcb', 'adbc', 'bacd', 'badc', 'bcad', 'bcda', 'bdca', 'bdac', 'cbad', 'cbda', 'cabd', 'cadb', 'cdab', 'cdba', 'dbca', 'dbac', 'dcba', 'dcab', 'dacb', 'dabc']\n"
     ]
    }
   ],
   "source": [
    "\n",
    "def getAllPos(string, lst, start):\n",
    "        if start < 0:\n",
    "            return \n",
    "        if start == len(string) - 1:\n",
    "            lst.append(\"\".join(string))\n",
    "        else:\n",
    "            i = start\n",
    "            while i < len(string):\n",
    "                string[i], string[start] = string[start], string[i]\n",
    "                getAllPos(string, lst, start + 1)\n",
    "                string[i], string[start] = string[start], string[i]\n",
    "                i += 1\n",
    "string = input()\n",
    "resultList = []\n",
    "getAllPos(list(string), resultList, 0)\n",
    "print(resultList)"
   ]
  },
  {
   "cell_type": "code",
   "execution_count": 17,
   "id": "false-graduation",
   "metadata": {},
   "outputs": [
    {
     "name": "stdout",
     "output_type": "stream",
     "text": [
      "5\n",
      "1 2 3 4 5\n",
      "2\n",
      "6\n",
      "3\n",
      "4\n",
      "5\n",
      "4\n",
      "3\n",
      "2\n"
     ]
    }
   ],
   "source": [
    "def getTargetNumbers(lens, lst, index, num):\n",
    "    backList = lst[::-1][1:]\n",
    "    preList = lst[1:]\n",
    "    resultList = []\n",
    "    resultList += lst[index:]\n",
    "    while len(resultList) < num:\n",
    "        resultList += backList\n",
    "        resultList += preList\n",
    "    return resultList\n",
    "lens = int(input())\n",
    "lst = list(map(int, input().strip().split(\" \")))\n",
    "index = int(input())\n",
    "num = int(input())\n",
    "result = getTargetNumbers(lens, lst, index, num)\n",
    "i = 0\n",
    "while i < num:\n",
    "    print(result[i])\n",
    "    i += 1"
   ]
  }
 ],
 "metadata": {
  "kernelspec": {
   "display_name": "Python 3",
   "language": "python",
   "name": "python3"
  },
  "language_info": {
   "codemirror_mode": {
    "name": "ipython",
    "version": 3
   },
   "file_extension": ".py",
   "mimetype": "text/x-python",
   "name": "python",
   "nbconvert_exporter": "python",
   "pygments_lexer": "ipython3",
   "version": "3.9.1rc1"
  }
 },
 "nbformat": 4,
 "nbformat_minor": 5
}
