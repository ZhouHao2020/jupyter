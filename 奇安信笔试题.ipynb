{
 "cells": [
  {
   "cell_type": "code",
   "execution_count": 21,
   "id": "lyric-masters",
   "metadata": {},
   "outputs": [
    {
     "name": "stdout",
     "output_type": "stream",
     "text": [
      "20\n",
      "2\n",
      "6 5\n",
      "3 2\n",
      "5 3\n",
      "[6, 1]\n",
      "33\n"
     ]
    }
   ],
   "source": [
    "x = int(input())\n",
    "count = int(input())\n",
    "lst1 = list(map(int, input().strip().split(\" \"))) # 限购数量\n",
    "lst2 = list(map(int, input().strip().split(\" \"))) # 当前价格 \n",
    "lst3 = list(map(int, input().strip().split(\" \"))) # 10天后价格\n",
    "i = 0\n",
    "lst = []\n",
    "while i < len(lst1):\n",
    "    lst.append((lst1[i], lst2[i], lst3[i]))\n",
    "    i += 1\n",
    "lst.sort(key = lambda x: x[2], reverse = True)\n",
    "\n",
    "def getMaxValue(lst, x):\n",
    "    tempList = [0 for i in range(len(lst))]\n",
    "    for index, (a, b, c) in enumerate(lst):\n",
    "        tempCount = x // b\n",
    "        if tempCount < a:\n",
    "            tempList[index] = tempCount\n",
    "            x = x - tempCount * b\n",
    "        else:\n",
    "            tempList[index] = a\n",
    "            x = x - a * b\n",
    "    count = 0\n",
    "    print(tempList)\n",
    "    \n",
    "    for i in range(len(tempList)):\n",
    "        count += tempList[i]*lst[i][2]\n",
    "    return count\n",
    "print(getMaxValue(lst, x))           "
   ]
  },
  {
   "cell_type": "code",
   "execution_count": null,
   "id": "indian-drunk",
   "metadata": {},
   "outputs": [],
   "source": [
    "11\n",
    "2\n",
    "6 5\n",
    "3 2\n",
    "5 3"
   ]
  },
  {
   "cell_type": "code",
   "execution_count": 11,
   "id": "understanding-grove",
   "metadata": {},
   "outputs": [],
   "source": [
    "\n",
    "def AttendMeetings(times):\n",
    "    # write code here\n",
    "    times.sort(key = lambda x: x[1])\n",
    "    tempList = []\n",
    "    tempList.append(times[0])\n",
    "    for i in range(1, len(times)):\n",
    "        if times[i][0] <= tempList[-1][1]:\n",
    "            tempList.append(times[i])\n",
    "    print(tempList)\n",
    "    return len(tempList)\n"
   ]
  },
  {
   "cell_type": "code",
   "execution_count": 14,
   "id": "focused-dialogue",
   "metadata": {},
   "outputs": [],
   "source": [
    "times = [[9,11],[10,12],[14,16],[14,15]]\n"
   ]
  },
  {
   "cell_type": "code",
   "execution_count": 15,
   "id": "choice-couple",
   "metadata": {},
   "outputs": [
    {
     "name": "stdout",
     "output_type": "stream",
     "text": [
      "[[9, 11], [10, 12]]\n"
     ]
    },
    {
     "data": {
      "text/plain": [
       "2"
      ]
     },
     "execution_count": 15,
     "metadata": {},
     "output_type": "execute_result"
    }
   ],
   "source": [
    "AttendMeetings(times)"
   ]
  },
  {
   "cell_type": "code",
   "execution_count": null,
   "id": "major-exhibit",
   "metadata": {},
   "outputs": [],
   "source": []
  }
 ],
 "metadata": {
  "kernelspec": {
   "display_name": "Python 3",
   "language": "python",
   "name": "python3"
  },
  "language_info": {
   "codemirror_mode": {
    "name": "ipython",
    "version": 3
   },
   "file_extension": ".py",
   "mimetype": "text/x-python",
   "name": "python",
   "nbconvert_exporter": "python",
   "pygments_lexer": "ipython3",
   "version": "3.9.1rc1"
  }
 },
 "nbformat": 4,
 "nbformat_minor": 5
}
