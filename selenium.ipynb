{
 "cells": [
  {
   "cell_type": "code",
   "execution_count": 7,
   "id": "configured-charger",
   "metadata": {},
   "outputs": [],
   "source": [
    "from selenium import webdriver\n",
    "import time"
   ]
  },
  {
   "cell_type": "code",
   "execution_count": 10,
   "id": "incorrect-relative",
   "metadata": {},
   "outputs": [],
   "source": [
    "obj = webdriver.Chrome(executable_path=\"./chromedriver\")\n",
    "obj.get(url=\"https://www.jd.com/\")\n",
    "# time.sleep(2)\n",
    "searchTag = obj.find_element_by_xpath('//*[@id=\"key\"]')\n",
    "searchTag.send_keys(\"iphonex\")\n",
    "buttonTag = obj.find_element_by_xpath('//*[@id=\"search\"]/div/div[2]/button')\n",
    "buttonTag.click()\n",
    "obj.execute_script('window.scrollTo(0,document.body.scrollHeight)')\n",
    "time.sleep(0.7)\n",
    "obj.execute_script('window.scrollTo(0,document.body.scrollHeight)')"
   ]
  },
  {
   "cell_type": "code",
   "execution_count": null,
   "id": "annoying-water",
   "metadata": {},
   "outputs": [],
   "source": []
  }
 ],
 "metadata": {
  "kernelspec": {
   "display_name": "Python 3",
   "language": "python",
   "name": "python3"
  },
  "language_info": {
   "codemirror_mode": {
    "name": "ipython",
    "version": 3
   },
   "file_extension": ".py",
   "mimetype": "text/x-python",
   "name": "python",
   "nbconvert_exporter": "python",
   "pygments_lexer": "ipython3",
   "version": "3.9.1rc1"
  }
 },
 "nbformat": 4,
 "nbformat_minor": 5
}
