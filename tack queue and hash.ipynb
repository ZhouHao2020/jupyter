{
 "cells": [
  {
   "cell_type": "code",
   "execution_count": 30,
   "id": "catholic-namibia",
   "metadata": {},
   "outputs": [],
   "source": [
    "# judge pop series depend on a push series\n",
    "\n",
    "def isseries(push, pop):\n",
    "    pushLen = len(push)\n",
    "    popLen = len(pop)\n",
    "    pushIndex = 0\n",
    "    popIndex = 0\n",
    "    stack = []\n",
    "    while pushIndex < pushLen:\n",
    "        stack.append(push[pushIndex])\n",
    "        print(stack)\n",
    "        pushIndex += 1\n",
    "        while  stack and stack[-1] == pop[popIndex]:\n",
    "            stack.pop()\n",
    "            popIndex += 1\n",
    "    print(popIndex,stack)\n",
    "    return not stack and popIndex == popLen\n"
   ]
  },
  {
   "cell_type": "code",
   "execution_count": 31,
   "id": "sorted-honey",
   "metadata": {
    "collapsed": true
   },
   "outputs": [
    {
     "name": "stdout",
     "output_type": "stream",
     "text": [
      "[1]\n",
      "[1, 2]\n",
      "[1, 2, 3]\n",
      "[1, 2, 3, 4]\n",
      "[1, 2, 3, 4, 5]\n",
      "5 []\n"
     ]
    }
   ],
   "source": [
    "status = isseries([1,2,3,4,5],[5,4,3,2,1])"
   ]
  },
  {
   "cell_type": "code",
   "execution_count": null,
   "id": "challenging-committee",
   "metadata": {},
   "outputs": [],
   "source": [
    "# two stack attach to queue\n",
    "\n",
    "class twoStackToQueue(object):\n",
    "    def __init__(self):\n",
    "        self.s1 = []\n",
    "        self.s2 = []\n",
    "    def pushQueue(self, item):\n",
    "        self.s1.append(item)\n",
    "    def popQueue(self):\n",
    "        if  self.s2:\n",
    "            return self.s2.pop()\n",
    "        while self.s1:\n",
    "            self.s2.append(self.s1.pop())\n",
    "        return self.s2.pop()\n",
    "    def popQUeue(self):\n",
    "        if not self.s2:\n",
    "            while self.s1:\n",
    "                self.s2.append(self.s1.pop())\n",
    "        return self.s2.pop()\n",
    "    \n",
    "    "
   ]
  },
  {
   "cell_type": "code",
   "execution_count": null,
   "id": "rocky-gibson",
   "metadata": {},
   "outputs": [],
   "source": [
    "# get the wanted route\n",
    "\n",
    "def getTargetRoute(routes):\n",
    "    reverseRoutes = dict()\n",
    "    for k,v in routes.items():\n",
    "        reverseRoutes[v] = k\n",
    "    for k,v in routes.items():\n",
    "        if k not in reverseRoutes:\n",
    "            start = k\n",
    "            break\n",
    "    targetRoute = []\n",
    "    while start and routes[start]:\n",
    "        targetRoute.append((start, routes[start]))\n",
    "        start = routes[start]\n",
    "    return targetRoute\n",
    "\n",
    "        \n",
    "        "
   ]
  },
  {
   "cell_type": "code",
   "execution_count": null,
   "id": "capable-cartoon",
   "metadata": {},
   "outputs": [],
   "source": []
  }
 ],
 "metadata": {
  "kernelspec": {
   "display_name": "Python 3",
   "language": "python",
   "name": "python3"
  },
  "language_info": {
   "codemirror_mode": {
    "name": "ipython",
    "version": 3
   },
   "file_extension": ".py",
   "mimetype": "text/x-python",
   "name": "python",
   "nbconvert_exporter": "python",
   "pygments_lexer": "ipython3",
   "version": "3.9.1rc1"
  }
 },
 "nbformat": 4,
 "nbformat_minor": 5
}
